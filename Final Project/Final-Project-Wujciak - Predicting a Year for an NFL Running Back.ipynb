{
 "cells": [
  {
   "cell_type": "code",
   "execution_count": 499,
   "metadata": {
    "collapsed": false,
    "deletable": true,
    "editable": true
   },
   "outputs": [],
   "source": [
    "%matplotlib inline\n",
    "import numpy as np\n",
    "import pandas as pd\n",
    "import seaborn as sns\n",
    "import matplotlib.pyplot as plt\n",
    "import re\n",
    "from pandas import Series\n",
    "from matplotlib import pyplot\n",
    "plt.style.use('ggplot')\n",
    "import statsmodels.api as sm\n",
    "from sklearn.metrics import mean_absolute_error\n",
    "from statsmodels.tsa.arima_model import ARIMA"
   ]
  },
  {
   "cell_type": "markdown",
   "metadata": {
    "deletable": true,
    "editable": true
   },
   "source": [
    "#### Import files for running back statistics and vitals from each player"
   ]
  },
  {
   "cell_type": "code",
   "execution_count": 500,
   "metadata": {
    "collapsed": false,
    "deletable": true,
    "editable": true
   },
   "outputs": [],
   "source": [
    "bs = pd.read_csv('../Final Project/Basic_Stats.csv')\n",
    "rb = pd.read_csv('../Final Project/Game_Logs_Runningback 2.csv')"
   ]
  },
  {
   "cell_type": "markdown",
   "metadata": {},
   "source": [
    "#### Remove stats from before 1980. Considering this the modern era of football."
   ]
  },
  {
   "cell_type": "code",
   "execution_count": 501,
   "metadata": {
    "collapsed": false
   },
   "outputs": [],
   "source": [
    "rb = rb.loc[(rb.Year > 1979)]\n",
    "# rb.Year.sort_values().head(2)"
   ]
  },
  {
   "cell_type": "markdown",
   "metadata": {},
   "source": [
    "#### Merge stats with player vitals"
   ]
  },
  {
   "cell_type": "code",
   "execution_count": 502,
   "metadata": {
    "collapsed": true,
    "deletable": true,
    "editable": true
   },
   "outputs": [],
   "source": [
    "bs = bs.set_index(['Player Id'])\n",
    "rb = rb.set_index(['Player Id'])"
   ]
  },
  {
   "cell_type": "code",
   "execution_count": 503,
   "metadata": {
    "collapsed": true
   },
   "outputs": [],
   "source": [
    "rb = rb.merge(bs)"
   ]
  },
  {
   "cell_type": "markdown",
   "metadata": {},
   "source": [
    "#### Search for then select the player you are interested in evaluating. This will narrow our dataframe and make the below cleanup run faster"
   ]
  },
  {
   "cell_type": "code",
   "execution_count": 504,
   "metadata": {
    "collapsed": false
   },
   "outputs": [
    {
     "data": {
      "text/plain": [
       "array(['Bell, Nick', \"Bell, Le'Veon\", 'Bell, Richard', 'Bell, Ken',\n",
       "       'Bell, Tatum', 'Bell, Ricky', 'Bell, Joique', 'Bell, William',\n",
       "       'Bell, Kahlil', 'Bell, Cameron', 'Bell, Greg', 'Bell, Mike'], dtype=object)"
      ]
     },
     "execution_count": 504,
     "metadata": {},
     "output_type": "execute_result"
    }
   ],
   "source": [
    "# search for a player's exact name. some are hard to spell\n",
    "search_player = 'Bell'\n",
    "search = rb[rb['Name'].str.contains(search_player)]\n",
    "search.Name.unique()"
   ]
  },
  {
   "cell_type": "code",
   "execution_count": 505,
   "metadata": {
    "collapsed": true
   },
   "outputs": [],
   "source": [
    "evaluate_player = 'Bell, Joique'\n",
    "evaluate_metric = 'Rushing Yards'\n",
    "eval = rb.loc[(rb['Name']==evaluate_player) & (rb['Season'] == 'Regular Season')]"
   ]
  },
  {
   "cell_type": "markdown",
   "metadata": {
    "deletable": true,
    "editable": true
   },
   "source": [
    "#### Clean Up Data"
   ]
  },
  {
   "cell_type": "code",
   "execution_count": 506,
   "metadata": {
    "collapsed": false
   },
   "outputs": [],
   "source": [
    "# drop unnecessary columns\n",
    "eval = eval.drop(['Birth Place',\n",
    " 'Birthday','High School',\n",
    " 'High School Location',\n",
    " 'Number','Years Played','Experience','Current Status','Current Team','Age'], axis=1, inplace=False)"
   ]
  },
  {
   "cell_type": "code",
   "execution_count": 507,
   "metadata": {
    "collapsed": true
   },
   "outputs": [],
   "source": [
    "# fix empty data and numeric issues\n",
    "eval = eval.replace('--',0)\n",
    "eval['Longest Rushing Run'] = eval['Longest Rushing Run'].map(lambda x: str(x).rstrip('T'))\n",
    "eval['Longest Reception'] = eval['Longest Reception'].map(lambda x: str(x).rstrip('T'))\n",
    "eval = eval.apply(pd.to_numeric, errors='ignore')"
   ]
  },
  {
   "cell_type": "code",
   "execution_count": 508,
   "metadata": {
    "collapsed": false
   },
   "outputs": [],
   "source": [
    "# create a timestamp as the index and make sure year is included and correctly sorted\n",
    "eval[\"Game Date\"] = eval[\"Game Date\"].map(str) + \"/\" + eval[\"Year\"].map(str)\n",
    "# dont run this code more than once. if you need to rerun this, rerun all cells before"
   ]
  },
  {
   "cell_type": "code",
   "execution_count": 509,
   "metadata": {
    "collapsed": true
   },
   "outputs": [],
   "source": [
    "eval[\"Game Date\"] = pd.to_datetime(eval[\"Game Date\"])\n",
    "eval_time = eval\n",
    "eval_time = eval_time.set_index('Game Date')\n",
    "eval_time = eval_time.sort_index()"
   ]
  },
  {
   "cell_type": "code",
   "execution_count": 510,
   "metadata": {
    "collapsed": false
   },
   "outputs": [],
   "source": [
    "# create a column with player experience\n",
    "# need to create a rookie year column to this most efficiently. then we drop it.\n",
    "def get_rookie_year(name):\n",
    "   rookie_year = eval_time.loc[eval_time['Name'] == name, 'Year'].min()\n",
    "   return rookie_year\n",
    "\n",
    "eval_time['Rookie Year'] = eval_time.apply(lambda x:get_rookie_year(x['Name']),axis=1)\n",
    "eval_time['Experience'] = eval_time['Year'] - eval_time['Rookie Year']\n",
    "eval_time = eval_time.drop(['Rookie Year'], axis=1, inplace=False)"
   ]
  },
  {
   "cell_type": "code",
   "execution_count": 511,
   "metadata": {
    "collapsed": false
   },
   "outputs": [],
   "source": [
    "# make consistent numeric datatype\n",
    "int_cols = ['Year', \n",
    "            'Week', \n",
    "            'Games Played', \n",
    "            'Games Started', \n",
    "            'Rushing Attempts', \n",
    "            'Rushing Yards', \n",
    "            'Longest Rushing Run', \n",
    "            'Rushing TDs', \n",
    "            'Receptions', \n",
    "            'Receiving Yards', \n",
    "            'Longest Reception', \n",
    "            'Receiving TDs', \n",
    "            'Fumbles', \n",
    "            'Fumbles Lost',\n",
    "            'Experience']\n",
    "for col in int_cols:\n",
    "    eval_time[col] = eval_time[col].astype(float)"
   ]
  },
  {
   "cell_type": "code",
   "execution_count": 512,
   "metadata": {
    "collapsed": false
   },
   "outputs": [
    {
     "data": {
      "image/png": "[encoded data removed]",
      "text/plain": [
       "<matplotlib.figure.Figure at 0x1179e7350>"
      ]
     },
     "metadata": {},
     "output_type": "display_data"
    }
   ],
   "source": [
    "eval_graph = eval_time[evaluate_metric]\n",
    "eval_graph.plot()\n",
    "pyplot.show()"
   ]
  },
  {
   "cell_type": "code",
   "execution_count": 513,
   "metadata": {
    "collapsed": false
   },
   "outputs": [],
   "source": [
    "# eval_graph"
   ]
  },
  {
   "cell_type": "code",
   "execution_count": 514,
   "metadata": {
    "collapsed": false
   },
   "outputs": [
    {
     "name": "stdout",
     "output_type": "stream",
     "text": [
      "Train 43, Test 43\n"
     ]
    }
   ],
   "source": [
    "# split datasets into train and test\n",
    "split_point =len(eval_time[evaluate_metric]) - (len(eval_time[evaluate_metric])/2)\n",
    "train, test = eval_time[evaluate_metric][0:split_point], eval_time[evaluate_metric][split_point:]\n",
    "print('Train %d, Test %d' % (len(train), len(test)))"
   ]
  },
  {
   "cell_type": "code",
   "execution_count": 515,
   "metadata": {
    "collapsed": true
   },
   "outputs": [],
   "source": [
    "# create a differenced series\n",
    "def difference(dataset, interval=1):\n",
    "    diff = list()\n",
    "    for i in range(interval, len(dataset)):\n",
    "        value = dataset[i] - dataset[i - interval]\n",
    "        diff.append(value)\n",
    "    return np.array(diff)\n",
    "\n",
    "# create inverted differenced value\n",
    "def inverse_difference(history, yhat, interval=1):\n",
    "    return yhat + history[-interval]"
   ]
  },
  {
   "cell_type": "code",
   "execution_count": 516,
   "metadata": {
    "collapsed": false
   },
   "outputs": [
    {
     "data": {
      "text/plain": [
       "74"
      ]
     },
     "execution_count": 516,
     "metadata": {},
     "output_type": "execute_result"
    }
   ],
   "source": [
    "# use difference function to de-seasonalize\n",
    "x=eval_time[evaluate_metric].values.astype(float)\n",
    "differenced = difference(x, 12)\n",
    "len(differenced)"
   ]
  },
  {
   "cell_type": "code",
   "execution_count": 517,
   "metadata": {
    "collapsed": false
   },
   "outputs": [
    {
     "name": "stderr",
     "output_type": "stream",
     "text": [
      "/Users/jwujciak/miniconda/envs/ipykernel_py2/lib/python2.7/site-packages/statsmodels/base/model.py:496: ConvergenceWarning: Maximum Likelihood optimization failed to converge. Check mle_retvals\n",
      "  \"Check mle_retvals\", ConvergenceWarning)\n"
     ]
    },
    {
     "name": "stdout",
     "output_type": "stream",
     "text": [
      "                              ARMA Model Results                              \n",
      "==============================================================================\n",
      "Dep. Variable:                      y   No. Observations:                   74\n",
      "Model:                     ARMA(5, 1)   Log Likelihood                -361.487\n",
      "Method:                       css-mle   S.D. of innovations             31.512\n",
      "Date:                Tue, 03 Oct 2017   AIC                            738.974\n",
      "Time:                        14:58:08   BIC                            757.406\n",
      "Sample:                             0   HQIC                           746.327\n",
      "                                                                              \n",
      "==============================================================================\n",
      "                 coef    std err          z      P>|z|      [0.025      0.975]\n",
      "------------------------------------------------------------------------------\n",
      "const          1.1606      8.732      0.133      0.895     -15.954      18.275\n",
      "ar.L1.y       -0.5735      0.116     -4.952      0.000      -0.801      -0.347\n",
      "ar.L2.y        0.3438      0.131      2.631      0.011       0.088       0.600\n",
      "ar.L3.y        0.2817      0.132      2.129      0.037       0.022       0.541\n",
      "ar.L4.y        0.1497      0.131      1.141      0.258      -0.108       0.407\n",
      "ar.L5.y       -0.0177      0.116     -0.153      0.879      -0.244       0.209\n",
      "ma.L1.y        0.9999      0.041     24.665      0.000       0.920       1.079\n",
      "                                    Roots                                    \n",
      "=============================================================================\n",
      "                 Real           Imaginary           Modulus         Frequency\n",
      "-----------------------------------------------------------------------------\n",
      "AR.1            1.3618           -0.0000j            1.3618           -0.0000\n",
      "AR.2           -1.1628           -0.0000j            1.1628           -0.5000\n",
      "AR.3           -0.9577           -1.6096j            1.8730           -0.3354\n",
      "AR.4           -0.9577           +1.6096j            1.8730            0.3354\n",
      "AR.5           10.1859           -0.0000j           10.1859           -0.0000\n",
      "MA.1           -1.0001           +0.0000j            1.0001            0.5000\n",
      "-----------------------------------------------------------------------------\n"
     ]
    }
   ],
   "source": [
    "# fit model\n",
    "model = ARIMA(differenced, order=(5,0,1))\n",
    "model_fit = model.fit(disp=0)\n",
    "# print(\"Mean absolute error: \", mean_absolute_error(test, train))\n",
    "print(model_fit.summary())"
   ]
  },
  {
   "cell_type": "code",
   "execution_count": 518,
   "metadata": {
    "collapsed": false
   },
   "outputs": [],
   "source": [
    "# multi-step out-of-sample forecast\n",
    "forecast = model_fit.forecast(steps=34)[0]\n",
    "# invert the differenced forecast to something usable\n",
    "history = [y for y in x]\n",
    "game = 1\n",
    "for yhat in forecast:\n",
    "    inverted = inverse_difference(history, yhat, 12)\n",
    "    # print('Game %d: %f' % (game, inverted))\n",
    "    history.append(inverted)\n",
    "    game += 1"
   ]
  },
  {
   "cell_type": "code",
   "execution_count": 519,
   "metadata": {
    "collapsed": false
   },
   "outputs": [
    {
     "data": {
      "text/plain": [
       "proj_rush_yrds    34\n",
       "dtype: int64"
      ]
     },
     "execution_count": 519,
     "metadata": {},
     "output_type": "execute_result"
    }
   ],
   "source": [
    "hist = list(history)\n",
    "df_hist = pd.DataFrame(hist, columns=['proj_rush_yrds'])\n",
    "forecasts = len(df_hist)-34\n",
    "df_hist = df_hist[forecasts:]\n",
    "df_hist = df_hist.reset_index(drop=True)\n",
    "df_hist.count()"
   ]
  },
  {
   "cell_type": "code",
   "execution_count": 520,
   "metadata": {
    "collapsed": false
   },
   "outputs": [],
   "source": [
    "forecast_game_dates = ['2016-01-01','2016-09-11','2016-09-18','2016-09-25','2016-10-02','2016-10-09','2016-10-16','2016-10-23', '2016-10-30', '2016-11-06', '2016-11-13', '2016-11-20', '2016-11-27', '2016-12-04', '2016-12-11', '2016-12-18', '2016-12-25',\n",
    "                      '2017-01-01','2017-09-10','2017-09-17','2017-09-24', '2017-10-01', '2017-10-08', '2017-10-15', '2017-10-22', '2017-10-29', '2017-11-05', '2017-11-12', '2017-11-19', '2017-11-26', '2017-12-03', '2017-12-10', '2017-12-17', '2017-12-24'] # padding\n",
    "# create a list of the dates of the 2016 and 2017 games that we test on and will project to\n",
    "# forecast_game_dates"
   ]
  },
  {
   "cell_type": "code",
   "execution_count": 521,
   "metadata": {
    "collapsed": false
   },
   "outputs": [
    {
     "data": {
      "text/plain": [
       "game_date    34\n",
       "dtype: int64"
      ]
     },
     "execution_count": 521,
     "metadata": {},
     "output_type": "execute_result"
    }
   ],
   "source": [
    "df_dates = pd.DataFrame(forecast_game_dates, columns=['game_date'])\n",
    "df_dates.count()"
   ]
  },
  {
   "cell_type": "code",
   "execution_count": 522,
   "metadata": {
    "collapsed": false
   },
   "outputs": [],
   "source": [
    "df_forecast = df_hist.join(df_dates).set_index('game_date')"
   ]
  },
  {
   "cell_type": "code",
   "execution_count": 523,
   "metadata": {
    "collapsed": false
   },
   "outputs": [
    {
     "data": {
      "text/plain": [
       "<matplotlib.axes._subplots.AxesSubplot at 0x1179e7590>"
      ]
     },
     "execution_count": 523,
     "metadata": {},
     "output_type": "execute_result"
    },
    {
     "data": {
      "image/png": "[encoded data removed]",
      "text/plain": [
       "<matplotlib.figure.Figure at 0x116d6e710>"
      ]
     },
     "metadata": {},
     "output_type": "display_data"
    }
   ],
   "source": [
    "df_forecast.plot()"
   ]
  },
  {
   "cell_type": "code",
   "execution_count": 524,
   "metadata": {
    "collapsed": false
   },
   "outputs": [
    {
     "data": {
      "text/html": [
       "<div>\n",
       "<style>\n",
       "    .dataframe thead tr:only-child th {\n",
       "        text-align: right;\n",
       "    }\n",
       "\n",
       "    .dataframe thead th {\n",
       "        text-align: left;\n",
       "    }\n",
       "\n",
       "    .dataframe tbody tr th {\n",
       "        vertical-align: top;\n",
       "    }\n",
       "</style>\n",
       "<table border=\"1\" class=\"dataframe\">\n",
       "  <thead>\n",
       "    <tr style=\"text-align: right;\">\n",
       "      <th></th>\n",
       "      <th>Game Date</th>\n",
       "      <th>Rushing Yards</th>\n",
       "    </tr>\n",
       "  </thead>\n",
       "  <tbody>\n",
       "    <tr>\n",
       "      <th>0</th>\n",
       "      <td>2010-09-26</td>\n",
       "      <td>0.0</td>\n",
       "    </tr>\n",
       "    <tr>\n",
       "      <th>1</th>\n",
       "      <td>2010-10-03</td>\n",
       "      <td>0.0</td>\n",
       "    </tr>\n",
       "    <tr>\n",
       "      <th>2</th>\n",
       "      <td>2010-10-10</td>\n",
       "      <td>0.0</td>\n",
       "    </tr>\n",
       "    <tr>\n",
       "      <th>3</th>\n",
       "      <td>2010-10-17</td>\n",
       "      <td>0.0</td>\n",
       "    </tr>\n",
       "    <tr>\n",
       "      <th>4</th>\n",
       "      <td>2010-10-24</td>\n",
       "      <td>0.0</td>\n",
       "    </tr>\n",
       "  </tbody>\n",
       "</table>\n",
       "</div>"
      ],
      "text/plain": [
       "   Game Date  Rushing Yards\n",
       "0 2010-09-26            0.0\n",
       "1 2010-10-03            0.0\n",
       "2 2010-10-10            0.0\n",
       "3 2010-10-17            0.0\n",
       "4 2010-10-24            0.0"
      ]
     },
     "execution_count": 524,
     "metadata": {},
     "output_type": "execute_result"
    }
   ],
   "source": [
    "given = eval_graph.reset_index()\n",
    "predicted = df_forecast.reset_index()\n",
    "given.head()"
   ]
  },
  {
   "cell_type": "code",
   "execution_count": 525,
   "metadata": {
    "collapsed": false
   },
   "outputs": [],
   "source": [
    "# df_forecast"
   ]
  },
  {
   "cell_type": "code",
   "execution_count": 528,
   "metadata": {
    "collapsed": false
   },
   "outputs": [
    {
     "data": {
      "image/png": "[encoded data removed]",
      "text/plain": [
       "<matplotlib.figure.Figure at 0x118415b10>"
      ]
     },
     "metadata": {},
     "output_type": "display_data"
    }
   ],
   "source": [
    "ax = predicted.plot()\n",
    "given.plot(ax=ax)\n",
    "pyplot.show()"
   ]
  },
  {
   "cell_type": "code",
   "execution_count": null,
   "metadata": {
    "collapsed": true
   },
   "outputs": [],
   "source": []
  },
  {
   "cell_type": "code",
   "execution_count": null,
   "metadata": {
    "collapsed": true
   },
   "outputs": [],
   "source": []
  }
 ],
 "metadata": {
  "kernelspec": {
   "display_name": "Python 2",
   "language": "python",
   "name": "python2"
  },
  "language_info": {
   "codemirror_mode": {
    "name": "ipython",
    "version": 2
   },
   "file_extension": ".py",
   "mimetype": "text/x-python",
   "name": "python",
   "nbconvert_exporter": "python",
   "pygments_lexer": "ipython2",
   "version": "2.7.13"
  }
 },
 "nbformat": 4,
 "nbformat_minor": 2
}
