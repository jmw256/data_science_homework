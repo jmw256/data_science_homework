{
 "cells": [
  {
   "cell_type": "markdown",
   "metadata": {},
   "source": [
    "# Wujciak Final Project - Predicting a Year for an NFL Running Back"
   ]
  },
  {
   "cell_type": "code",
   "execution_count": 1611,
   "metadata": {
    "collapsed": false,
    "deletable": true,
    "editable": true
   },
   "outputs": [],
   "source": [
    "%matplotlib inline\n",
    "import numpy as np\n",
    "import pandas as pd\n",
    "import seaborn as sns\n",
    "import matplotlib.pyplot as plt\n",
    "import re\n",
    "from pandas import Series\n",
    "from matplotlib import pyplot\n",
    "plt.style.use('ggplot')\n",
    "import statsmodels.api as sm\n",
    "from sklearn.metrics import mean_absolute_error\n",
    "from statsmodels.tsa.arima_model import ARIMA"
   ]
  },
  {
   "cell_type": "markdown",
   "metadata": {
    "deletable": true,
    "editable": true
   },
   "source": [
    "#### Import files for running back statistics and vitals from each player"
   ]
  },
  {
   "cell_type": "code",
   "execution_count": 1612,
   "metadata": {
    "collapsed": false,
    "deletable": true,
    "editable": true
   },
   "outputs": [],
   "source": [
    "bs = pd.read_csv('../Final Project/Basic_Stats.csv')\n",
    "rb = pd.read_csv('../Final Project/Game_Logs_Runningback 2.csv')"
   ]
  },
  {
   "cell_type": "markdown",
   "metadata": {},
   "source": [
    "#### Remove stats from before 1980. Considering this the modern era of football."
   ]
  },
  {
   "cell_type": "code",
   "execution_count": 1613,
   "metadata": {
    "collapsed": false
   },
   "outputs": [],
   "source": [
    "rb = rb.loc[(rb.Year > 1979)]\n",
    "# rb.Year.sort_values().head(2)"
   ]
  },
  {
   "cell_type": "markdown",
   "metadata": {},
   "source": [
    "#### Merge stats with player vitals"
   ]
  },
  {
   "cell_type": "code",
   "execution_count": 1614,
   "metadata": {
    "collapsed": true,
    "deletable": true,
    "editable": true
   },
   "outputs": [],
   "source": [
    "bs = bs.set_index(['Player Id'])\n",
    "rb = rb.set_index(['Player Id'])"
   ]
  },
  {
   "cell_type": "code",
   "execution_count": 1615,
   "metadata": {
    "collapsed": true
   },
   "outputs": [],
   "source": [
    "rb = rb.merge(bs)"
   ]
  },
  {
   "cell_type": "markdown",
   "metadata": {},
   "source": [
    "#### Search for then select the player you are interested in evaluating. This will narrow our dataframe and make the below cleanup run faster"
   ]
  },
  {
   "cell_type": "code",
   "execution_count": 1645,
   "metadata": {
    "collapsed": false
   },
   "outputs": [
    {
     "data": {
      "text/plain": [
       "array(['Gore, Frank'], dtype=object)"
      ]
     },
     "execution_count": 1645,
     "metadata": {},
     "output_type": "execute_result"
    }
   ],
   "source": [
    "# search for a player's exact name. some are hard to spell\n",
    "search_player = 'Gore'\n",
    "search = rb[rb['Name'].str.contains(search_player)]\n",
    "search.Name.unique()"
   ]
  },
  {
   "cell_type": "code",
   "execution_count": 1646,
   "metadata": {
    "collapsed": true
   },
   "outputs": [],
   "source": [
    "evaluate_player = 'Gore, Frank'\n",
    "evaluate_metric = 'Rushing Yards'\n",
    "eval = rb.loc[(rb['Name']==evaluate_player) & (rb['Season'] == 'Regular Season')]"
   ]
  },
  {
   "cell_type": "markdown",
   "metadata": {
    "deletable": true,
    "editable": true
   },
   "source": [
    "#### Clean Up Data"
   ]
  },
  {
   "cell_type": "code",
   "execution_count": 1647,
   "metadata": {
    "collapsed": false
   },
   "outputs": [],
   "source": [
    "# drop unnecessary columns\n",
    "eval = eval.drop(['Birth Place',\n",
    " 'Birthday','High School',\n",
    " 'High School Location',\n",
    " 'Number','Years Played','Experience','Current Status','Current Team','Age'], axis=1, inplace=False)"
   ]
  },
  {
   "cell_type": "code",
   "execution_count": 1648,
   "metadata": {
    "collapsed": true
   },
   "outputs": [],
   "source": [
    "# fix empty data and numeric issues\n",
    "eval = eval.replace('--',0)\n",
    "eval['Longest Rushing Run'] = eval['Longest Rushing Run'].map(lambda x: str(x).rstrip('T'))\n",
    "eval['Longest Reception'] = eval['Longest Reception'].map(lambda x: str(x).rstrip('T'))\n",
    "eval = eval.apply(pd.to_numeric, errors='ignore')"
   ]
  },
  {
   "cell_type": "code",
   "execution_count": 1649,
   "metadata": {
    "collapsed": false
   },
   "outputs": [],
   "source": [
    "# create a timestamp as the index and make sure year is included and correctly sorted\n",
    "eval[\"Game Date\"] = eval[\"Game Date\"].map(str) + \"/\" + eval[\"Year\"].map(str)\n",
    "# dont run this code more than once. if you need to rerun this, rerun all cells before"
   ]
  },
  {
   "cell_type": "code",
   "execution_count": 1650,
   "metadata": {
    "collapsed": true
   },
   "outputs": [],
   "source": [
    "eval[\"Game Date\"] = pd.to_datetime(eval[\"Game Date\"])\n",
    "eval_time = eval\n",
    "eval_time = eval_time.set_index('Game Date')\n",
    "eval_time = eval_time.sort_index()"
   ]
  },
  {
   "cell_type": "code",
   "execution_count": 1651,
   "metadata": {
    "collapsed": false
   },
   "outputs": [],
   "source": [
    "# create a column with player experience\n",
    "# need to create a rookie year column to this most efficiently. then we drop it.\n",
    "def get_rookie_year(name):\n",
    "   rookie_year = eval_time.loc[eval_time['Name'] == name, 'Year'].min()\n",
    "   return rookie_year\n",
    "\n",
    "eval_time['Rookie Year'] = eval_time.apply(lambda x:get_rookie_year(x['Name']),axis=1)\n",
    "eval_time['Experience'] = eval_time['Year'] - eval_time['Rookie Year']\n",
    "eval_time = eval_time.drop(['Rookie Year'], axis=1, inplace=False)"
   ]
  },
  {
   "cell_type": "code",
   "execution_count": 1652,
   "metadata": {
    "collapsed": false
   },
   "outputs": [],
   "source": [
    "# make consistent numeric datatype\n",
    "int_cols = ['Year', \n",
    "            'Week', \n",
    "            'Games Played', \n",
    "            'Games Started', \n",
    "            'Rushing Attempts', \n",
    "            'Rushing Yards', \n",
    "            'Longest Rushing Run', \n",
    "            'Rushing TDs', \n",
    "            'Receptions', \n",
    "            'Receiving Yards', \n",
    "            'Longest Reception', \n",
    "            'Receiving TDs', \n",
    "            'Fumbles', \n",
    "            'Fumbles Lost',\n",
    "            'Experience']\n",
    "for col in int_cols:\n",
    "    eval_time[col] = eval_time[col].astype(float)"
   ]
  },
  {
   "cell_type": "code",
   "execution_count": 1653,
   "metadata": {
    "collapsed": false
   },
   "outputs": [
    {
     "data": {
      "image/png": "[encoded data removed]",
      "text/plain": [
       "<matplotlib.figure.Figure at 0x11a78ff10>"
      ]
     },
     "metadata": {},
     "output_type": "display_data"
    }
   ],
   "source": [
    "eval_graph = eval_time[evaluate_metric]\n",
    "eval_graph.plot()\n",
    "pyplot.show()\n",
    "# this is what it looks like year over year\n",
    "# crazy right? football is by definition seasonal (no stats in offseason). will use a model to correct for this"
   ]
  },
  {
   "cell_type": "code",
   "execution_count": 1654,
   "metadata": {
    "collapsed": false
   },
   "outputs": [],
   "source": [
    "# eval_graph"
   ]
  },
  {
   "cell_type": "markdown",
   "metadata": {},
   "source": [
    "#### Build Model"
   ]
  },
  {
   "cell_type": "code",
   "execution_count": 1655,
   "metadata": {
    "collapsed": false
   },
   "outputs": [
    {
     "name": "stdout",
     "output_type": "stream",
     "text": [
      "Train 94, Test 94\n"
     ]
    }
   ],
   "source": [
    "# split datasets into train and test\n",
    "split_point =len(eval_time[evaluate_metric])/2\n",
    "train, test = eval_time[evaluate_metric][0:split_point+1], eval_time[evaluate_metric][split_point:]\n",
    "\n",
    "# should either be +1 or +0. one of the options will error out the MSE two cells down. the other will not.\n",
    "# just try both if you get an error\n",
    "\n",
    "print('Train %d, Test %d' % (len(train), len(test)))"
   ]
  },
  {
   "cell_type": "code",
   "execution_count": 1656,
   "metadata": {
    "collapsed": true
   },
   "outputs": [],
   "source": [
    "# create a differenced series\n",
    "def difference(dataset, interval=1):\n",
    "    diff = list()\n",
    "    for i in range(interval, len(dataset)):\n",
    "        value = dataset[i] - dataset[i - interval]\n",
    "        diff.append(value)\n",
    "    return np.array(diff)\n",
    "\n",
    "# create inverted differenced value\n",
    "def inverse_difference(history, yhat, interval=1):\n",
    "    return yhat + history[-interval]"
   ]
  },
  {
   "cell_type": "code",
   "execution_count": 1657,
   "metadata": {
    "collapsed": false
   },
   "outputs": [
    {
     "data": {
      "text/plain": [
       "175"
      ]
     },
     "execution_count": 1657,
     "metadata": {},
     "output_type": "execute_result"
    }
   ],
   "source": [
    "# use difference function to de-seasonalize\n",
    "x=eval_time[evaluate_metric].values.astype(float)\n",
    "differenced = difference(x, 12)\n",
    "len(differenced)"
   ]
  },
  {
   "cell_type": "code",
   "execution_count": 1658,
   "metadata": {
    "collapsed": false
   },
   "outputs": [
    {
     "name": "stdout",
     "output_type": "stream",
     "text": [
      "('Mean absolute error: ', 50.212765957446805)\n",
      "                              ARMA Model Results                              \n",
      "==============================================================================\n",
      "Dep. Variable:                      y   No. Observations:                  175\n",
      "Model:                     ARMA(5, 1)   Log Likelihood                -964.268\n",
      "Method:                       css-mle   S.D. of innovations             59.356\n",
      "Date:                Wed, 04 Oct 2017   AIC                           1944.536\n",
      "Time:                        09:12:57   BIC                           1969.855\n",
      "Sample:                             0   HQIC                          1954.806\n",
      "                                                                              \n",
      "==============================================================================\n",
      "                 coef    std err          z      P>|z|      [0.025      0.975]\n",
      "------------------------------------------------------------------------------\n",
      "const         -0.0995      0.996     -0.100      0.920      -2.051       1.852\n",
      "ar.L1.y        1.0484      0.076     13.884      0.000       0.900       1.196\n",
      "ar.L2.y        0.0536      0.110      0.489      0.625      -0.161       0.268\n",
      "ar.L3.y       -0.1339      0.109     -1.224      0.223      -0.348       0.081\n",
      "ar.L4.y       -0.0160      0.110     -0.146      0.884      -0.231       0.199\n",
      "ar.L5.y       -0.0348      0.078     -0.446      0.656      -0.188       0.118\n",
      "ma.L1.y       -1.0000      0.016    -61.222      0.000      -1.032      -0.968\n",
      "                                    Roots                                    \n",
      "=============================================================================\n",
      "                 Real           Imaginary           Modulus         Frequency\n",
      "-----------------------------------------------------------------------------\n",
      "AR.1            1.2548           -0.0986j            1.2587           -0.0125\n",
      "AR.2            1.2548           +0.0986j            1.2587            0.0125\n",
      "AR.3           -2.2434           -0.0000j            2.2434           -0.5000\n",
      "AR.4           -0.3636           -2.8209j            2.8442           -0.2704\n",
      "AR.5           -0.3636           +2.8209j            2.8442            0.2704\n",
      "MA.1            1.0000           +0.0000j            1.0000            0.0000\n",
      "-----------------------------------------------------------------------------\n"
     ]
    }
   ],
   "source": [
    "# fit ARIMA model\n",
    "model = ARIMA(differenced, order=(5,0,1))\n",
    "model_fit = model.fit(disp=0)\n",
    "print(\"Mean absolute error: \", mean_absolute_error(test, train))\n",
    "print(model_fit.summary())"
   ]
  },
  {
   "cell_type": "code",
   "execution_count": 1659,
   "metadata": {
    "collapsed": false
   },
   "outputs": [],
   "source": [
    "# multi-step out-of-sample forecast\n",
    "forecast = model_fit.forecast(steps=34)[0]\n",
    "# invert the differenced forecast to something usable using the above function\n",
    "history = [y for y in x]\n",
    "game = 1\n",
    "for yhat in forecast:\n",
    "    inverted = inverse_difference(history, yhat, 12)\n",
    "    # print('Game %d: %f' % (game, inverted))\n",
    "    history.append(inverted)\n",
    "    game += 1"
   ]
  },
  {
   "cell_type": "markdown",
   "metadata": {},
   "source": [
    "#### Visualize for Final Decision Making"
   ]
  },
  {
   "cell_type": "code",
   "execution_count": 1660,
   "metadata": {
    "collapsed": false
   },
   "outputs": [
    {
     "data": {
      "text/plain": [
       "proj_rush_yrds    34\n",
       "dtype: int64"
      ]
     },
     "execution_count": 1660,
     "metadata": {},
     "output_type": "execute_result"
    }
   ],
   "source": [
    "# take the outputs from the model and put in a dataframe. verify count\n",
    "hist = list(history)\n",
    "df_hist = pd.DataFrame(hist, columns=['proj_rush_yrds'])\n",
    "forecasts = len(df_hist)-34\n",
    "df_hist = df_hist[forecasts:]\n",
    "df_hist = df_hist.reset_index(drop=True)\n",
    "df_hist.count()"
   ]
  },
  {
   "cell_type": "code",
   "execution_count": 1661,
   "metadata": {
    "collapsed": false
   },
   "outputs": [],
   "source": [
    "# create a list of the dates of the 2016 and 2017 games that we test on and will project to\n",
    "# basically manually adding dates on sundays for 2016 and 2017.\n",
    "# games sporadically occur on a monday and thursday for tv viewing purposes so we will just pretend everything is sunday\n",
    "forecast_game_dates = ['2016-01-01','2016-09-11','2016-09-18','2016-09-25','2016-10-02','2016-10-09','2016-10-16','2016-10-23', '2016-10-30', '2016-11-06', '2016-11-13', '2016-11-20', '2016-11-27', '2016-12-04', '2016-12-11', '2016-12-18', '2016-12-25',\n",
    "                      '2017-01-01','2017-09-10','2017-09-17','2017-09-24', '2017-10-01', '2017-10-08', '2017-10-15', '2017-10-22', '2017-10-29', '2017-11-05', '2017-11-12', '2017-11-19', '2017-11-26', '2017-12-03', '2017-12-10', '2017-12-17', '2017-12-24'] # padding\n",
    "# forecast_game_dates"
   ]
  },
  {
   "cell_type": "code",
   "execution_count": 1662,
   "metadata": {
    "collapsed": false
   },
   "outputs": [
    {
     "data": {
      "text/plain": [
       "game_date    34\n",
       "dtype: int64"
      ]
     },
     "execution_count": 1662,
     "metadata": {},
     "output_type": "execute_result"
    }
   ],
   "source": [
    "#dates list to dataframe. verify count\n",
    "df_dates = pd.DataFrame(forecast_game_dates, columns=['game_date'])\n",
    "df_dates.count()"
   ]
  },
  {
   "cell_type": "code",
   "execution_count": 1663,
   "metadata": {
    "collapsed": false
   },
   "outputs": [],
   "source": [
    "df_forecast = df_hist.join(df_dates).set_index('game_date')"
   ]
  },
  {
   "cell_type": "code",
   "execution_count": 1664,
   "metadata": {
    "collapsed": false
   },
   "outputs": [],
   "source": [
    "# df_forecast.plot()"
   ]
  },
  {
   "cell_type": "code",
   "execution_count": 1665,
   "metadata": {
    "collapsed": false
   },
   "outputs": [],
   "source": [
    "# df_forecast"
   ]
  },
  {
   "cell_type": "code",
   "execution_count": 1666,
   "metadata": {
    "collapsed": false
   },
   "outputs": [],
   "source": [
    "# eval_graph"
   ]
  },
  {
   "cell_type": "code",
   "execution_count": 1667,
   "metadata": {
    "collapsed": false
   },
   "outputs": [],
   "source": [
    "given = eval_graph.reset_index()\n",
    "predicted = df_forecast.reset_index()"
   ]
  },
  {
   "cell_type": "code",
   "execution_count": 1668,
   "metadata": {
    "collapsed": false
   },
   "outputs": [
    {
     "data": {
      "text/html": [
       "<div>\n",
       "<style>\n",
       "    .dataframe thead tr:only-child th {\n",
       "        text-align: right;\n",
       "    }\n",
       "\n",
       "    .dataframe thead th {\n",
       "        text-align: left;\n",
       "    }\n",
       "\n",
       "    .dataframe tbody tr th {\n",
       "        vertical-align: top;\n",
       "    }\n",
       "</style>\n",
       "<table border=\"1\" class=\"dataframe\">\n",
       "  <thead>\n",
       "    <tr style=\"text-align: right;\">\n",
       "      <th></th>\n",
       "      <th>Game Date</th>\n",
       "      <th>Rushing Yards</th>\n",
       "    </tr>\n",
       "  </thead>\n",
       "  <tbody>\n",
       "    <tr>\n",
       "      <th>0</th>\n",
       "      <td>2005-01-01</td>\n",
       "      <td>108.0</td>\n",
       "    </tr>\n",
       "    <tr>\n",
       "      <th>1</th>\n",
       "      <td>2005-09-11</td>\n",
       "      <td>17.0</td>\n",
       "    </tr>\n",
       "    <tr>\n",
       "      <th>2</th>\n",
       "      <td>2005-09-18</td>\n",
       "      <td>15.0</td>\n",
       "    </tr>\n",
       "    <tr>\n",
       "      <th>3</th>\n",
       "      <td>2005-09-25</td>\n",
       "      <td>42.0</td>\n",
       "    </tr>\n",
       "    <tr>\n",
       "      <th>4</th>\n",
       "      <td>2005-10-02</td>\n",
       "      <td>4.0</td>\n",
       "    </tr>\n",
       "    <tr>\n",
       "      <th>5</th>\n",
       "      <td>2005-10-09</td>\n",
       "      <td>31.0</td>\n",
       "    </tr>\n",
       "    <tr>\n",
       "      <th>6</th>\n",
       "      <td>2005-10-23</td>\n",
       "      <td>89.0</td>\n",
       "    </tr>\n",
       "    <tr>\n",
       "      <th>7</th>\n",
       "      <td>2005-10-30</td>\n",
       "      <td>40.0</td>\n",
       "    </tr>\n",
       "    <tr>\n",
       "      <th>8</th>\n",
       "      <td>2005-11-06</td>\n",
       "      <td>33.0</td>\n",
       "    </tr>\n",
       "    <tr>\n",
       "      <th>9</th>\n",
       "      <td>2005-11-13</td>\n",
       "      <td>55.0</td>\n",
       "    </tr>\n",
       "    <tr>\n",
       "      <th>10</th>\n",
       "      <td>2005-11-20</td>\n",
       "      <td>0.0</td>\n",
       "    </tr>\n",
       "    <tr>\n",
       "      <th>11</th>\n",
       "      <td>2005-11-27</td>\n",
       "      <td>0.0</td>\n",
       "    </tr>\n",
       "    <tr>\n",
       "      <th>12</th>\n",
       "      <td>2005-12-04</td>\n",
       "      <td>22.0</td>\n",
       "    </tr>\n",
       "    <tr>\n",
       "      <th>13</th>\n",
       "      <td>2005-12-11</td>\n",
       "      <td>5.0</td>\n",
       "    </tr>\n",
       "    <tr>\n",
       "      <th>14</th>\n",
       "      <td>2005-12-18</td>\n",
       "      <td>79.0</td>\n",
       "    </tr>\n",
       "    <tr>\n",
       "      <th>15</th>\n",
       "      <td>2005-12-24</td>\n",
       "      <td>68.0</td>\n",
       "    </tr>\n",
       "    <tr>\n",
       "      <th>16</th>\n",
       "      <td>2006-09-10</td>\n",
       "      <td>87.0</td>\n",
       "    </tr>\n",
       "    <tr>\n",
       "      <th>17</th>\n",
       "      <td>2006-09-17</td>\n",
       "      <td>127.0</td>\n",
       "    </tr>\n",
       "    <tr>\n",
       "      <th>18</th>\n",
       "      <td>2006-09-24</td>\n",
       "      <td>52.0</td>\n",
       "    </tr>\n",
       "    <tr>\n",
       "      <th>19</th>\n",
       "      <td>2006-10-01</td>\n",
       "      <td>65.0</td>\n",
       "    </tr>\n",
       "    <tr>\n",
       "      <th>20</th>\n",
       "      <td>2006-10-08</td>\n",
       "      <td>134.0</td>\n",
       "    </tr>\n",
       "    <tr>\n",
       "      <th>21</th>\n",
       "      <td>2006-10-15</td>\n",
       "      <td>55.0</td>\n",
       "    </tr>\n",
       "    <tr>\n",
       "      <th>22</th>\n",
       "      <td>2006-10-29</td>\n",
       "      <td>111.0</td>\n",
       "    </tr>\n",
       "    <tr>\n",
       "      <th>23</th>\n",
       "      <td>2006-11-05</td>\n",
       "      <td>41.0</td>\n",
       "    </tr>\n",
       "    <tr>\n",
       "      <th>24</th>\n",
       "      <td>2006-11-12</td>\n",
       "      <td>159.0</td>\n",
       "    </tr>\n",
       "    <tr>\n",
       "      <th>25</th>\n",
       "      <td>2006-11-19</td>\n",
       "      <td>212.0</td>\n",
       "    </tr>\n",
       "    <tr>\n",
       "      <th>26</th>\n",
       "      <td>2006-11-26</td>\n",
       "      <td>134.0</td>\n",
       "    </tr>\n",
       "    <tr>\n",
       "      <th>27</th>\n",
       "      <td>2006-12-03</td>\n",
       "      <td>40.0</td>\n",
       "    </tr>\n",
       "    <tr>\n",
       "      <th>28</th>\n",
       "      <td>2006-12-10</td>\n",
       "      <td>130.0</td>\n",
       "    </tr>\n",
       "    <tr>\n",
       "      <th>29</th>\n",
       "      <td>2006-12-14</td>\n",
       "      <td>144.0</td>\n",
       "    </tr>\n",
       "    <tr>\n",
       "      <th>...</th>\n",
       "      <td>...</td>\n",
       "      <td>...</td>\n",
       "    </tr>\n",
       "    <tr>\n",
       "      <th>157</th>\n",
       "      <td>2015-09-21</td>\n",
       "      <td>57.0</td>\n",
       "    </tr>\n",
       "    <tr>\n",
       "      <th>158</th>\n",
       "      <td>2015-09-27</td>\n",
       "      <td>86.0</td>\n",
       "    </tr>\n",
       "    <tr>\n",
       "      <th>159</th>\n",
       "      <td>2015-10-04</td>\n",
       "      <td>53.0</td>\n",
       "    </tr>\n",
       "    <tr>\n",
       "      <th>160</th>\n",
       "      <td>2015-10-08</td>\n",
       "      <td>98.0</td>\n",
       "    </tr>\n",
       "    <tr>\n",
       "      <th>161</th>\n",
       "      <td>2015-10-18</td>\n",
       "      <td>78.0</td>\n",
       "    </tr>\n",
       "    <tr>\n",
       "      <th>162</th>\n",
       "      <td>2015-10-25</td>\n",
       "      <td>43.0</td>\n",
       "    </tr>\n",
       "    <tr>\n",
       "      <th>163</th>\n",
       "      <td>2015-11-02</td>\n",
       "      <td>70.0</td>\n",
       "    </tr>\n",
       "    <tr>\n",
       "      <th>164</th>\n",
       "      <td>2015-11-08</td>\n",
       "      <td>83.0</td>\n",
       "    </tr>\n",
       "    <tr>\n",
       "      <th>165</th>\n",
       "      <td>2015-11-22</td>\n",
       "      <td>34.0</td>\n",
       "    </tr>\n",
       "    <tr>\n",
       "      <th>166</th>\n",
       "      <td>2015-11-29</td>\n",
       "      <td>24.0</td>\n",
       "    </tr>\n",
       "    <tr>\n",
       "      <th>167</th>\n",
       "      <td>2015-12-06</td>\n",
       "      <td>45.0</td>\n",
       "    </tr>\n",
       "    <tr>\n",
       "      <th>168</th>\n",
       "      <td>2015-12-13</td>\n",
       "      <td>60.0</td>\n",
       "    </tr>\n",
       "    <tr>\n",
       "      <th>169</th>\n",
       "      <td>2015-12-20</td>\n",
       "      <td>44.0</td>\n",
       "    </tr>\n",
       "    <tr>\n",
       "      <th>170</th>\n",
       "      <td>2015-12-27</td>\n",
       "      <td>85.0</td>\n",
       "    </tr>\n",
       "    <tr>\n",
       "      <th>171</th>\n",
       "      <td>2016-01-01</td>\n",
       "      <td>62.0</td>\n",
       "    </tr>\n",
       "    <tr>\n",
       "      <th>172</th>\n",
       "      <td>2016-09-11</td>\n",
       "      <td>59.0</td>\n",
       "    </tr>\n",
       "    <tr>\n",
       "      <th>173</th>\n",
       "      <td>2016-09-18</td>\n",
       "      <td>44.0</td>\n",
       "    </tr>\n",
       "    <tr>\n",
       "      <th>174</th>\n",
       "      <td>2016-09-25</td>\n",
       "      <td>82.0</td>\n",
       "    </tr>\n",
       "    <tr>\n",
       "      <th>175</th>\n",
       "      <td>2016-10-02</td>\n",
       "      <td>68.0</td>\n",
       "    </tr>\n",
       "    <tr>\n",
       "      <th>176</th>\n",
       "      <td>2016-10-09</td>\n",
       "      <td>75.0</td>\n",
       "    </tr>\n",
       "    <tr>\n",
       "      <th>177</th>\n",
       "      <td>2016-10-16</td>\n",
       "      <td>106.0</td>\n",
       "    </tr>\n",
       "    <tr>\n",
       "      <th>178</th>\n",
       "      <td>2016-10-23</td>\n",
       "      <td>61.0</td>\n",
       "    </tr>\n",
       "    <tr>\n",
       "      <th>179</th>\n",
       "      <td>2016-10-30</td>\n",
       "      <td>37.0</td>\n",
       "    </tr>\n",
       "    <tr>\n",
       "      <th>180</th>\n",
       "      <td>2016-11-06</td>\n",
       "      <td>60.0</td>\n",
       "    </tr>\n",
       "    <tr>\n",
       "      <th>181</th>\n",
       "      <td>2016-11-20</td>\n",
       "      <td>50.0</td>\n",
       "    </tr>\n",
       "    <tr>\n",
       "      <th>182</th>\n",
       "      <td>2016-11-24</td>\n",
       "      <td>28.0</td>\n",
       "    </tr>\n",
       "    <tr>\n",
       "      <th>183</th>\n",
       "      <td>2016-12-05</td>\n",
       "      <td>79.0</td>\n",
       "    </tr>\n",
       "    <tr>\n",
       "      <th>184</th>\n",
       "      <td>2016-12-11</td>\n",
       "      <td>41.0</td>\n",
       "    </tr>\n",
       "    <tr>\n",
       "      <th>185</th>\n",
       "      <td>2016-12-18</td>\n",
       "      <td>101.0</td>\n",
       "    </tr>\n",
       "    <tr>\n",
       "      <th>186</th>\n",
       "      <td>2016-12-24</td>\n",
       "      <td>72.0</td>\n",
       "    </tr>\n",
       "  </tbody>\n",
       "</table>\n",
       "<p>187 rows × 2 columns</p>\n",
       "</div>"
      ],
      "text/plain": [
       "     Game Date  Rushing Yards\n",
       "0   2005-01-01          108.0\n",
       "1   2005-09-11           17.0\n",
       "2   2005-09-18           15.0\n",
       "3   2005-09-25           42.0\n",
       "4   2005-10-02            4.0\n",
       "5   2005-10-09           31.0\n",
       "6   2005-10-23           89.0\n",
       "7   2005-10-30           40.0\n",
       "8   2005-11-06           33.0\n",
       "9   2005-11-13           55.0\n",
       "10  2005-11-20            0.0\n",
       "11  2005-11-27            0.0\n",
       "12  2005-12-04           22.0\n",
       "13  2005-12-11            5.0\n",
       "14  2005-12-18           79.0\n",
       "15  2005-12-24           68.0\n",
       "16  2006-09-10           87.0\n",
       "17  2006-09-17          127.0\n",
       "18  2006-09-24           52.0\n",
       "19  2006-10-01           65.0\n",
       "20  2006-10-08          134.0\n",
       "21  2006-10-15           55.0\n",
       "22  2006-10-29          111.0\n",
       "23  2006-11-05           41.0\n",
       "24  2006-11-12          159.0\n",
       "25  2006-11-19          212.0\n",
       "26  2006-11-26          134.0\n",
       "27  2006-12-03           40.0\n",
       "28  2006-12-10          130.0\n",
       "29  2006-12-14          144.0\n",
       "..         ...            ...\n",
       "157 2015-09-21           57.0\n",
       "158 2015-09-27           86.0\n",
       "159 2015-10-04           53.0\n",
       "160 2015-10-08           98.0\n",
       "161 2015-10-18           78.0\n",
       "162 2015-10-25           43.0\n",
       "163 2015-11-02           70.0\n",
       "164 2015-11-08           83.0\n",
       "165 2015-11-22           34.0\n",
       "166 2015-11-29           24.0\n",
       "167 2015-12-06           45.0\n",
       "168 2015-12-13           60.0\n",
       "169 2015-12-20           44.0\n",
       "170 2015-12-27           85.0\n",
       "171 2016-01-01           62.0\n",
       "172 2016-09-11           59.0\n",
       "173 2016-09-18           44.0\n",
       "174 2016-09-25           82.0\n",
       "175 2016-10-02           68.0\n",
       "176 2016-10-09           75.0\n",
       "177 2016-10-16          106.0\n",
       "178 2016-10-23           61.0\n",
       "179 2016-10-30           37.0\n",
       "180 2016-11-06           60.0\n",
       "181 2016-11-20           50.0\n",
       "182 2016-11-24           28.0\n",
       "183 2016-12-05           79.0\n",
       "184 2016-12-11           41.0\n",
       "185 2016-12-18          101.0\n",
       "186 2016-12-24           72.0\n",
       "\n",
       "[187 rows x 2 columns]"
      ]
     },
     "execution_count": 1668,
     "metadata": {},
     "output_type": "execute_result"
    }
   ],
   "source": [
    "# if a player doesnt play on the looked-for-date below it will error\n",
    "# need to see the most recent year played and adjust the looked-for-date to the start of that year\n",
    "# side note: too much trouble for now to split based on football season since a season usually ends the first week of the year\n",
    "# just splitting on year for now\n",
    "given"
   ]
  },
  {
   "cell_type": "code",
   "execution_count": 1669,
   "metadata": {
    "collapsed": false
   },
   "outputs": [
    {
     "data": {
      "text/plain": [
       "<matplotlib.axes._subplots.AxesSubplot at 0x11a3e3290>"
      ]
     },
     "execution_count": 1669,
     "metadata": {},
     "output_type": "execute_result"
    },
    {
     "data": {
      "image/png": "[encoded data removed]",
      "text/plain": [
       "<matplotlib.figure.Figure at 0x11a026f10>"
      ]
     },
     "metadata": {},
     "output_type": "display_data"
    }
   ],
   "source": [
    "# view predictions. major output for decision making\n",
    "predicted.plot()"
   ]
  },
  {
   "cell_type": "code",
   "execution_count": 1670,
   "metadata": {
    "collapsed": false
   },
   "outputs": [
    {
     "data": {
      "text/plain": [
       "(171, 205)"
      ]
     },
     "execution_count": 1670,
     "metadata": {},
     "output_type": "execute_result"
    }
   ],
   "source": [
    "# lining up the indices of projections and data we have\n",
    "prediction_start_array = np.where(given['Game Date']=='2016-01-01')[0]\n",
    "prediction_start_number = prediction_start_array[0]\n",
    "prediction_end_number = prediction_start_number + len(predicted)\n",
    "prediction_start_number, prediction_end_number"
   ]
  },
  {
   "cell_type": "code",
   "execution_count": 1671,
   "metadata": {
    "collapsed": false
   },
   "outputs": [],
   "source": [
    "# lining up the indices of projections and data we have\n",
    "predicted_indices = []\n",
    "x = prediction_start_number\n",
    "while x <= prediction_end_number :\n",
    "    predicted_indices.extend([x])\n",
    "    x += 1\n",
    "updated_indices = pd.DataFrame(predicted_indices, columns=['new_i'])\n",
    "# updated_indices"
   ]
  },
  {
   "cell_type": "code",
   "execution_count": 1672,
   "metadata": {
    "collapsed": false
   },
   "outputs": [
    {
     "data": {
      "text/html": [
       "<div>\n",
       "<style>\n",
       "    .dataframe thead tr:only-child th {\n",
       "        text-align: right;\n",
       "    }\n",
       "\n",
       "    .dataframe thead th {\n",
       "        text-align: left;\n",
       "    }\n",
       "\n",
       "    .dataframe tbody tr th {\n",
       "        vertical-align: top;\n",
       "    }\n",
       "</style>\n",
       "<table border=\"1\" class=\"dataframe\">\n",
       "  <thead>\n",
       "    <tr style=\"text-align: right;\">\n",
       "      <th></th>\n",
       "      <th>game_date</th>\n",
       "      <th>proj_rush_yrds</th>\n",
       "    </tr>\n",
       "    <tr>\n",
       "      <th>new_i</th>\n",
       "      <th></th>\n",
       "      <th></th>\n",
       "    </tr>\n",
       "  </thead>\n",
       "  <tbody>\n",
       "    <tr>\n",
       "      <th>171</th>\n",
       "      <td>2016-01-01</td>\n",
       "      <td>81.087341</td>\n",
       "    </tr>\n",
       "    <tr>\n",
       "      <th>172</th>\n",
       "      <td>2016-09-11</td>\n",
       "      <td>80.241734</td>\n",
       "    </tr>\n",
       "    <tr>\n",
       "      <th>173</th>\n",
       "      <td>2016-09-18</td>\n",
       "      <td>113.240156</td>\n",
       "    </tr>\n",
       "    <tr>\n",
       "      <th>174</th>\n",
       "      <td>2016-09-25</td>\n",
       "      <td>65.288959</td>\n",
       "    </tr>\n",
       "    <tr>\n",
       "      <th>175</th>\n",
       "      <td>2016-10-02</td>\n",
       "      <td>41.312659</td>\n",
       "    </tr>\n",
       "    <tr>\n",
       "      <th>176</th>\n",
       "      <td>2016-10-09</td>\n",
       "      <td>63.234510</td>\n",
       "    </tr>\n",
       "    <tr>\n",
       "      <th>177</th>\n",
       "      <td>2016-10-16</td>\n",
       "      <td>52.741424</td>\n",
       "    </tr>\n",
       "    <tr>\n",
       "      <th>178</th>\n",
       "      <td>2016-10-23</td>\n",
       "      <td>30.141299</td>\n",
       "    </tr>\n",
       "    <tr>\n",
       "      <th>179</th>\n",
       "      <td>2016-10-30</td>\n",
       "      <td>80.732308</td>\n",
       "    </tr>\n",
       "    <tr>\n",
       "      <th>180</th>\n",
       "      <td>2016-11-06</td>\n",
       "      <td>42.353827</td>\n",
       "    </tr>\n",
       "    <tr>\n",
       "      <th>181</th>\n",
       "      <td>2016-11-13</td>\n",
       "      <td>102.060853</td>\n",
       "    </tr>\n",
       "    <tr>\n",
       "      <th>182</th>\n",
       "      <td>2016-11-20</td>\n",
       "      <td>72.814938</td>\n",
       "    </tr>\n",
       "    <tr>\n",
       "      <th>183</th>\n",
       "      <td>2016-11-27</td>\n",
       "      <td>81.706858</td>\n",
       "    </tr>\n",
       "    <tr>\n",
       "      <th>184</th>\n",
       "      <td>2016-12-04</td>\n",
       "      <td>80.702705</td>\n",
       "    </tr>\n",
       "    <tr>\n",
       "      <th>185</th>\n",
       "      <td>2016-12-11</td>\n",
       "      <td>113.575218</td>\n",
       "    </tr>\n",
       "    <tr>\n",
       "      <th>186</th>\n",
       "      <td>2016-12-18</td>\n",
       "      <td>65.523814</td>\n",
       "    </tr>\n",
       "    <tr>\n",
       "      <th>187</th>\n",
       "      <td>2016-12-25</td>\n",
       "      <td>41.468620</td>\n",
       "    </tr>\n",
       "    <tr>\n",
       "      <th>188</th>\n",
       "      <td>2017-01-01</td>\n",
       "      <td>63.328582</td>\n",
       "    </tr>\n",
       "    <tr>\n",
       "      <th>189</th>\n",
       "      <td>2017-09-10</td>\n",
       "      <td>52.787332</td>\n",
       "    </tr>\n",
       "    <tr>\n",
       "      <th>190</th>\n",
       "      <td>2017-09-17</td>\n",
       "      <td>30.149943</td>\n",
       "    </tr>\n",
       "    <tr>\n",
       "      <th>191</th>\n",
       "      <td>2017-09-24</td>\n",
       "      <td>80.712338</td>\n",
       "    </tr>\n",
       "    <tr>\n",
       "      <th>192</th>\n",
       "      <td>2017-10-01</td>\n",
       "      <td>42.312044</td>\n",
       "    </tr>\n",
       "    <tr>\n",
       "      <th>193</th>\n",
       "      <td>2017-10-08</td>\n",
       "      <td>102.002583</td>\n",
       "    </tr>\n",
       "    <tr>\n",
       "      <th>194</th>\n",
       "      <td>2017-10-15</td>\n",
       "      <td>72.744316</td>\n",
       "    </tr>\n",
       "    <tr>\n",
       "      <th>195</th>\n",
       "      <td>2017-10-22</td>\n",
       "      <td>81.627078</td>\n",
       "    </tr>\n",
       "    <tr>\n",
       "      <th>196</th>\n",
       "      <td>2017-10-29</td>\n",
       "      <td>80.616214</td>\n",
       "    </tr>\n",
       "    <tr>\n",
       "      <th>197</th>\n",
       "      <td>2017-11-05</td>\n",
       "      <td>113.483876</td>\n",
       "    </tr>\n",
       "    <tr>\n",
       "      <th>198</th>\n",
       "      <td>2017-11-12</td>\n",
       "      <td>65.429025</td>\n",
       "    </tr>\n",
       "    <tr>\n",
       "      <th>199</th>\n",
       "      <td>2017-11-19</td>\n",
       "      <td>41.371432</td>\n",
       "    </tr>\n",
       "    <tr>\n",
       "      <th>200</th>\n",
       "      <td>2017-11-26</td>\n",
       "      <td>63.229770</td>\n",
       "    </tr>\n",
       "    <tr>\n",
       "      <th>201</th>\n",
       "      <td>2017-12-03</td>\n",
       "      <td>52.687461</td>\n",
       "    </tr>\n",
       "    <tr>\n",
       "      <th>202</th>\n",
       "      <td>2017-12-10</td>\n",
       "      <td>30.049419</td>\n",
       "    </tr>\n",
       "    <tr>\n",
       "      <th>203</th>\n",
       "      <td>2017-12-17</td>\n",
       "      <td>80.611450</td>\n",
       "    </tr>\n",
       "    <tr>\n",
       "      <th>204</th>\n",
       "      <td>2017-12-24</td>\n",
       "      <td>42.210990</td>\n",
       "    </tr>\n",
       "  </tbody>\n",
       "</table>\n",
       "</div>"
      ],
      "text/plain": [
       "        game_date  proj_rush_yrds\n",
       "new_i                            \n",
       "171    2016-01-01       81.087341\n",
       "172    2016-09-11       80.241734\n",
       "173    2016-09-18      113.240156\n",
       "174    2016-09-25       65.288959\n",
       "175    2016-10-02       41.312659\n",
       "176    2016-10-09       63.234510\n",
       "177    2016-10-16       52.741424\n",
       "178    2016-10-23       30.141299\n",
       "179    2016-10-30       80.732308\n",
       "180    2016-11-06       42.353827\n",
       "181    2016-11-13      102.060853\n",
       "182    2016-11-20       72.814938\n",
       "183    2016-11-27       81.706858\n",
       "184    2016-12-04       80.702705\n",
       "185    2016-12-11      113.575218\n",
       "186    2016-12-18       65.523814\n",
       "187    2016-12-25       41.468620\n",
       "188    2017-01-01       63.328582\n",
       "189    2017-09-10       52.787332\n",
       "190    2017-09-17       30.149943\n",
       "191    2017-09-24       80.712338\n",
       "192    2017-10-01       42.312044\n",
       "193    2017-10-08      102.002583\n",
       "194    2017-10-15       72.744316\n",
       "195    2017-10-22       81.627078\n",
       "196    2017-10-29       80.616214\n",
       "197    2017-11-05      113.483876\n",
       "198    2017-11-12       65.429025\n",
       "199    2017-11-19       41.371432\n",
       "200    2017-11-26       63.229770\n",
       "201    2017-12-03       52.687461\n",
       "202    2017-12-10       30.049419\n",
       "203    2017-12-17       80.611450\n",
       "204    2017-12-24       42.210990"
      ]
     },
     "execution_count": 1672,
     "metadata": {},
     "output_type": "execute_result"
    }
   ],
   "source": [
    "# final view of our predictions. major output for decision making\n",
    "predicted = predicted.join(updated_indices).set_index('new_i')\n",
    "predicted"
   ]
  },
  {
   "cell_type": "code",
   "execution_count": 1673,
   "metadata": {
    "collapsed": false
   },
   "outputs": [
    {
     "data": {
      "image/png": "[encoded data removed]",
      "text/plain": [
       "<matplotlib.figure.Figure at 0x11c95bd50>"
      ]
     },
     "metadata": {},
     "output_type": "display_data"
    }
   ],
   "source": [
    "# view current data into forecasted data with overlap.\n",
    "# perhaps the most important output for decision making because you can see model fit and future trend\n",
    "ax = predicted.plot()\n",
    "given.plot(ax=ax)\n",
    "pyplot.show()"
   ]
  },
  {
   "cell_type": "code",
   "execution_count": null,
   "metadata": {
    "collapsed": true
   },
   "outputs": [],
   "source": []
  }
 ],
 "metadata": {
  "kernelspec": {
   "display_name": "Python 2",
   "language": "python",
   "name": "python2"
  },
  "language_info": {
   "codemirror_mode": {
    "name": "ipython",
    "version": 2
   },
   "file_extension": ".py",
   "mimetype": "text/x-python",
   "name": "python",
   "nbconvert_exporter": "python",
   "pygments_lexer": "ipython2",
   "version": "2.7.13"
  }
 },
 "nbformat": 4,
 "nbformat_minor": 2
}
