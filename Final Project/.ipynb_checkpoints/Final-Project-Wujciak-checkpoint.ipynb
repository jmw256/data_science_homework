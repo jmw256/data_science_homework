{
 "cells": [
  {
   "cell_type": "markdown",
   "metadata": {},
   "source": [
    "# Wujciak Final Project - Exploratory Analysis"
   ]
  },
  {
   "cell_type": "markdown",
   "metadata": {},
   "source": [
    "#### The purpose of this project is to evaluate several factors within an NFL running back's and wide receiver's performance leading up to a given year and determine which are most correlated to that player having a successful regular season the following year. \n",
    "\n",
    "#### I hypothesize that rushing attempts one regular season prior to the target year will be most correlated with success in the target year for running backs, and an above average yards per carry in the preseason of the target year will most likely correlate to success in the target year's regular season. While receptions on year prior will be most correlated with success in the target year for wide receivers, and a Yards Per Reception that is close to the average YPR among all wide receivers in the preseason of that year will be most correlate to success in the regular season of the target year.\n",
    "\n",
    "#### Essentally, we are setting out to discover which metrics of high efficiency or high workload for a player just prior to the target regular season will result in a high output of success (in yards and TDs) that regular season."
   ]
  },
  {
   "cell_type": "markdown",
   "metadata": {},
   "source": [
    "### Import Data"
   ]
  },
  {
   "cell_type": "code",
   "execution_count": 123,
   "metadata": {
    "collapsed": false,
    "deletable": true,
    "editable": true
   },
   "outputs": [],
   "source": [
    "%matplotlib inline\n",
    "import numpy as np\n",
    "import pandas as pd\n",
    "import seaborn as sns\n",
    "import matplotlib.pyplot as plt\n",
    "import re\n",
    "plt.style.use('ggplot')"
   ]
  },
  {
   "cell_type": "code",
   "execution_count": 124,
   "metadata": {
    "collapsed": true
   },
   "outputs": [],
   "source": [
    "bs = pd.read_csv('../Final Project/Basic_Stats.csv')\n",
    "rb = pd.read_csv('../Final Project/Game_Logs_Runningback 2.csv')\n",
    "wr = pd.read_csv('../Final Project/Game_Logs_Wide_Receiver_and_Tight_End.csv')"
   ]
  },
  {
   "cell_type": "markdown",
   "metadata": {},
   "source": [
    "### Merge into Files for RB and WR Respectively and Remove Unnessecary Columns"
   ]
  },
  {
   "cell_type": "code",
   "execution_count": 125,
   "metadata": {
    "collapsed": false,
    "deletable": true,
    "editable": true
   },
   "outputs": [
    {
     "data": {
      "text/html": [
       "<div>\n",
       "<style>\n",
       "    .dataframe thead tr:only-child th {\n",
       "        text-align: right;\n",
       "    }\n",
       "\n",
       "    .dataframe thead th {\n",
       "        text-align: left;\n",
       "    }\n",
       "\n",
       "    .dataframe tbody tr th {\n",
       "        vertical-align: top;\n",
       "    }\n",
       "</style>\n",
       "<table border=\"1\" class=\"dataframe\">\n",
       "  <thead>\n",
       "    <tr style=\"text-align: right;\">\n",
       "      <th></th>\n",
       "      <th>Age</th>\n",
       "      <th>Birth Place</th>\n",
       "      <th>Birthday</th>\n",
       "      <th>College</th>\n",
       "      <th>Current Status</th>\n",
       "      <th>Current Team</th>\n",
       "      <th>Experience</th>\n",
       "      <th>Height (inches)</th>\n",
       "      <th>High School</th>\n",
       "      <th>High School Location</th>\n",
       "      <th>Name</th>\n",
       "      <th>Number</th>\n",
       "      <th>Player Id</th>\n",
       "      <th>Position</th>\n",
       "      <th>Weight (lbs)</th>\n",
       "      <th>Years Played</th>\n",
       "    </tr>\n",
       "  </thead>\n",
       "  <tbody>\n",
       "    <tr>\n",
       "      <th>0</th>\n",
       "      <td>NaN</td>\n",
       "      <td>Grand Rapids , MI</td>\n",
       "      <td>5/23/1921</td>\n",
       "      <td>Notre Dame</td>\n",
       "      <td>Retired</td>\n",
       "      <td>NaN</td>\n",
       "      <td>3 Seasons</td>\n",
       "      <td>71.0</td>\n",
       "      <td>NaN</td>\n",
       "      <td>NaN</td>\n",
       "      <td>Evans, Fred</td>\n",
       "      <td>NaN</td>\n",
       "      <td>fredevans/2513736</td>\n",
       "      <td>NaN</td>\n",
       "      <td>185.0</td>\n",
       "      <td>1946 - 1948</td>\n",
       "    </tr>\n",
       "    <tr>\n",
       "      <th>1</th>\n",
       "      <td>NaN</td>\n",
       "      <td>Dayton , OH</td>\n",
       "      <td>12/21/1930</td>\n",
       "      <td>Dayton</td>\n",
       "      <td>Retired</td>\n",
       "      <td>NaN</td>\n",
       "      <td>1 Season</td>\n",
       "      <td>70.0</td>\n",
       "      <td>NaN</td>\n",
       "      <td>NaN</td>\n",
       "      <td>Raiff, Jim</td>\n",
       "      <td>NaN</td>\n",
       "      <td>jimraiff/2523700</td>\n",
       "      <td>NaN</td>\n",
       "      <td>235.0</td>\n",
       "      <td>1954 - 1954</td>\n",
       "    </tr>\n",
       "  </tbody>\n",
       "</table>\n",
       "</div>"
      ],
      "text/plain": [
       "   Age        Birth Place    Birthday     College Current Status Current Team  \\\n",
       "0  NaN  Grand Rapids , MI   5/23/1921  Notre Dame        Retired          NaN   \n",
       "1  NaN        Dayton , OH  12/21/1930      Dayton        Retired          NaN   \n",
       "\n",
       "  Experience  Height (inches) High School High School Location         Name  \\\n",
       "0  3 Seasons             71.0         NaN                  NaN  Evans, Fred   \n",
       "1   1 Season             70.0         NaN                  NaN   Raiff, Jim   \n",
       "\n",
       "   Number          Player Id Position  Weight (lbs) Years Played  \n",
       "0     NaN  fredevans/2513736      NaN         185.0  1946 - 1948  \n",
       "1     NaN   jimraiff/2523700      NaN         235.0  1954 - 1954  "
      ]
     },
     "execution_count": 125,
     "metadata": {},
     "output_type": "execute_result"
    }
   ],
   "source": [
    "bs.head(2)"
   ]
  },
  {
   "cell_type": "code",
   "execution_count": 126,
   "metadata": {
    "collapsed": false,
    "deletable": true,
    "editable": true
   },
   "outputs": [
    {
     "data": {
      "text/html": [
       "<div>\n",
       "<style>\n",
       "    .dataframe thead tr:only-child th {\n",
       "        text-align: right;\n",
       "    }\n",
       "\n",
       "    .dataframe thead th {\n",
       "        text-align: left;\n",
       "    }\n",
       "\n",
       "    .dataframe tbody tr th {\n",
       "        vertical-align: top;\n",
       "    }\n",
       "</style>\n",
       "<table border=\"1\" class=\"dataframe\">\n",
       "  <thead>\n",
       "    <tr style=\"text-align: right;\">\n",
       "      <th></th>\n",
       "      <th>Age</th>\n",
       "      <th>Birth Place</th>\n",
       "      <th>Birthday</th>\n",
       "      <th>College</th>\n",
       "      <th>Current Status</th>\n",
       "      <th>Current Team</th>\n",
       "      <th>Experience</th>\n",
       "      <th>Height (inches)</th>\n",
       "      <th>High School</th>\n",
       "      <th>High School Location</th>\n",
       "      <th>Name</th>\n",
       "      <th>Number</th>\n",
       "      <th>Position</th>\n",
       "      <th>Weight (lbs)</th>\n",
       "      <th>Years Played</th>\n",
       "    </tr>\n",
       "    <tr>\n",
       "      <th>Player Id</th>\n",
       "      <th></th>\n",
       "      <th></th>\n",
       "      <th></th>\n",
       "      <th></th>\n",
       "      <th></th>\n",
       "      <th></th>\n",
       "      <th></th>\n",
       "      <th></th>\n",
       "      <th></th>\n",
       "      <th></th>\n",
       "      <th></th>\n",
       "      <th></th>\n",
       "      <th></th>\n",
       "      <th></th>\n",
       "      <th></th>\n",
       "    </tr>\n",
       "  </thead>\n",
       "  <tbody>\n",
       "    <tr>\n",
       "      <th>kenyandrake/2555230</th>\n",
       "      <td>23.0</td>\n",
       "      <td>Powder Springs , GA</td>\n",
       "      <td>1/26/1994</td>\n",
       "      <td>Alabama</td>\n",
       "      <td>Active</td>\n",
       "      <td>Miami Dolphins</td>\n",
       "      <td>2nd season</td>\n",
       "      <td>73.0</td>\n",
       "      <td>Hillgrove HS</td>\n",
       "      <td>Powder Springs, GA</td>\n",
       "      <td>Drake, Kenyan</td>\n",
       "      <td>32.0</td>\n",
       "      <td>RB</td>\n",
       "      <td>216.0</td>\n",
       "      <td>NaN</td>\n",
       "    </tr>\n",
       "    <tr>\n",
       "      <th>taquanmizzell/2558975</th>\n",
       "      <td>23.0</td>\n",
       "      <td>NaN</td>\n",
       "      <td>10/21/1993</td>\n",
       "      <td>Virginia</td>\n",
       "      <td>Active</td>\n",
       "      <td>Baltimore Ravens</td>\n",
       "      <td>Rookie</td>\n",
       "      <td>70.0</td>\n",
       "      <td>NaN</td>\n",
       "      <td>NaN</td>\n",
       "      <td>Mizzell, Taquan</td>\n",
       "      <td>NaN</td>\n",
       "      <td>RB</td>\n",
       "      <td>185.0</td>\n",
       "      <td>NaN</td>\n",
       "    </tr>\n",
       "  </tbody>\n",
       "</table>\n",
       "</div>"
      ],
      "text/plain": [
       "                        Age          Birth Place    Birthday   College  \\\n",
       "Player Id                                                                \n",
       "kenyandrake/2555230    23.0  Powder Springs , GA   1/26/1994   Alabama   \n",
       "taquanmizzell/2558975  23.0                  NaN  10/21/1993  Virginia   \n",
       "\n",
       "                      Current Status      Current Team  Experience  \\\n",
       "Player Id                                                            \n",
       "kenyandrake/2555230           Active    Miami Dolphins  2nd season   \n",
       "taquanmizzell/2558975         Active  Baltimore Ravens      Rookie   \n",
       "\n",
       "                       Height (inches)   High School High School Location  \\\n",
       "Player Id                                                                   \n",
       "kenyandrake/2555230               73.0  Hillgrove HS   Powder Springs, GA   \n",
       "taquanmizzell/2558975             70.0           NaN                  NaN   \n",
       "\n",
       "                                  Name  Number Position  Weight (lbs)  \\\n",
       "Player Id                                                               \n",
       "kenyandrake/2555230      Drake, Kenyan    32.0       RB         216.0   \n",
       "taquanmizzell/2558975  Mizzell, Taquan     NaN       RB         185.0   \n",
       "\n",
       "                      Years Played  \n",
       "Player Id                           \n",
       "kenyandrake/2555230            NaN  \n",
       "taquanmizzell/2558975          NaN  "
      ]
     },
     "execution_count": 126,
     "metadata": {},
     "output_type": "execute_result"
    }
   ],
   "source": [
    "rb_basic = bs.loc[(bs['Position'] == \"RB\")].set_index(['Player Id'])\n",
    "rb_basic.head(2)"
   ]
  },
  {
   "cell_type": "code",
   "execution_count": 127,
   "metadata": {
    "collapsed": false,
    "deletable": true,
    "editable": true
   },
   "outputs": [
    {
     "data": {
      "text/html": [
       "<div>\n",
       "<style>\n",
       "    .dataframe thead tr:only-child th {\n",
       "        text-align: right;\n",
       "    }\n",
       "\n",
       "    .dataframe thead th {\n",
       "        text-align: left;\n",
       "    }\n",
       "\n",
       "    .dataframe tbody tr th {\n",
       "        vertical-align: top;\n",
       "    }\n",
       "</style>\n",
       "<table border=\"1\" class=\"dataframe\">\n",
       "  <thead>\n",
       "    <tr style=\"text-align: right;\">\n",
       "      <th></th>\n",
       "      <th>Age</th>\n",
       "      <th>Birth Place</th>\n",
       "      <th>Birthday</th>\n",
       "      <th>College</th>\n",
       "      <th>Current Status</th>\n",
       "      <th>Current Team</th>\n",
       "      <th>Experience</th>\n",
       "      <th>Height (inches)</th>\n",
       "      <th>High School</th>\n",
       "      <th>High School Location</th>\n",
       "      <th>Name</th>\n",
       "      <th>Number</th>\n",
       "      <th>Position</th>\n",
       "      <th>Weight (lbs)</th>\n",
       "      <th>Years Played</th>\n",
       "    </tr>\n",
       "    <tr>\n",
       "      <th>Player Id</th>\n",
       "      <th></th>\n",
       "      <th></th>\n",
       "      <th></th>\n",
       "      <th></th>\n",
       "      <th></th>\n",
       "      <th></th>\n",
       "      <th></th>\n",
       "      <th></th>\n",
       "      <th></th>\n",
       "      <th></th>\n",
       "      <th></th>\n",
       "      <th></th>\n",
       "      <th></th>\n",
       "      <th></th>\n",
       "      <th></th>\n",
       "    </tr>\n",
       "  </thead>\n",
       "  <tbody>\n",
       "    <tr>\n",
       "      <th>brandontate/81306</th>\n",
       "      <td>29.0</td>\n",
       "      <td>Burlington , NC</td>\n",
       "      <td>10/5/1987</td>\n",
       "      <td>North Carolina</td>\n",
       "      <td>Active</td>\n",
       "      <td>Buffalo Bills</td>\n",
       "      <td>9th season</td>\n",
       "      <td>73.0</td>\n",
       "      <td>Cummings HS</td>\n",
       "      <td>Burlington, NC</td>\n",
       "      <td>Tate, Brandon</td>\n",
       "      <td>15.0</td>\n",
       "      <td>WR</td>\n",
       "      <td>195.0</td>\n",
       "      <td>NaN</td>\n",
       "    </tr>\n",
       "    <tr>\n",
       "      <th>kevinnorwood/2543689</th>\n",
       "      <td>27.0</td>\n",
       "      <td>Biloxi , MS</td>\n",
       "      <td>9/23/1989</td>\n",
       "      <td>Alabama</td>\n",
       "      <td>Active</td>\n",
       "      <td>New York Giants</td>\n",
       "      <td>3rd season</td>\n",
       "      <td>74.0</td>\n",
       "      <td>D'lberville HS</td>\n",
       "      <td>MS</td>\n",
       "      <td>Norwood, Kevin</td>\n",
       "      <td>NaN</td>\n",
       "      <td>WR</td>\n",
       "      <td>210.0</td>\n",
       "      <td>NaN</td>\n",
       "    </tr>\n",
       "  </tbody>\n",
       "</table>\n",
       "</div>"
      ],
      "text/plain": [
       "                       Age      Birth Place   Birthday         College  \\\n",
       "Player Id                                                                \n",
       "brandontate/81306     29.0  Burlington , NC  10/5/1987  North Carolina   \n",
       "kevinnorwood/2543689  27.0      Biloxi , MS  9/23/1989         Alabama   \n",
       "\n",
       "                     Current Status     Current Team  Experience  \\\n",
       "Player Id                                                          \n",
       "brandontate/81306            Active    Buffalo Bills  9th season   \n",
       "kevinnorwood/2543689         Active  New York Giants  3rd season   \n",
       "\n",
       "                      Height (inches)     High School High School Location  \\\n",
       "Player Id                                                                    \n",
       "brandontate/81306                73.0     Cummings HS       Burlington, NC   \n",
       "kevinnorwood/2543689             74.0  D'lberville HS                   MS   \n",
       "\n",
       "                                Name  Number Position  Weight (lbs)  \\\n",
       "Player Id                                                             \n",
       "brandontate/81306      Tate, Brandon    15.0       WR         195.0   \n",
       "kevinnorwood/2543689  Norwood, Kevin     NaN       WR         210.0   \n",
       "\n",
       "                     Years Played  \n",
       "Player Id                          \n",
       "brandontate/81306             NaN  \n",
       "kevinnorwood/2543689          NaN  "
      ]
     },
     "execution_count": 127,
     "metadata": {},
     "output_type": "execute_result"
    }
   ],
   "source": [
    "wr_basic = bs.loc[(bs['Position'] == \"WR\")].set_index(['Player Id'])\n",
    "wr_basic.head(2)"
   ]
  },
  {
   "cell_type": "code",
   "execution_count": 128,
   "metadata": {
    "collapsed": false,
    "deletable": true,
    "editable": true
   },
   "outputs": [
    {
     "data": {
      "text/html": [
       "<div>\n",
       "<style>\n",
       "    .dataframe thead tr:only-child th {\n",
       "        text-align: right;\n",
       "    }\n",
       "\n",
       "    .dataframe thead th {\n",
       "        text-align: left;\n",
       "    }\n",
       "\n",
       "    .dataframe tbody tr th {\n",
       "        vertical-align: top;\n",
       "    }\n",
       "</style>\n",
       "<table border=\"1\" class=\"dataframe\">\n",
       "  <thead>\n",
       "    <tr style=\"text-align: right;\">\n",
       "      <th></th>\n",
       "      <th>Name</th>\n",
       "      <th>Position</th>\n",
       "      <th>Year</th>\n",
       "      <th>Season</th>\n",
       "      <th>Week</th>\n",
       "      <th>Game Date</th>\n",
       "      <th>Home or Away</th>\n",
       "      <th>Opponent</th>\n",
       "      <th>Outcome</th>\n",
       "      <th>Score</th>\n",
       "      <th>...</th>\n",
       "      <th>Yards Per Carry</th>\n",
       "      <th>Longest Rushing Run</th>\n",
       "      <th>Rushing TDs</th>\n",
       "      <th>Receptions</th>\n",
       "      <th>Receiving Yards</th>\n",
       "      <th>Yards Per Reception</th>\n",
       "      <th>Longest Reception</th>\n",
       "      <th>Receiving TDs</th>\n",
       "      <th>Fumbles</th>\n",
       "      <th>Fumbles Lost</th>\n",
       "    </tr>\n",
       "    <tr>\n",
       "      <th>Player Id</th>\n",
       "      <th></th>\n",
       "      <th></th>\n",
       "      <th></th>\n",
       "      <th></th>\n",
       "      <th></th>\n",
       "      <th></th>\n",
       "      <th></th>\n",
       "      <th></th>\n",
       "      <th></th>\n",
       "      <th></th>\n",
       "      <th></th>\n",
       "      <th></th>\n",
       "      <th></th>\n",
       "      <th></th>\n",
       "      <th></th>\n",
       "      <th></th>\n",
       "      <th></th>\n",
       "      <th></th>\n",
       "      <th></th>\n",
       "      <th></th>\n",
       "      <th></th>\n",
       "    </tr>\n",
       "  </thead>\n",
       "  <tbody>\n",
       "    <tr>\n",
       "      <th>bobbyfowler/2514295</th>\n",
       "      <td>Fowler, Bobby</td>\n",
       "      <td>NaN</td>\n",
       "      <td>1985</td>\n",
       "      <td>Regular Season</td>\n",
       "      <td>7</td>\n",
       "      <td>10/20</td>\n",
       "      <td>Away</td>\n",
       "      <td>ATL</td>\n",
       "      <td>L</td>\n",
       "      <td>24 to 31</td>\n",
       "      <td>...</td>\n",
       "      <td>--</td>\n",
       "      <td>--</td>\n",
       "      <td>--</td>\n",
       "      <td>--</td>\n",
       "      <td>--</td>\n",
       "      <td>--</td>\n",
       "      <td>--</td>\n",
       "      <td>--</td>\n",
       "      <td>--</td>\n",
       "      <td>--</td>\n",
       "    </tr>\n",
       "    <tr>\n",
       "      <th>bobbyfowler/2514295</th>\n",
       "      <td>Fowler, Bobby</td>\n",
       "      <td>NaN</td>\n",
       "      <td>1985</td>\n",
       "      <td>Regular Season</td>\n",
       "      <td>8</td>\n",
       "      <td>10/27</td>\n",
       "      <td>Home</td>\n",
       "      <td>NYG</td>\n",
       "      <td>L</td>\n",
       "      <td>13 to 21</td>\n",
       "      <td>...</td>\n",
       "      <td>--</td>\n",
       "      <td>--</td>\n",
       "      <td>--</td>\n",
       "      <td>--</td>\n",
       "      <td>--</td>\n",
       "      <td>--</td>\n",
       "      <td>--</td>\n",
       "      <td>--</td>\n",
       "      <td>--</td>\n",
       "      <td>--</td>\n",
       "    </tr>\n",
       "  </tbody>\n",
       "</table>\n",
       "<p>2 rows × 24 columns</p>\n",
       "</div>"
      ],
      "text/plain": [
       "                              Name Position  Year          Season  Week  \\\n",
       "Player Id                                                                 \n",
       "bobbyfowler/2514295  Fowler, Bobby      NaN  1985  Regular Season     7   \n",
       "bobbyfowler/2514295  Fowler, Bobby      NaN  1985  Regular Season     8   \n",
       "\n",
       "                    Game Date Home or Away Opponent Outcome     Score  \\\n",
       "Player Id                                                               \n",
       "bobbyfowler/2514295     10/20         Away      ATL       L  24 to 31   \n",
       "bobbyfowler/2514295     10/27         Home      NYG       L  13 to 21   \n",
       "\n",
       "                        ...       Yards Per Carry Longest Rushing Run  \\\n",
       "Player Id               ...                                             \n",
       "bobbyfowler/2514295     ...                    --                  --   \n",
       "bobbyfowler/2514295     ...                    --                  --   \n",
       "\n",
       "                    Rushing TDs Receptions Receiving Yards  \\\n",
       "Player Id                                                    \n",
       "bobbyfowler/2514295          --         --              --   \n",
       "bobbyfowler/2514295          --         --              --   \n",
       "\n",
       "                    Yards Per Reception Longest Reception Receiving TDs  \\\n",
       "Player Id                                                                 \n",
       "bobbyfowler/2514295                  --                --            --   \n",
       "bobbyfowler/2514295                  --                --            --   \n",
       "\n",
       "                    Fumbles Fumbles Lost  \n",
       "Player Id                                 \n",
       "bobbyfowler/2514295      --           --  \n",
       "bobbyfowler/2514295      --           --  \n",
       "\n",
       "[2 rows x 24 columns]"
      ]
     },
     "execution_count": 128,
     "metadata": {},
     "output_type": "execute_result"
    }
   ],
   "source": [
    "rb = rb.set_index(['Player Id'])\n",
    "rb = rb.loc[(rb.Year > 1979)]\n",
    "rb.head(2)"
   ]
  },
  {
   "cell_type": "code",
   "execution_count": 129,
   "metadata": {
    "collapsed": false,
    "deletable": true,
    "editable": true
   },
   "outputs": [
    {
     "data": {
      "text/html": [
       "<div>\n",
       "<style>\n",
       "    .dataframe thead tr:only-child th {\n",
       "        text-align: right;\n",
       "    }\n",
       "\n",
       "    .dataframe thead th {\n",
       "        text-align: left;\n",
       "    }\n",
       "\n",
       "    .dataframe tbody tr th {\n",
       "        vertical-align: top;\n",
       "    }\n",
       "</style>\n",
       "<table border=\"1\" class=\"dataframe\">\n",
       "  <thead>\n",
       "    <tr style=\"text-align: right;\">\n",
       "      <th></th>\n",
       "      <th>Name</th>\n",
       "      <th>Position</th>\n",
       "      <th>Year</th>\n",
       "      <th>Season</th>\n",
       "      <th>Week</th>\n",
       "      <th>Game Date</th>\n",
       "      <th>Home or Away</th>\n",
       "      <th>Opponent</th>\n",
       "      <th>Outcome</th>\n",
       "      <th>Score</th>\n",
       "      <th>...</th>\n",
       "      <th>Yards Per Reception</th>\n",
       "      <th>Longest Reception</th>\n",
       "      <th>Receiving TDs</th>\n",
       "      <th>Rushing Attempts</th>\n",
       "      <th>Rushing Yards</th>\n",
       "      <th>Yards Per Carry</th>\n",
       "      <th>Longest Rushing Run</th>\n",
       "      <th>Rushing TDs</th>\n",
       "      <th>Fumbles</th>\n",
       "      <th>Fumbles Lost</th>\n",
       "    </tr>\n",
       "    <tr>\n",
       "      <th>Player Id</th>\n",
       "      <th></th>\n",
       "      <th></th>\n",
       "      <th></th>\n",
       "      <th></th>\n",
       "      <th></th>\n",
       "      <th></th>\n",
       "      <th></th>\n",
       "      <th></th>\n",
       "      <th></th>\n",
       "      <th></th>\n",
       "      <th></th>\n",
       "      <th></th>\n",
       "      <th></th>\n",
       "      <th></th>\n",
       "      <th></th>\n",
       "      <th></th>\n",
       "      <th></th>\n",
       "      <th></th>\n",
       "      <th></th>\n",
       "      <th></th>\n",
       "      <th></th>\n",
       "    </tr>\n",
       "  </thead>\n",
       "  <tbody>\n",
       "    <tr>\n",
       "      <th>floydraglin/2523695</th>\n",
       "      <td>Raglin, Floyd</td>\n",
       "      <td>NaN</td>\n",
       "      <td>1987</td>\n",
       "      <td>Regular Season</td>\n",
       "      <td>3</td>\n",
       "      <td>10/04</td>\n",
       "      <td>Away</td>\n",
       "      <td>SEA</td>\n",
       "      <td>L</td>\n",
       "      <td>20 to 24</td>\n",
       "      <td>...</td>\n",
       "      <td>--</td>\n",
       "      <td>--</td>\n",
       "      <td>--</td>\n",
       "      <td>--</td>\n",
       "      <td>--</td>\n",
       "      <td>--</td>\n",
       "      <td>--</td>\n",
       "      <td>--</td>\n",
       "      <td>--</td>\n",
       "      <td>--</td>\n",
       "    </tr>\n",
       "    <tr>\n",
       "      <th>floydraglin/2523695</th>\n",
       "      <td>Raglin, Floyd</td>\n",
       "      <td>NaN</td>\n",
       "      <td>1987</td>\n",
       "      <td>Regular Season</td>\n",
       "      <td>4</td>\n",
       "      <td>10/11</td>\n",
       "      <td>Home</td>\n",
       "      <td>KC</td>\n",
       "      <td>W</td>\n",
       "      <td>42 to 0</td>\n",
       "      <td>...</td>\n",
       "      <td>--</td>\n",
       "      <td>--</td>\n",
       "      <td>--</td>\n",
       "      <td>--</td>\n",
       "      <td>--</td>\n",
       "      <td>--</td>\n",
       "      <td>--</td>\n",
       "      <td>--</td>\n",
       "      <td>--</td>\n",
       "      <td>--</td>\n",
       "    </tr>\n",
       "  </tbody>\n",
       "</table>\n",
       "<p>2 rows × 24 columns</p>\n",
       "</div>"
      ],
      "text/plain": [
       "                              Name Position  Year          Season  Week  \\\n",
       "Player Id                                                                 \n",
       "floydraglin/2523695  Raglin, Floyd      NaN  1987  Regular Season     3   \n",
       "floydraglin/2523695  Raglin, Floyd      NaN  1987  Regular Season     4   \n",
       "\n",
       "                    Game Date Home or Away Opponent Outcome     Score  \\\n",
       "Player Id                                                               \n",
       "floydraglin/2523695     10/04         Away      SEA       L  20 to 24   \n",
       "floydraglin/2523695     10/11         Home       KC       W   42 to 0   \n",
       "\n",
       "                        ...       Yards Per Reception Longest Reception  \\\n",
       "Player Id               ...                                               \n",
       "floydraglin/2523695     ...                        --                --   \n",
       "floydraglin/2523695     ...                        --                --   \n",
       "\n",
       "                    Receiving TDs Rushing Attempts Rushing Yards  \\\n",
       "Player Id                                                          \n",
       "floydraglin/2523695            --               --            --   \n",
       "floydraglin/2523695            --               --            --   \n",
       "\n",
       "                    Yards Per Carry Longest Rushing Run Rushing TDs Fumbles  \\\n",
       "Player Id                                                                     \n",
       "floydraglin/2523695              --                  --          --      --   \n",
       "floydraglin/2523695              --                  --          --      --   \n",
       "\n",
       "                    Fumbles Lost  \n",
       "Player Id                         \n",
       "floydraglin/2523695           --  \n",
       "floydraglin/2523695           --  \n",
       "\n",
       "[2 rows x 24 columns]"
      ]
     },
     "execution_count": 129,
     "metadata": {},
     "output_type": "execute_result"
    }
   ],
   "source": [
    "wr = wr.set_index(['Player Id'])\n",
    "wr = wr.loc[(wr.Year > 1979)]\n",
    "wr.head(2)"
   ]
  },
  {
   "cell_type": "code",
   "execution_count": 189,
   "metadata": {
    "collapsed": false,
    "deletable": true,
    "editable": true
   },
   "outputs": [
    {
     "data": {
      "text/plain": [
       "Name\n",
       "Gore, Frank         2005\n",
       "Sproles, Darren     2005\n",
       "Sproles, Darren     2005\n",
       "Sproles, Darren     2005\n",
       "Sproles, Darren     2005\n",
       "Sproles, Darren     2005\n",
       "Sproles, Darren     2005\n",
       "Sproles, Darren     2005\n",
       "Sproles, Darren     2005\n",
       "Sproles, Darren     2005\n",
       "Sproles, Darren     2005\n",
       "Sproles, Darren     2005\n",
       "Sproles, Darren     2005\n",
       "Sproles, Darren     2005\n",
       "Sproles, Darren     2005\n",
       "Sproles, Darren     2005\n",
       "Sproles, Darren     2005\n",
       "Gore, Frank         2005\n",
       "Gore, Frank         2005\n",
       "Gore, Frank         2005\n",
       "Gore, Frank         2005\n",
       "Gore, Frank         2005\n",
       "Gore, Frank         2005\n",
       "Gore, Frank         2005\n",
       "Gore, Frank         2005\n",
       "Gore, Frank         2005\n",
       "Gore, Frank         2005\n",
       "Gore, Frank         2005\n",
       "Gore, Frank         2005\n",
       "Gore, Frank         2005\n",
       "                    ... \n",
       "Blue, Alfred        2016\n",
       "Blue, Alfred        2016\n",
       "Mathews, Ryan       2016\n",
       "Mathews, Ryan       2016\n",
       "Mathews, Ryan       2016\n",
       "Mathews, Ryan       2016\n",
       "West, Terrance      2016\n",
       "West, Terrance      2016\n",
       "West, Terrance      2016\n",
       "West, Terrance      2016\n",
       "West, Terrance      2016\n",
       "West, Terrance      2016\n",
       "West, Terrance      2016\n",
       "West, Terrance      2016\n",
       "West, Terrance      2016\n",
       "West, Terrance      2016\n",
       "West, Terrance      2016\n",
       "West, Terrance      2016\n",
       "West, Terrance      2016\n",
       "Elliott, Ezekiel    2016\n",
       "Elliott, Ezekiel    2016\n",
       "Elliott, Ezekiel    2016\n",
       "Elliott, Ezekiel    2016\n",
       "Mathews, Ryan       2016\n",
       "Mathews, Ryan       2016\n",
       "Mathews, Ryan       2016\n",
       "Mathews, Ryan       2016\n",
       "Mathews, Ryan       2016\n",
       "West, Terrance      2016\n",
       "Drake, Kenyan       2016\n",
       "Name: Year, Length: 9990, dtype: int64"
      ]
     },
     "execution_count": 189,
     "metadata": {},
     "output_type": "execute_result"
    }
   ],
   "source": [
    "rb_full = rb.merge(rb_basic).set_index(['Name'])\n",
    "rb_full.Year.sort_values()"
   ]
  },
  {
   "cell_type": "code",
   "execution_count": 188,
   "metadata": {
    "collapsed": false
   },
   "outputs": [
    {
     "data": {
      "text/plain": [
       "Name\n",
       "Smith, Steve      2001\n",
       "Smith, Steve      2001\n",
       "Smith, Steve      2001\n",
       "Smith, Steve      2001\n",
       "Smith, Steve      2001\n",
       "Smith, Steve      2001\n",
       "Smith, Steve      2001\n",
       "Smith, Steve      2001\n",
       "Smith, Steve      2001\n",
       "Smith, Steve      2001\n",
       "Smith, Steve      2001\n",
       "Smith, Steve      2001\n",
       "Smith, Steve      2001\n",
       "Smith, Steve      2001\n",
       "Smith, Steve      2001\n",
       "Smith, Steve      2001\n",
       "Smith, Steve      2001\n",
       "Smith, Steve      2002\n",
       "Smith, Steve      2002\n",
       "Smith, Steve      2002\n",
       "Smith, Steve      2002\n",
       "Smith, Steve      2002\n",
       "Smith, Steve      2002\n",
       "Smith, Steve      2002\n",
       "Smith, Steve      2002\n",
       "Smith, Steve      2002\n",
       "Smith, Steve      2002\n",
       "Smith, Steve      2002\n",
       "Smith, Steve      2002\n",
       "Smith, Steve      2002\n",
       "                  ... \n",
       "Roberts, Andre    2016\n",
       "Roberts, Andre    2016\n",
       "Roberts, Andre    2016\n",
       "Roberts, Andre    2016\n",
       "Roberts, Andre    2016\n",
       "Gordon, Josh      2016\n",
       "Gordon, Josh      2016\n",
       "Gordon, Josh      2016\n",
       "Roberts, Andre    2016\n",
       "Brown, Jaron      2016\n",
       "Roberts, Andre    2016\n",
       "Roberts, Andre    2016\n",
       "Conley, Chris     2016\n",
       "Conley, Chris     2016\n",
       "Conley, Chris     2016\n",
       "Conley, Chris     2016\n",
       "Conley, Chris     2016\n",
       "Conley, Chris     2016\n",
       "Conley, Chris     2016\n",
       "Roberts, Andre    2016\n",
       "Conley, Chris     2016\n",
       "Conley, Chris     2016\n",
       "Conley, Chris     2016\n",
       "Conley, Chris     2016\n",
       "Roberts, Andre    2016\n",
       "Roberts, Andre    2016\n",
       "Roberts, Andre    2016\n",
       "Roberts, Andre    2016\n",
       "Conley, Chris     2016\n",
       "Norwood, Kevin    2016\n",
       "Name: Year, Length: 14545, dtype: int64"
      ]
     },
     "execution_count": 188,
     "metadata": {},
     "output_type": "execute_result"
    }
   ],
   "source": [
    "wr_full = wr.merge(wr_basic).set_index(['Name'])\n",
    "wr_full.Year.sort_values()"
   ]
  },
  {
   "cell_type": "code",
   "execution_count": 132,
   "metadata": {
    "collapsed": false
   },
   "outputs": [],
   "source": [
    "rb_full = rb_full.drop(['Birth Place',\n",
    " 'Birthday','High School',\n",
    " 'High School Location',\n",
    " 'Number','Years Played','Experience'], axis=1, inplace=False)\n",
    "\n",
    "wr_full = wr_full.drop(['Birth Place',\n",
    " 'Birthday','High School',\n",
    " 'High School Location',\n",
    " 'Number','Years Played','Experience'], axis=1, inplace=False)"
   ]
  },
  {
   "cell_type": "code",
   "execution_count": 165,
   "metadata": {
    "collapsed": true
   },
   "outputs": [],
   "source": [
    "#fix numeric issues\n",
    "rb_full = rb_full.replace('--',0)\n",
    "rb_full['Longest Rushing Run'] = rb_full['Longest Rushing Run'].map(lambda x: str(x).rstrip('T'))\n",
    "rb_full['Longest Reception'] = rb_full['Longest Reception'].map(lambda x: str(x).rstrip('T'))\n",
    "#rb_full['Experience'] = rb_full['Experience'].map(lambda x: str(x).replace('season','').replace('st','').replace('nd','').replace('rd','').replace('th','').replace('Rookie','0').lstrip())\n",
    "rb_full['Experience'] = 2017 - rb_full['Year']\n",
    "rb_full = rb_full.apply(pd.to_numeric, errors='ignore')\n",
    "\n",
    "#fix numeric issues\n",
    "wr_full = wr_full.replace('--',0)\n",
    "wr_full['Longest Rushing Run'] = wr_full['Longest Rushing Run'].map(lambda x: str(x).rstrip('T'))\n",
    "wr_full['Longest Reception'] = wr_full['Longest Reception'].map(lambda x: str(x).rstrip('T'))\n",
    "#wr_full['Experience'] = wr_full['Experience'].map(lambda x: str(x).replace('season','').replace('st','').replace('nd','').replace('rd','').replace('th','').replace('Rookie','0').lstrip())\n",
    "wr_full['Experience'] = 2017 - wr_full['Year']\n",
    "wr_full = wr_full.apply(pd.to_numeric, errors='ignore')"
   ]
  },
  {
   "cell_type": "markdown",
   "metadata": {},
   "source": [
    "### Vizualize Important Components of the Data and Some Key Covariates + Cleanup"
   ]
  },
  {
   "cell_type": "markdown",
   "metadata": {},
   "source": [
    "#### Column Names"
   ]
  },
  {
   "cell_type": "code",
   "execution_count": 134,
   "metadata": {
    "collapsed": false
   },
   "outputs": [
    {
     "name": "stdout",
     "output_type": "stream",
     "text": [
      "['Position', 'Year', 'Season', 'Week', 'Game Date', 'Home or Away', 'Opponent', 'Outcome', 'Score', 'Games Played', 'Games Started', 'Rushing Attempts', 'Rushing Yards', 'Yards Per Carry', 'Longest Rushing Run', 'Rushing TDs', 'Receptions', 'Receiving Yards', 'Yards Per Reception', 'Longest Reception', 'Receiving TDs', 'Fumbles', 'Fumbles Lost', 'Age', 'College', 'Current Status', 'Current Team', 'Height (inches)', 'Weight (lbs)']\n"
     ]
    }
   ],
   "source": [
    "print(list(rb_full))"
   ]
  },
  {
   "cell_type": "code",
   "execution_count": 135,
   "metadata": {
    "collapsed": false
   },
   "outputs": [
    {
     "name": "stdout",
     "output_type": "stream",
     "text": [
      "['Position', 'Year', 'Season', 'Week', 'Game Date', 'Home or Away', 'Opponent', 'Outcome', 'Score', 'Games Played', 'Games Started', 'Receptions', 'Receiving Yards', 'Yards Per Reception', 'Longest Reception', 'Receiving TDs', 'Rushing Attempts', 'Rushing Yards', 'Yards Per Carry', 'Longest Rushing Run', 'Rushing TDs', 'Fumbles', 'Fumbles Lost', 'Age', 'College', 'Current Status', 'Current Team', 'Height (inches)', 'Weight (lbs)']\n"
     ]
    }
   ],
   "source": [
    "print(list(wr_full))"
   ]
  },
  {
   "cell_type": "markdown",
   "metadata": {},
   "source": [
    "#### RB Analysis"
   ]
  },
  {
   "cell_type": "code",
   "execution_count": 166,
   "metadata": {
    "collapsed": false
   },
   "outputs": [
    {
     "name": "stdout",
     "output_type": "stream",
     "text": [
      "(9990, 30)\n"
     ]
    },
    {
     "data": {
      "text/html": [
       "<div>\n",
       "<style>\n",
       "    .dataframe thead tr:only-child th {\n",
       "        text-align: right;\n",
       "    }\n",
       "\n",
       "    .dataframe thead th {\n",
       "        text-align: left;\n",
       "    }\n",
       "\n",
       "    .dataframe tbody tr th {\n",
       "        vertical-align: top;\n",
       "    }\n",
       "</style>\n",
       "<table border=\"1\" class=\"dataframe\">\n",
       "  <thead>\n",
       "    <tr style=\"text-align: right;\">\n",
       "      <th></th>\n",
       "      <th>Year</th>\n",
       "      <th>Week</th>\n",
       "      <th>Games Played</th>\n",
       "      <th>Games Started</th>\n",
       "      <th>Rushing Attempts</th>\n",
       "      <th>Rushing Yards</th>\n",
       "      <th>Yards Per Carry</th>\n",
       "      <th>Longest Rushing Run</th>\n",
       "      <th>Rushing TDs</th>\n",
       "      <th>Receptions</th>\n",
       "      <th>Receiving Yards</th>\n",
       "      <th>Yards Per Reception</th>\n",
       "      <th>Longest Reception</th>\n",
       "      <th>Receiving TDs</th>\n",
       "      <th>Fumbles</th>\n",
       "      <th>Fumbles Lost</th>\n",
       "      <th>Age</th>\n",
       "      <th>Height (inches)</th>\n",
       "      <th>Weight (lbs)</th>\n",
       "      <th>Experience</th>\n",
       "    </tr>\n",
       "  </thead>\n",
       "  <tbody>\n",
       "    <tr>\n",
       "      <th>count</th>\n",
       "      <td>9990.000000</td>\n",
       "      <td>9990.000000</td>\n",
       "      <td>9990.000000</td>\n",
       "      <td>9990.000000</td>\n",
       "      <td>9990.000000</td>\n",
       "      <td>9990.000000</td>\n",
       "      <td>9990.000000</td>\n",
       "      <td>9990.000000</td>\n",
       "      <td>9990.000000</td>\n",
       "      <td>9990.000000</td>\n",
       "      <td>9990.000000</td>\n",
       "      <td>9990.000000</td>\n",
       "      <td>9990.000000</td>\n",
       "      <td>9990.000000</td>\n",
       "      <td>9990.000000</td>\n",
       "      <td>9990.000000</td>\n",
       "      <td>9990.000000</td>\n",
       "      <td>9990.000000</td>\n",
       "      <td>9990.000000</td>\n",
       "      <td>9990.000000</td>\n",
       "    </tr>\n",
       "    <tr>\n",
       "      <th>mean</th>\n",
       "      <td>2013.541341</td>\n",
       "      <td>7.966967</td>\n",
       "      <td>0.839239</td>\n",
       "      <td>0.336236</td>\n",
       "      <td>6.614414</td>\n",
       "      <td>28.596196</td>\n",
       "      <td>2.887928</td>\n",
       "      <td>9.891892</td>\n",
       "      <td>0.192893</td>\n",
       "      <td>1.333433</td>\n",
       "      <td>10.874474</td>\n",
       "      <td>4.182973</td>\n",
       "      <td>6.475075</td>\n",
       "      <td>0.047347</td>\n",
       "      <td>0.091291</td>\n",
       "      <td>0.053654</td>\n",
       "      <td>27.946246</td>\n",
       "      <td>70.742843</td>\n",
       "      <td>214.874174</td>\n",
       "      <td>3.458659</td>\n",
       "    </tr>\n",
       "    <tr>\n",
       "      <th>std</th>\n",
       "      <td>2.403788</td>\n",
       "      <td>5.609289</td>\n",
       "      <td>0.367329</td>\n",
       "      <td>0.472444</td>\n",
       "      <td>7.353145</td>\n",
       "      <td>37.518274</td>\n",
       "      <td>3.122435</td>\n",
       "      <td>12.807973</td>\n",
       "      <td>0.484962</td>\n",
       "      <td>1.846126</td>\n",
       "      <td>18.171601</td>\n",
       "      <td>6.174960</td>\n",
       "      <td>9.885445</td>\n",
       "      <td>0.224312</td>\n",
       "      <td>0.314934</td>\n",
       "      <td>0.234488</td>\n",
       "      <td>3.000286</td>\n",
       "      <td>1.880991</td>\n",
       "      <td>12.960728</td>\n",
       "      <td>2.403788</td>\n",
       "    </tr>\n",
       "    <tr>\n",
       "      <th>min</th>\n",
       "      <td>2005.000000</td>\n",
       "      <td>0.000000</td>\n",
       "      <td>0.000000</td>\n",
       "      <td>0.000000</td>\n",
       "      <td>0.000000</td>\n",
       "      <td>-8.000000</td>\n",
       "      <td>-8.000000</td>\n",
       "      <td>-8.000000</td>\n",
       "      <td>0.000000</td>\n",
       "      <td>0.000000</td>\n",
       "      <td>-12.000000</td>\n",
       "      <td>-7.000000</td>\n",
       "      <td>-7.000000</td>\n",
       "      <td>0.000000</td>\n",
       "      <td>0.000000</td>\n",
       "      <td>0.000000</td>\n",
       "      <td>21.000000</td>\n",
       "      <td>66.000000</td>\n",
       "      <td>185.000000</td>\n",
       "      <td>1.000000</td>\n",
       "    </tr>\n",
       "    <tr>\n",
       "      <th>25%</th>\n",
       "      <td>2012.000000</td>\n",
       "      <td>3.000000</td>\n",
       "      <td>1.000000</td>\n",
       "      <td>0.000000</td>\n",
       "      <td>0.000000</td>\n",
       "      <td>0.000000</td>\n",
       "      <td>0.000000</td>\n",
       "      <td>0.000000</td>\n",
       "      <td>0.000000</td>\n",
       "      <td>0.000000</td>\n",
       "      <td>0.000000</td>\n",
       "      <td>0.000000</td>\n",
       "      <td>0.000000</td>\n",
       "      <td>0.000000</td>\n",
       "      <td>0.000000</td>\n",
       "      <td>0.000000</td>\n",
       "      <td>26.000000</td>\n",
       "      <td>69.000000</td>\n",
       "      <td>205.000000</td>\n",
       "      <td>2.000000</td>\n",
       "    </tr>\n",
       "    <tr>\n",
       "      <th>50%</th>\n",
       "      <td>2014.000000</td>\n",
       "      <td>7.000000</td>\n",
       "      <td>1.000000</td>\n",
       "      <td>0.000000</td>\n",
       "      <td>4.000000</td>\n",
       "      <td>13.000000</td>\n",
       "      <td>2.800000</td>\n",
       "      <td>7.000000</td>\n",
       "      <td>0.000000</td>\n",
       "      <td>1.000000</td>\n",
       "      <td>0.000000</td>\n",
       "      <td>0.000000</td>\n",
       "      <td>0.000000</td>\n",
       "      <td>0.000000</td>\n",
       "      <td>0.000000</td>\n",
       "      <td>0.000000</td>\n",
       "      <td>28.000000</td>\n",
       "      <td>71.000000</td>\n",
       "      <td>216.000000</td>\n",
       "      <td>3.000000</td>\n",
       "    </tr>\n",
       "    <tr>\n",
       "      <th>75%</th>\n",
       "      <td>2015.000000</td>\n",
       "      <td>13.000000</td>\n",
       "      <td>1.000000</td>\n",
       "      <td>1.000000</td>\n",
       "      <td>11.000000</td>\n",
       "      <td>44.000000</td>\n",
       "      <td>4.500000</td>\n",
       "      <td>14.000000</td>\n",
       "      <td>0.000000</td>\n",
       "      <td>2.000000</td>\n",
       "      <td>16.000000</td>\n",
       "      <td>7.275000</td>\n",
       "      <td>11.000000</td>\n",
       "      <td>0.000000</td>\n",
       "      <td>0.000000</td>\n",
       "      <td>0.000000</td>\n",
       "      <td>30.000000</td>\n",
       "      <td>72.000000</td>\n",
       "      <td>223.000000</td>\n",
       "      <td>5.000000</td>\n",
       "    </tr>\n",
       "    <tr>\n",
       "      <th>max</th>\n",
       "      <td>2016.000000</td>\n",
       "      <td>22.000000</td>\n",
       "      <td>1.000000</td>\n",
       "      <td>1.000000</td>\n",
       "      <td>38.000000</td>\n",
       "      <td>296.000000</td>\n",
       "      <td>53.000000</td>\n",
       "      <td>97.000000</td>\n",
       "      <td>4.000000</td>\n",
       "      <td>15.000000</td>\n",
       "      <td>195.000000</td>\n",
       "      <td>76.000000</td>\n",
       "      <td>89.000000</td>\n",
       "      <td>4.000000</td>\n",
       "      <td>3.000000</td>\n",
       "      <td>2.000000</td>\n",
       "      <td>34.000000</td>\n",
       "      <td>75.000000</td>\n",
       "      <td>250.000000</td>\n",
       "      <td>12.000000</td>\n",
       "    </tr>\n",
       "  </tbody>\n",
       "</table>\n",
       "</div>"
      ],
      "text/plain": [
       "              Year         Week  Games Played  Games Started  \\\n",
       "count  9990.000000  9990.000000   9990.000000    9990.000000   \n",
       "mean   2013.541341     7.966967      0.839239       0.336236   \n",
       "std       2.403788     5.609289      0.367329       0.472444   \n",
       "min    2005.000000     0.000000      0.000000       0.000000   \n",
       "25%    2012.000000     3.000000      1.000000       0.000000   \n",
       "50%    2014.000000     7.000000      1.000000       0.000000   \n",
       "75%    2015.000000    13.000000      1.000000       1.000000   \n",
       "max    2016.000000    22.000000      1.000000       1.000000   \n",
       "\n",
       "       Rushing Attempts  Rushing Yards  Yards Per Carry  Longest Rushing Run  \\\n",
       "count       9990.000000    9990.000000      9990.000000          9990.000000   \n",
       "mean           6.614414      28.596196         2.887928             9.891892   \n",
       "std            7.353145      37.518274         3.122435            12.807973   \n",
       "min            0.000000      -8.000000        -8.000000            -8.000000   \n",
       "25%            0.000000       0.000000         0.000000             0.000000   \n",
       "50%            4.000000      13.000000         2.800000             7.000000   \n",
       "75%           11.000000      44.000000         4.500000            14.000000   \n",
       "max           38.000000     296.000000        53.000000            97.000000   \n",
       "\n",
       "       Rushing TDs   Receptions  Receiving Yards  Yards Per Reception  \\\n",
       "count  9990.000000  9990.000000      9990.000000          9990.000000   \n",
       "mean      0.192893     1.333433        10.874474             4.182973   \n",
       "std       0.484962     1.846126        18.171601             6.174960   \n",
       "min       0.000000     0.000000       -12.000000            -7.000000   \n",
       "25%       0.000000     0.000000         0.000000             0.000000   \n",
       "50%       0.000000     1.000000         0.000000             0.000000   \n",
       "75%       0.000000     2.000000        16.000000             7.275000   \n",
       "max       4.000000    15.000000       195.000000            76.000000   \n",
       "\n",
       "       Longest Reception  Receiving TDs      Fumbles  Fumbles Lost  \\\n",
       "count        9990.000000    9990.000000  9990.000000   9990.000000   \n",
       "mean            6.475075       0.047347     0.091291      0.053654   \n",
       "std             9.885445       0.224312     0.314934      0.234488   \n",
       "min            -7.000000       0.000000     0.000000      0.000000   \n",
       "25%             0.000000       0.000000     0.000000      0.000000   \n",
       "50%             0.000000       0.000000     0.000000      0.000000   \n",
       "75%            11.000000       0.000000     0.000000      0.000000   \n",
       "max            89.000000       4.000000     3.000000      2.000000   \n",
       "\n",
       "               Age  Height (inches)  Weight (lbs)   Experience  \n",
       "count  9990.000000      9990.000000   9990.000000  9990.000000  \n",
       "mean     27.946246        70.742843    214.874174     3.458659  \n",
       "std       3.000286         1.880991     12.960728     2.403788  \n",
       "min      21.000000        66.000000    185.000000     1.000000  \n",
       "25%      26.000000        69.000000    205.000000     2.000000  \n",
       "50%      28.000000        71.000000    216.000000     3.000000  \n",
       "75%      30.000000        72.000000    223.000000     5.000000  \n",
       "max      34.000000        75.000000    250.000000    12.000000  "
      ]
     },
     "execution_count": 166,
     "metadata": {},
     "output_type": "execute_result"
    }
   ],
   "source": [
    "print(rb_full.shape)\n",
    "rb_full.describe()"
   ]
  },
  {
   "cell_type": "code",
   "execution_count": 167,
   "metadata": {
    "collapsed": false
   },
   "outputs": [
    {
     "data": {
      "text/plain": [
       "Position                object\n",
       "Year                     int64\n",
       "Season                  object\n",
       "Week                     int64\n",
       "Game Date               object\n",
       "Home or Away            object\n",
       "Opponent                object\n",
       "Outcome                 object\n",
       "Score                   object\n",
       "Games Played             int64\n",
       "Games Started            int64\n",
       "Rushing Attempts         int64\n",
       "Rushing Yards            int64\n",
       "Yards Per Carry        float64\n",
       "Longest Rushing Run      int64\n",
       "Rushing TDs              int64\n",
       "Receptions               int64\n",
       "Receiving Yards          int64\n",
       "Yards Per Reception    float64\n",
       "Longest Reception        int64\n",
       "Receiving TDs            int64\n",
       "Fumbles                  int64\n",
       "Fumbles Lost             int64\n",
       "Age                    float64\n",
       "College                 object\n",
       "Current Status          object\n",
       "Current Team            object\n",
       "Height (inches)        float64\n",
       "Weight (lbs)           float64\n",
       "Experience               int64\n",
       "dtype: object"
      ]
     },
     "execution_count": 167,
     "metadata": {},
     "output_type": "execute_result"
    }
   ],
   "source": [
    "rb_full.dtypes"
   ]
  },
  {
   "cell_type": "code",
   "execution_count": 141,
   "metadata": {
    "collapsed": false,
    "deletable": true,
    "editable": true
   },
   "outputs": [
    {
     "name": "stdout",
     "output_type": "stream",
     "text": [
      "0\n",
      "0\n"
     ]
    }
   ],
   "source": [
    "#fix empty cell issues\n",
    "print(len(rb_full) - len(rb_full['Rushing Attempts'].dropna()))\n",
    "print(len(rb_full) - len(rb_full['Rushing TDs'].dropna()))"
   ]
  },
  {
   "cell_type": "code",
   "execution_count": 142,
   "metadata": {
    "collapsed": true
   },
   "outputs": [],
   "source": [
    "#sum of Rushing Yards per year .plot;"
   ]
  },
  {
   "cell_type": "code",
   "execution_count": 143,
   "metadata": {
    "collapsed": true
   },
   "outputs": [],
   "source": [
    "#sum of Rushing Attempts per year .plot;"
   ]
  },
  {
   "cell_type": "code",
   "execution_count": 144,
   "metadata": {
    "collapsed": false
   },
   "outputs": [
    {
     "data": {
      "image/png": "[encoded data removed]",
      "text/plain": [
       "<matplotlib.figure.Figure at 0x11cdead50>"
      ]
     },
     "metadata": {},
     "output_type": "display_data"
    }
   ],
   "source": [
    "#side by side violins of height and weight\n",
    "sns.factorplot(\n",
    "    y='Height (inches)',\n",
    "    data=rb_full, \n",
    "    kind='box'\n",
    ");\n",
    "#the measurer esitmates the players height to the half inch most of the time\n",
    "#and to the quarter inch less frequently, so there are dips in between\n",
    "#this makes the violin less helpful so switching to box instead"
   ]
  },
  {
   "cell_type": "code",
   "execution_count": 145,
   "metadata": {
    "collapsed": false
   },
   "outputs": [
    {
     "data": {
      "image/png": "[encoded data removed]",
      "text/plain": [
       "<matplotlib.figure.Figure at 0x11ae42610>"
      ]
     },
     "metadata": {},
     "output_type": "display_data"
    }
   ],
   "source": [
    "sns.factorplot(\n",
    "    y='Weight (lbs)',\n",
    "    data=rb_full, \n",
    "    kind='box'\n",
    ");\n",
    "\n",
    "#similar to height, measurers round to 5 lbs in some instances\n",
    "#this makes the violin less helpful so switching to box instead"
   ]
  },
  {
   "cell_type": "code",
   "execution_count": 148,
   "metadata": {
    "collapsed": false
   },
   "outputs": [
    {
     "data": {
      "text/plain": [
       "California      580\n",
       "Miami (Fla.)    437\n",
       "Oregon          388\n",
       "Name: College, dtype: int64"
      ]
     },
     "execution_count": 148,
     "metadata": {},
     "output_type": "execute_result"
    }
   ],
   "source": [
    "rb_college_counts = rb_full.College.value_counts()\n",
    "rb_college_counts.head(3)"
   ]
  },
  {
   "cell_type": "code",
   "execution_count": 149,
   "metadata": {
    "collapsed": false
   },
   "outputs": [
    {
     "data": {
      "text/plain": [
       "<matplotlib.axes._subplots.AxesSubplot at 0x11aec3110>"
      ]
     },
     "execution_count": 149,
     "metadata": {},
     "output_type": "execute_result"
    },
    {
     "data": {
      "image/png": "[encoded data removed]",
      "text/plain": [
       "<matplotlib.figure.Figure at 0x11cd61950>"
      ]
     },
     "metadata": {},
     "output_type": "display_data"
    }
   ],
   "source": [
    "rb_college_counts[:20].plot(kind='bar')"
   ]
  },
  {
   "cell_type": "code",
   "execution_count": 150,
   "metadata": {
    "collapsed": false
   },
   "outputs": [
    {
     "data": {
      "image/png": "[encoded data removed]",
      "text/plain": [
       "<matplotlib.figure.Figure at 0x1226169d0>"
      ]
     },
     "metadata": {},
     "output_type": "display_data"
    }
   ],
   "source": [
    "# visualize the relationship between the features and the response using scatterplots\n",
    "fig, axs = plt.subplots(1, 2, sharey=True)\n",
    "rb_full.plot(kind='scatter', x='Rushing Yards', y='Rushing Attempts', ax=axs[0], figsize=(16, 8))\n",
    "rb_full.plot(kind='scatter', x='Rushing TDs', y='Rushing Attempts', ax=axs[1]);"
   ]
  },
  {
   "cell_type": "code",
   "execution_count": 170,
   "metadata": {
    "collapsed": false
   },
   "outputs": [
    {
     "data": {
      "image/png": "[encoded data removed]",
      "text/plain": [
       "<matplotlib.figure.Figure at 0x11cc63150>"
      ]
     },
     "metadata": {},
     "output_type": "display_data"
    }
   ],
   "source": [
    "fig, axs = plt.subplots(1, 2, sharey=True)\n",
    "rb_full.plot(kind='scatter', x='Rushing Yards', y='Yards Per Carry', ax=axs[0], figsize=(16, 8))\n",
    "rb_full.plot(kind='scatter', x='Rushing TDs', y='Yards Per Carry', ax=axs[1]);"
   ]
  },
  {
   "cell_type": "code",
   "execution_count": 173,
   "metadata": {
    "collapsed": false
   },
   "outputs": [
    {
     "data": {
      "image/png": "[encoded data removed]",
      "text/plain": [
       "<matplotlib.figure.Figure at 0x11adf9f10>"
      ]
     },
     "metadata": {},
     "output_type": "display_data"
    }
   ],
   "source": [
    "# visualize the relationship between the features and the response using scatterplots\n",
    "fig, axs = plt.subplots(1, 2, sharey=True)\n",
    "rb_full.plot(kind='scatter', x='Rushing Yards', y='Experience', ax=axs[0], figsize=(16, 8))\n",
    "rb_full.plot(kind='scatter', x='Rushing TDs', y='Experience', ax=axs[1]);"
   ]
  },
  {
   "cell_type": "markdown",
   "metadata": {},
   "source": [
    "#### WR Analysis"
   ]
  },
  {
   "cell_type": "code",
   "execution_count": 152,
   "metadata": {
    "collapsed": false
   },
   "outputs": [
    {
     "name": "stdout",
     "output_type": "stream",
     "text": [
      "(14545, 29)\n"
     ]
    },
    {
     "data": {
      "text/html": [
       "<div>\n",
       "<style>\n",
       "    .dataframe thead tr:only-child th {\n",
       "        text-align: right;\n",
       "    }\n",
       "\n",
       "    .dataframe thead th {\n",
       "        text-align: left;\n",
       "    }\n",
       "\n",
       "    .dataframe tbody tr th {\n",
       "        vertical-align: top;\n",
       "    }\n",
       "</style>\n",
       "<table border=\"1\" class=\"dataframe\">\n",
       "  <thead>\n",
       "    <tr style=\"text-align: right;\">\n",
       "      <th></th>\n",
       "      <th>Year</th>\n",
       "      <th>Week</th>\n",
       "      <th>Games Played</th>\n",
       "      <th>Games Started</th>\n",
       "      <th>Receptions</th>\n",
       "      <th>Receiving Yards</th>\n",
       "      <th>Yards Per Reception</th>\n",
       "      <th>Longest Reception</th>\n",
       "      <th>Receiving TDs</th>\n",
       "      <th>Rushing Attempts</th>\n",
       "      <th>Rushing Yards</th>\n",
       "      <th>Yards Per Carry</th>\n",
       "      <th>Longest Rushing Run</th>\n",
       "      <th>Rushing TDs</th>\n",
       "      <th>Fumbles</th>\n",
       "      <th>Fumbles Lost</th>\n",
       "      <th>Age</th>\n",
       "      <th>Height (inches)</th>\n",
       "      <th>Weight (lbs)</th>\n",
       "    </tr>\n",
       "  </thead>\n",
       "  <tbody>\n",
       "    <tr>\n",
       "      <th>count</th>\n",
       "      <td>14545.000000</td>\n",
       "      <td>14545.000000</td>\n",
       "      <td>14545.000000</td>\n",
       "      <td>14545.000000</td>\n",
       "      <td>14545.000000</td>\n",
       "      <td>14545.000000</td>\n",
       "      <td>14545.000000</td>\n",
       "      <td>14545.000000</td>\n",
       "      <td>14545.000000</td>\n",
       "      <td>14545.000000</td>\n",
       "      <td>14545.000000</td>\n",
       "      <td>14545.000000</td>\n",
       "      <td>14545.000000</td>\n",
       "      <td>14545.000000</td>\n",
       "      <td>14545.000000</td>\n",
       "      <td>14545.000000</td>\n",
       "      <td>14545.000000</td>\n",
       "      <td>14545.000000</td>\n",
       "      <td>14545.000000</td>\n",
       "    </tr>\n",
       "    <tr>\n",
       "      <th>mean</th>\n",
       "      <td>2013.516879</td>\n",
       "      <td>8.024063</td>\n",
       "      <td>0.856514</td>\n",
       "      <td>0.451152</td>\n",
       "      <td>2.356411</td>\n",
       "      <td>31.532485</td>\n",
       "      <td>8.923548</td>\n",
       "      <td>14.960949</td>\n",
       "      <td>0.199106</td>\n",
       "      <td>0.164799</td>\n",
       "      <td>1.001856</td>\n",
       "      <td>0.625101</td>\n",
       "      <td>0.809763</td>\n",
       "      <td>0.004675</td>\n",
       "      <td>0.056102</td>\n",
       "      <td>0.024682</td>\n",
       "      <td>27.982399</td>\n",
       "      <td>72.462358</td>\n",
       "      <td>202.514129</td>\n",
       "    </tr>\n",
       "    <tr>\n",
       "      <th>std</th>\n",
       "      <td>2.586061</td>\n",
       "      <td>5.657788</td>\n",
       "      <td>0.350580</td>\n",
       "      <td>0.497625</td>\n",
       "      <td>2.594347</td>\n",
       "      <td>38.534178</td>\n",
       "      <td>9.248721</td>\n",
       "      <td>16.667891</td>\n",
       "      <td>0.471506</td>\n",
       "      <td>0.826705</td>\n",
       "      <td>5.660967</td>\n",
       "      <td>3.380892</td>\n",
       "      <td>4.246760</td>\n",
       "      <td>0.068217</td>\n",
       "      <td>0.248513</td>\n",
       "      <td>0.157796</td>\n",
       "      <td>3.467608</td>\n",
       "      <td>2.333947</td>\n",
       "      <td>15.173056</td>\n",
       "    </tr>\n",
       "    <tr>\n",
       "      <th>min</th>\n",
       "      <td>2001.000000</td>\n",
       "      <td>0.000000</td>\n",
       "      <td>0.000000</td>\n",
       "      <td>0.000000</td>\n",
       "      <td>0.000000</td>\n",
       "      <td>-12.000000</td>\n",
       "      <td>-12.000000</td>\n",
       "      <td>-6.000000</td>\n",
       "      <td>0.000000</td>\n",
       "      <td>0.000000</td>\n",
       "      <td>-14.000000</td>\n",
       "      <td>-14.000000</td>\n",
       "      <td>-14.000000</td>\n",
       "      <td>0.000000</td>\n",
       "      <td>0.000000</td>\n",
       "      <td>0.000000</td>\n",
       "      <td>21.000000</td>\n",
       "      <td>66.000000</td>\n",
       "      <td>159.000000</td>\n",
       "    </tr>\n",
       "    <tr>\n",
       "      <th>25%</th>\n",
       "      <td>2012.000000</td>\n",
       "      <td>3.000000</td>\n",
       "      <td>1.000000</td>\n",
       "      <td>0.000000</td>\n",
       "      <td>0.000000</td>\n",
       "      <td>0.000000</td>\n",
       "      <td>0.000000</td>\n",
       "      <td>0.000000</td>\n",
       "      <td>0.000000</td>\n",
       "      <td>0.000000</td>\n",
       "      <td>0.000000</td>\n",
       "      <td>0.000000</td>\n",
       "      <td>0.000000</td>\n",
       "      <td>0.000000</td>\n",
       "      <td>0.000000</td>\n",
       "      <td>0.000000</td>\n",
       "      <td>25.000000</td>\n",
       "      <td>71.000000</td>\n",
       "      <td>190.000000</td>\n",
       "    </tr>\n",
       "    <tr>\n",
       "      <th>50%</th>\n",
       "      <td>2014.000000</td>\n",
       "      <td>7.000000</td>\n",
       "      <td>1.000000</td>\n",
       "      <td>0.000000</td>\n",
       "      <td>2.000000</td>\n",
       "      <td>17.000000</td>\n",
       "      <td>8.300000</td>\n",
       "      <td>11.000000</td>\n",
       "      <td>0.000000</td>\n",
       "      <td>0.000000</td>\n",
       "      <td>0.000000</td>\n",
       "      <td>0.000000</td>\n",
       "      <td>0.000000</td>\n",
       "      <td>0.000000</td>\n",
       "      <td>0.000000</td>\n",
       "      <td>0.000000</td>\n",
       "      <td>28.000000</td>\n",
       "      <td>72.000000</td>\n",
       "      <td>205.000000</td>\n",
       "    </tr>\n",
       "    <tr>\n",
       "      <th>75%</th>\n",
       "      <td>2016.000000</td>\n",
       "      <td>13.000000</td>\n",
       "      <td>1.000000</td>\n",
       "      <td>1.000000</td>\n",
       "      <td>4.000000</td>\n",
       "      <td>51.000000</td>\n",
       "      <td>13.900000</td>\n",
       "      <td>23.000000</td>\n",
       "      <td>0.000000</td>\n",
       "      <td>0.000000</td>\n",
       "      <td>0.000000</td>\n",
       "      <td>0.000000</td>\n",
       "      <td>0.000000</td>\n",
       "      <td>0.000000</td>\n",
       "      <td>0.000000</td>\n",
       "      <td>0.000000</td>\n",
       "      <td>30.000000</td>\n",
       "      <td>74.000000</td>\n",
       "      <td>215.000000</td>\n",
       "    </tr>\n",
       "    <tr>\n",
       "      <th>max</th>\n",
       "      <td>2016.000000</td>\n",
       "      <td>22.000000</td>\n",
       "      <td>1.000000</td>\n",
       "      <td>1.000000</td>\n",
       "      <td>21.000000</td>\n",
       "      <td>300.000000</td>\n",
       "      <td>84.000000</td>\n",
       "      <td>99.000000</td>\n",
       "      <td>4.000000</td>\n",
       "      <td>24.000000</td>\n",
       "      <td>154.000000</td>\n",
       "      <td>75.000000</td>\n",
       "      <td>93.000000</td>\n",
       "      <td>1.000000</td>\n",
       "      <td>3.000000</td>\n",
       "      <td>2.000000</td>\n",
       "      <td>38.000000</td>\n",
       "      <td>78.000000</td>\n",
       "      <td>245.000000</td>\n",
       "    </tr>\n",
       "  </tbody>\n",
       "</table>\n",
       "</div>"
      ],
      "text/plain": [
       "               Year          Week  Games Played  Games Started    Receptions  \\\n",
       "count  14545.000000  14545.000000  14545.000000   14545.000000  14545.000000   \n",
       "mean    2013.516879      8.024063      0.856514       0.451152      2.356411   \n",
       "std        2.586061      5.657788      0.350580       0.497625      2.594347   \n",
       "min     2001.000000      0.000000      0.000000       0.000000      0.000000   \n",
       "25%     2012.000000      3.000000      1.000000       0.000000      0.000000   \n",
       "50%     2014.000000      7.000000      1.000000       0.000000      2.000000   \n",
       "75%     2016.000000     13.000000      1.000000       1.000000      4.000000   \n",
       "max     2016.000000     22.000000      1.000000       1.000000     21.000000   \n",
       "\n",
       "       Receiving Yards  Yards Per Reception  Longest Reception  Receiving TDs  \\\n",
       "count     14545.000000         14545.000000       14545.000000   14545.000000   \n",
       "mean         31.532485             8.923548          14.960949       0.199106   \n",
       "std          38.534178             9.248721          16.667891       0.471506   \n",
       "min         -12.000000           -12.000000          -6.000000       0.000000   \n",
       "25%           0.000000             0.000000           0.000000       0.000000   \n",
       "50%          17.000000             8.300000          11.000000       0.000000   \n",
       "75%          51.000000            13.900000          23.000000       0.000000   \n",
       "max         300.000000            84.000000          99.000000       4.000000   \n",
       "\n",
       "       Rushing Attempts  Rushing Yards  Yards Per Carry  Longest Rushing Run  \\\n",
       "count      14545.000000   14545.000000     14545.000000         14545.000000   \n",
       "mean           0.164799       1.001856         0.625101             0.809763   \n",
       "std            0.826705       5.660967         3.380892             4.246760   \n",
       "min            0.000000     -14.000000       -14.000000           -14.000000   \n",
       "25%            0.000000       0.000000         0.000000             0.000000   \n",
       "50%            0.000000       0.000000         0.000000             0.000000   \n",
       "75%            0.000000       0.000000         0.000000             0.000000   \n",
       "max           24.000000     154.000000        75.000000            93.000000   \n",
       "\n",
       "        Rushing TDs       Fumbles  Fumbles Lost           Age  \\\n",
       "count  14545.000000  14545.000000  14545.000000  14545.000000   \n",
       "mean       0.004675      0.056102      0.024682     27.982399   \n",
       "std        0.068217      0.248513      0.157796      3.467608   \n",
       "min        0.000000      0.000000      0.000000     21.000000   \n",
       "25%        0.000000      0.000000      0.000000     25.000000   \n",
       "50%        0.000000      0.000000      0.000000     28.000000   \n",
       "75%        0.000000      0.000000      0.000000     30.000000   \n",
       "max        1.000000      3.000000      2.000000     38.000000   \n",
       "\n",
       "       Height (inches)  Weight (lbs)  \n",
       "count     14545.000000  14545.000000  \n",
       "mean         72.462358    202.514129  \n",
       "std           2.333947     15.173056  \n",
       "min          66.000000    159.000000  \n",
       "25%          71.000000    190.000000  \n",
       "50%          72.000000    205.000000  \n",
       "75%          74.000000    215.000000  \n",
       "max          78.000000    245.000000  "
      ]
     },
     "execution_count": 152,
     "metadata": {},
     "output_type": "execute_result"
    }
   ],
   "source": [
    "print(wr_full.shape)\n",
    "wr_full.describe()"
   ]
  },
  {
   "cell_type": "code",
   "execution_count": 154,
   "metadata": {
    "collapsed": false
   },
   "outputs": [
    {
     "data": {
      "text/plain": [
       "Position                object\n",
       "Year                     int64\n",
       "Season                  object\n",
       "Week                     int64\n",
       "Game Date               object\n",
       "Home or Away            object\n",
       "Opponent                object\n",
       "Outcome                 object\n",
       "Score                   object\n",
       "Games Played             int64\n",
       "Games Started            int64\n",
       "Receptions               int64\n",
       "Receiving Yards          int64\n",
       "Yards Per Reception    float64\n",
       "Longest Reception        int64\n",
       "Receiving TDs            int64\n",
       "Rushing Attempts         int64\n",
       "Rushing Yards            int64\n",
       "Yards Per Carry        float64\n",
       "Longest Rushing Run      int64\n",
       "Rushing TDs              int64\n",
       "Fumbles                  int64\n",
       "Fumbles Lost             int64\n",
       "Age                    float64\n",
       "College                 object\n",
       "Current Status          object\n",
       "Current Team            object\n",
       "Height (inches)        float64\n",
       "Weight (lbs)           float64\n",
       "dtype: object"
      ]
     },
     "execution_count": 154,
     "metadata": {},
     "output_type": "execute_result"
    }
   ],
   "source": [
    "wr_full.dtypes"
   ]
  },
  {
   "cell_type": "code",
   "execution_count": 156,
   "metadata": {
    "collapsed": false,
    "deletable": true,
    "editable": true
   },
   "outputs": [
    {
     "name": "stdout",
     "output_type": "stream",
     "text": [
      "0\n",
      "0\n"
     ]
    }
   ],
   "source": [
    "print(len(wr_full) - len(wr_full['Receptions'].dropna()))\n",
    "print(len(wr_full) - len(wr_full['Receiving TDs'].dropna()))"
   ]
  },
  {
   "cell_type": "code",
   "execution_count": 159,
   "metadata": {
    "collapsed": false
   },
   "outputs": [
    {
     "data": {
      "image/png": "[encoded data removed]",
      "text/plain": [
       "<matplotlib.figure.Figure at 0x119cef910>"
      ]
     },
     "metadata": {},
     "output_type": "display_data"
    }
   ],
   "source": [
    "#side by side violins of height and weight\n",
    "sns.factorplot(\n",
    "    y='Height (inches)',\n",
    "    data=wr_full, \n",
    "    kind='box'\n",
    ");\n",
    "#the measurer estimates the players height to the half inch most of the time\n",
    "#and to the quarter inch less frequently, so there are dips in between\n",
    "#this makes the violin less helpful so switching to box instead"
   ]
  },
  {
   "cell_type": "code",
   "execution_count": 160,
   "metadata": {
    "collapsed": false
   },
   "outputs": [
    {
     "data": {
      "image/png": "[encoded data removed]",
      "text/plain": [
       "<matplotlib.figure.Figure at 0x11d5391d0>"
      ]
     },
     "metadata": {},
     "output_type": "display_data"
    }
   ],
   "source": [
    "#side by side violins of height and weight\n",
    "sns.factorplot(\n",
    "    y='Weight (lbs)',\n",
    "    data=wr_full, \n",
    "    kind='box'\n",
    ");\n",
    "#similar to height, measurers round to 5 lbs in some instances\n",
    "#this makes the violin less helpful so switching to box instead"
   ]
  },
  {
   "cell_type": "code",
   "execution_count": 161,
   "metadata": {
    "collapsed": false
   },
   "outputs": [
    {
     "data": {
      "text/plain": [
       "California      460\n",
       "Ohio State      445\n",
       "Miami (Fla.)    419\n",
       "Name: College, dtype: int64"
      ]
     },
     "execution_count": 161,
     "metadata": {},
     "output_type": "execute_result"
    }
   ],
   "source": [
    "wr_college_counts = wr_full.College.value_counts()\n",
    "wr_college_counts.head(3)"
   ]
  },
  {
   "cell_type": "code",
   "execution_count": 162,
   "metadata": {
    "collapsed": false
   },
   "outputs": [
    {
     "data": {
      "text/plain": [
       "<matplotlib.axes._subplots.AxesSubplot at 0x119d32610>"
      ]
     },
     "execution_count": 162,
     "metadata": {},
     "output_type": "execute_result"
    },
    {
     "data": {
      "image/png": "[encoded data removed]",
      "text/plain": [
       "<matplotlib.figure.Figure at 0x119dbbad0>"
      ]
     },
     "metadata": {},
     "output_type": "display_data"
    }
   ],
   "source": [
    "wr_college_counts[:20].plot(kind='bar')"
   ]
  },
  {
   "cell_type": "code",
   "execution_count": 163,
   "metadata": {
    "collapsed": false
   },
   "outputs": [
    {
     "data": {
      "image/png": "[encoded data removed]",
      "text/plain": [
       "<matplotlib.figure.Figure at 0x1227701d0>"
      ]
     },
     "metadata": {},
     "output_type": "display_data"
    }
   ],
   "source": [
    "# visualize the relationship between the features and the response using scatterplots\n",
    "fig, axs = plt.subplots(1, 2, sharey=True)\n",
    "wr_full.plot(kind='scatter', x='Receiving Yards', y='Receptions', ax=axs[0], figsize=(16, 8))\n",
    "wr_full.plot(kind='scatter', x='Receiving TDs', y='Receptions', ax=axs[1]);"
   ]
  },
  {
   "cell_type": "code",
   "execution_count": 164,
   "metadata": {
    "collapsed": false
   },
   "outputs": [
    {
     "data": {
      "image/png": "[encoded data removed]",
      "text/plain": [
       "<matplotlib.figure.Figure at 0x121e55b10>"
      ]
     },
     "metadata": {},
     "output_type": "display_data"
    }
   ],
   "source": [
    "fig, axs = plt.subplots(1, 2, sharey=True)\n",
    "wr_full.plot(kind='scatter', x='Receiving Yards', y='Yards Per Reception', ax=axs[0], figsize=(16, 8))\n",
    "wr_full.plot(kind='scatter', x='Receiving TDs', y='Yards Per Reception', ax=axs[1]);"
   ]
  },
  {
   "cell_type": "code",
   "execution_count": 176,
   "metadata": {
    "collapsed": false
   },
   "outputs": [
    {
     "data": {
      "image/png": "[encoded data removed]",
      "text/plain": [
       "<matplotlib.figure.Figure at 0x11b0e7f10>"
      ]
     },
     "metadata": {},
     "output_type": "display_data"
    }
   ],
   "source": [
    "fig, axs = plt.subplots(1, 2, sharey=True)\n",
    "wr_full.plot(kind='scatter', x='Receiving Yards', y='Experience', ax=axs[0], figsize=(16, 8))\n",
    "wr_full.plot(kind='scatter', x='Receiving TDs', y='Experience', ax=axs[1]);"
   ]
  },
  {
   "cell_type": "code",
   "execution_count": 186,
   "metadata": {
    "collapsed": false
   },
   "outputs": [
    {
     "data": {
      "text/plain": [
       "Name\n",
       "Smith, Steve      2001\n",
       "Smith, Steve      2001\n",
       "Smith, Steve      2001\n",
       "Smith, Steve      2001\n",
       "Smith, Steve      2001\n",
       "Smith, Steve      2001\n",
       "Smith, Steve      2001\n",
       "Smith, Steve      2001\n",
       "Smith, Steve      2001\n",
       "Smith, Steve      2001\n",
       "Smith, Steve      2001\n",
       "Smith, Steve      2001\n",
       "Smith, Steve      2001\n",
       "Smith, Steve      2001\n",
       "Smith, Steve      2001\n",
       "Smith, Steve      2001\n",
       "Smith, Steve      2001\n",
       "Smith, Steve      2002\n",
       "Smith, Steve      2002\n",
       "Smith, Steve      2002\n",
       "Smith, Steve      2002\n",
       "Smith, Steve      2002\n",
       "Smith, Steve      2002\n",
       "Smith, Steve      2002\n",
       "Smith, Steve      2002\n",
       "Smith, Steve      2002\n",
       "Smith, Steve      2002\n",
       "Smith, Steve      2002\n",
       "Smith, Steve      2002\n",
       "Smith, Steve      2002\n",
       "                  ... \n",
       "Roberts, Andre    2016\n",
       "Roberts, Andre    2016\n",
       "Roberts, Andre    2016\n",
       "Roberts, Andre    2016\n",
       "Roberts, Andre    2016\n",
       "Gordon, Josh      2016\n",
       "Gordon, Josh      2016\n",
       "Gordon, Josh      2016\n",
       "Roberts, Andre    2016\n",
       "Brown, Jaron      2016\n",
       "Roberts, Andre    2016\n",
       "Roberts, Andre    2016\n",
       "Conley, Chris     2016\n",
       "Conley, Chris     2016\n",
       "Conley, Chris     2016\n",
       "Conley, Chris     2016\n",
       "Conley, Chris     2016\n",
       "Conley, Chris     2016\n",
       "Conley, Chris     2016\n",
       "Roberts, Andre    2016\n",
       "Conley, Chris     2016\n",
       "Conley, Chris     2016\n",
       "Conley, Chris     2016\n",
       "Conley, Chris     2016\n",
       "Roberts, Andre    2016\n",
       "Roberts, Andre    2016\n",
       "Roberts, Andre    2016\n",
       "Roberts, Andre    2016\n",
       "Conley, Chris     2016\n",
       "Norwood, Kevin    2016\n",
       "Name: Year, Length: 14545, dtype: int64"
      ]
     },
     "execution_count": 186,
     "metadata": {},
     "output_type": "execute_result"
    }
   ],
   "source": [
    "wr_full.Year.sort_values()"
   ]
  },
  {
   "cell_type": "code",
   "execution_count": 185,
   "metadata": {
    "collapsed": false
   },
   "outputs": [
    {
     "data": {
      "text/html": [
       "<div>\n",
       "<style>\n",
       "    .dataframe thead tr:only-child th {\n",
       "        text-align: right;\n",
       "    }\n",
       "\n",
       "    .dataframe thead th {\n",
       "        text-align: left;\n",
       "    }\n",
       "\n",
       "    .dataframe tbody tr th {\n",
       "        vertical-align: top;\n",
       "    }\n",
       "</style>\n",
       "<table border=\"1\" class=\"dataframe\">\n",
       "  <thead>\n",
       "    <tr style=\"text-align: right;\">\n",
       "      <th></th>\n",
       "      <th>Receptions</th>\n",
       "    </tr>\n",
       "    <tr>\n",
       "      <th>Year</th>\n",
       "      <th></th>\n",
       "    </tr>\n",
       "  </thead>\n",
       "  <tbody>\n",
       "    <tr>\n",
       "      <th>2001</th>\n",
       "      <td>0.588235</td>\n",
       "    </tr>\n",
       "    <tr>\n",
       "      <th>2002</th>\n",
       "      <td>3.100000</td>\n",
       "    </tr>\n",
       "    <tr>\n",
       "      <th>2003</th>\n",
       "      <td>5.594595</td>\n",
       "    </tr>\n",
       "    <tr>\n",
       "      <th>2004</th>\n",
       "      <td>3.157895</td>\n",
       "    </tr>\n",
       "    <tr>\n",
       "      <th>2005</th>\n",
       "      <td>5.028986</td>\n",
       "    </tr>\n",
       "    <tr>\n",
       "      <th>2006</th>\n",
       "      <td>2.496063</td>\n",
       "    </tr>\n",
       "    <tr>\n",
       "      <th>2007</th>\n",
       "      <td>3.493333</td>\n",
       "    </tr>\n",
       "    <tr>\n",
       "      <th>2008</th>\n",
       "      <td>3.000000</td>\n",
       "    </tr>\n",
       "    <tr>\n",
       "      <th>2009</th>\n",
       "      <td>2.703125</td>\n",
       "    </tr>\n",
       "    <tr>\n",
       "      <th>2010</th>\n",
       "      <td>2.325373</td>\n",
       "    </tr>\n",
       "    <tr>\n",
       "      <th>2011</th>\n",
       "      <td>2.530079</td>\n",
       "    </tr>\n",
       "    <tr>\n",
       "      <th>2012</th>\n",
       "      <td>2.550243</td>\n",
       "    </tr>\n",
       "    <tr>\n",
       "      <th>2013</th>\n",
       "      <td>2.581749</td>\n",
       "    </tr>\n",
       "    <tr>\n",
       "      <th>2014</th>\n",
       "      <td>2.407103</td>\n",
       "    </tr>\n",
       "    <tr>\n",
       "      <th>2015</th>\n",
       "      <td>2.164200</td>\n",
       "    </tr>\n",
       "    <tr>\n",
       "      <th>2016</th>\n",
       "      <td>2.049360</td>\n",
       "    </tr>\n",
       "  </tbody>\n",
       "</table>\n",
       "</div>"
      ],
      "text/plain": [
       "      Receptions\n",
       "Year            \n",
       "2001    0.588235\n",
       "2002    3.100000\n",
       "2003    5.594595\n",
       "2004    3.157895\n",
       "2005    5.028986\n",
       "2006    2.496063\n",
       "2007    3.493333\n",
       "2008    3.000000\n",
       "2009    2.703125\n",
       "2010    2.325373\n",
       "2011    2.530079\n",
       "2012    2.550243\n",
       "2013    2.581749\n",
       "2014    2.407103\n",
       "2015    2.164200\n",
       "2016    2.049360"
      ]
     },
     "execution_count": 185,
     "metadata": {},
     "output_type": "execute_result"
    }
   ],
   "source": [
    "wr_full.groupby(['Year']).aggregate({\"Receptions\":np.mean})"
   ]
  },
  {
   "cell_type": "code",
   "execution_count": null,
   "metadata": {
    "collapsed": true
   },
   "outputs": [],
   "source": []
  }
 ],
 "metadata": {
  "kernelspec": {
   "display_name": "Python 2",
   "language": "python",
   "name": "python2"
  },
  "language_info": {
   "codemirror_mode": {
    "name": "ipython",
    "version": 2
   },
   "file_extension": ".py",
   "mimetype": "text/x-python",
   "name": "python",
   "nbconvert_exporter": "python",
   "pygments_lexer": "ipython2",
   "version": "2.7.13"
  }
 },
 "nbformat": 4,
 "nbformat_minor": 2
}
