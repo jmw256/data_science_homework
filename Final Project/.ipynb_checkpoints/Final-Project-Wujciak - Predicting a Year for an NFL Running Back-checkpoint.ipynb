{
 "cells": [
  {
   "cell_type": "code",
   "execution_count": 1572,
   "metadata": {
    "collapsed": false,
    "deletable": true,
    "editable": true
   },
   "outputs": [],
   "source": [
    "%matplotlib inline\n",
    "import numpy as np\n",
    "import pandas as pd\n",
    "import seaborn as sns\n",
    "import matplotlib.pyplot as plt\n",
    "import re\n",
    "from pandas import Series\n",
    "from matplotlib import pyplot\n",
    "plt.style.use('ggplot')\n",
    "import statsmodels.api as sm\n",
    "from sklearn.metrics import mean_absolute_error\n",
    "from statsmodels.tsa.arima_model import ARIMA"
   ]
  },
  {
   "cell_type": "markdown",
   "metadata": {
    "deletable": true,
    "editable": true
   },
   "source": [
    "#### Import files for running back statistics and vitals from each player"
   ]
  },
  {
   "cell_type": "code",
   "execution_count": 1573,
   "metadata": {
    "collapsed": false,
    "deletable": true,
    "editable": true
   },
   "outputs": [],
   "source": [
    "bs = pd.read_csv('../Final Project/Basic_Stats.csv')\n",
    "rb = pd.read_csv('../Final Project/Game_Logs_Runningback 2.csv')"
   ]
  },
  {
   "cell_type": "markdown",
   "metadata": {},
   "source": [
    "#### Remove stats from before 1980. Considering this the modern era of football."
   ]
  },
  {
   "cell_type": "code",
   "execution_count": 1574,
   "metadata": {
    "collapsed": false
   },
   "outputs": [],
   "source": [
    "rb = rb.loc[(rb.Year > 1979)]\n",
    "# rb.Year.sort_values().head(2)"
   ]
  },
  {
   "cell_type": "markdown",
   "metadata": {},
   "source": [
    "#### Merge stats with player vitals"
   ]
  },
  {
   "cell_type": "code",
   "execution_count": 1575,
   "metadata": {
    "collapsed": true,
    "deletable": true,
    "editable": true
   },
   "outputs": [],
   "source": [
    "bs = bs.set_index(['Player Id'])\n",
    "rb = rb.set_index(['Player Id'])"
   ]
  },
  {
   "cell_type": "code",
   "execution_count": 1576,
   "metadata": {
    "collapsed": true
   },
   "outputs": [],
   "source": [
    "rb = rb.merge(bs)"
   ]
  },
  {
   "cell_type": "markdown",
   "metadata": {},
   "source": [
    "#### Search for then select the player you are interested in evaluating. This will narrow our dataframe and make the below cleanup run faster"
   ]
  },
  {
   "cell_type": "code",
   "execution_count": 1577,
   "metadata": {
    "collapsed": false
   },
   "outputs": [
    {
     "data": {
      "text/plain": [
       "array(['Blount, LeGarrette'], dtype=object)"
      ]
     },
     "execution_count": 1577,
     "metadata": {},
     "output_type": "execute_result"
    }
   ],
   "source": [
    "# search for a player's exact name. some are hard to spell\n",
    "search_player = 'Blount'\n",
    "search = rb[rb['Name'].str.contains(search_player)]\n",
    "search.Name.unique()"
   ]
  },
  {
   "cell_type": "code",
   "execution_count": 1578,
   "metadata": {
    "collapsed": true
   },
   "outputs": [],
   "source": [
    "evaluate_player = 'Blount, LeGarrette'\n",
    "evaluate_metric = 'Rushing Yards' # 'Receiving Yards' # \n",
    "eval = rb.loc[(rb['Name']==evaluate_player) & (rb['Season'] == 'Regular Season')]"
   ]
  },
  {
   "cell_type": "markdown",
   "metadata": {
    "deletable": true,
    "editable": true
   },
   "source": [
    "#### Clean Up Data"
   ]
  },
  {
   "cell_type": "code",
   "execution_count": 1579,
   "metadata": {
    "collapsed": false
   },
   "outputs": [],
   "source": [
    "# drop unnecessary columns\n",
    "eval = eval.drop(['Birth Place',\n",
    " 'Birthday','High School',\n",
    " 'High School Location',\n",
    " 'Number','Years Played','Experience','Current Status','Current Team','Age'], axis=1, inplace=False)"
   ]
  },
  {
   "cell_type": "code",
   "execution_count": 1580,
   "metadata": {
    "collapsed": true
   },
   "outputs": [],
   "source": [
    "# fix empty data and numeric issues\n",
    "eval = eval.replace('--',0)\n",
    "eval['Longest Rushing Run'] = eval['Longest Rushing Run'].map(lambda x: str(x).rstrip('T'))\n",
    "eval['Longest Reception'] = eval['Longest Reception'].map(lambda x: str(x).rstrip('T'))\n",
    "eval = eval.apply(pd.to_numeric, errors='ignore')"
   ]
  },
  {
   "cell_type": "code",
   "execution_count": 1581,
   "metadata": {
    "collapsed": false
   },
   "outputs": [],
   "source": [
    "# create a timestamp as the index and make sure year is included and correctly sorted\n",
    "eval[\"Game Date\"] = eval[\"Game Date\"].map(str) + \"/\" + eval[\"Year\"].map(str)\n",
    "# dont run this code more than once. if you need to rerun this, rerun all cells before"
   ]
  },
  {
   "cell_type": "code",
   "execution_count": 1582,
   "metadata": {
    "collapsed": true
   },
   "outputs": [],
   "source": [
    "eval[\"Game Date\"] = pd.to_datetime(eval[\"Game Date\"])\n",
    "eval_time = eval\n",
    "eval_time = eval_time.set_index('Game Date')\n",
    "eval_time = eval_time.sort_index()"
   ]
  },
  {
   "cell_type": "code",
   "execution_count": 1583,
   "metadata": {
    "collapsed": false
   },
   "outputs": [],
   "source": [
    "# create a column with player experience\n",
    "# need to create a rookie year column to this most efficiently. then we drop it.\n",
    "def get_rookie_year(name):\n",
    "   rookie_year = eval_time.loc[eval_time['Name'] == name, 'Year'].min()\n",
    "   return rookie_year\n",
    "\n",
    "eval_time['Rookie Year'] = eval_time.apply(lambda x:get_rookie_year(x['Name']),axis=1)\n",
    "eval_time['Experience'] = eval_time['Year'] - eval_time['Rookie Year']\n",
    "eval_time = eval_time.drop(['Rookie Year'], axis=1, inplace=False)"
   ]
  },
  {
   "cell_type": "code",
   "execution_count": 1584,
   "metadata": {
    "collapsed": false
   },
   "outputs": [],
   "source": [
    "# make consistent numeric datatype\n",
    "int_cols = ['Year', \n",
    "            'Week', \n",
    "            'Games Played', \n",
    "            'Games Started', \n",
    "            'Rushing Attempts', \n",
    "            'Rushing Yards', \n",
    "            'Longest Rushing Run', \n",
    "            'Rushing TDs', \n",
    "            'Receptions', \n",
    "            'Receiving Yards', \n",
    "            'Longest Reception', \n",
    "            'Receiving TDs', \n",
    "            'Fumbles', \n",
    "            'Fumbles Lost',\n",
    "            'Experience']\n",
    "for col in int_cols:\n",
    "    eval_time[col] = eval_time[col].astype(float)"
   ]
  },
  {
   "cell_type": "code",
   "execution_count": 1585,
   "metadata": {
    "collapsed": false
   },
   "outputs": [
    {
     "data": {
      "image/png": "[encoded data removed]",
      "text/plain": [
       "<matplotlib.figure.Figure at 0x118c5f190>"
      ]
     },
     "metadata": {},
     "output_type": "display_data"
    }
   ],
   "source": [
    "eval_graph = eval_time[evaluate_metric]\n",
    "eval_graph.plot()\n",
    "pyplot.show()"
   ]
  },
  {
   "cell_type": "code",
   "execution_count": 1586,
   "metadata": {
    "collapsed": false
   },
   "outputs": [],
   "source": [
    "# eval_graph"
   ]
  },
  {
   "cell_type": "code",
   "execution_count": 1591,
   "metadata": {
    "collapsed": false
   },
   "outputs": [
    {
     "name": "stdout",
     "output_type": "stream",
     "text": [
      "Train 55, Test 55\n"
     ]
    }
   ],
   "source": [
    "# split datasets into train and test\n",
    "split_point =len(eval_time[evaluate_metric])/2\n",
    "train, test = eval_time[evaluate_metric][0:split_point+1], eval_time[evaluate_metric][split_point:]\n",
    "# should either be +1 or +0. one of the options will error out the MSE. the other will not. just try both.\n",
    "print('Train %d, Test %d' % (len(train), len(test)))"
   ]
  },
  {
   "cell_type": "code",
   "execution_count": 1592,
   "metadata": {
    "collapsed": true
   },
   "outputs": [],
   "source": [
    "# create a differenced series\n",
    "def difference(dataset, interval=1):\n",
    "    diff = list()\n",
    "    for i in range(interval, len(dataset)):\n",
    "        value = dataset[i] - dataset[i - interval]\n",
    "        diff.append(value)\n",
    "    return np.array(diff)\n",
    "\n",
    "# create inverted differenced value\n",
    "def inverse_difference(history, yhat, interval=1):\n",
    "    return yhat + history[-interval]"
   ]
  },
  {
   "cell_type": "code",
   "execution_count": 1593,
   "metadata": {
    "collapsed": false
   },
   "outputs": [
    {
     "data": {
      "text/plain": [
       "97"
      ]
     },
     "execution_count": 1593,
     "metadata": {},
     "output_type": "execute_result"
    }
   ],
   "source": [
    "# use difference function to de-seasonalize\n",
    "x=eval_time[evaluate_metric].values.astype(float)\n",
    "differenced = difference(x, 12)\n",
    "len(differenced)"
   ]
  },
  {
   "cell_type": "code",
   "execution_count": 1595,
   "metadata": {
    "collapsed": false
   },
   "outputs": [
    {
     "name": "stdout",
     "output_type": "stream",
     "text": [
      "('Mean absolute error: ', 54.218181818181819)\n",
      "                              ARMA Model Results                              \n",
      "==============================================================================\n",
      "Dep. Variable:                      y   No. Observations:                   97\n",
      "Model:                     ARMA(5, 1)   Log Likelihood                -514.880\n",
      "Method:                       css-mle   S.D. of innovations             48.790\n",
      "Date:                Tue, 03 Oct 2017   AIC                           1045.761\n",
      "Time:                        19:02:21   BIC                           1066.359\n",
      "Sample:                             0   HQIC                          1054.090\n",
      "                                                                              \n",
      "==============================================================================\n",
      "                 coef    std err          z      P>|z|      [0.025      0.975]\n",
      "------------------------------------------------------------------------------\n",
      "const          3.2648     10.738      0.304      0.762     -17.781      24.311\n",
      "ar.L1.y        0.5607      0.515      1.089      0.279      -0.448       1.570\n",
      "ar.L2.y       -0.0969      0.192     -0.504      0.615      -0.474       0.280\n",
      "ar.L3.y        0.1710      0.115      1.490      0.140      -0.054       0.396\n",
      "ar.L4.y       -0.1148      0.144     -0.796      0.428      -0.397       0.168\n",
      "ar.L5.y        0.1455      0.106      1.373      0.173      -0.062       0.353\n",
      "ma.L1.y       -0.2566      0.516     -0.497      0.620      -1.268       0.755\n",
      "                                    Roots                                    \n",
      "=============================================================================\n",
      "                 Real           Imaginary           Modulus         Frequency\n",
      "-----------------------------------------------------------------------------\n",
      "AR.1            1.2256           -0.0000j            1.2256           -0.0000\n",
      "AR.2           -0.9865           -1.1334j            1.5026           -0.3640\n",
      "AR.3           -0.9865           +1.1334j            1.5026            0.3640\n",
      "AR.4            0.7679           -1.3759j            1.5757           -0.1690\n",
      "AR.5            0.7679           +1.3759j            1.5757            0.1690\n",
      "MA.1            3.8969           +0.0000j            3.8969            0.0000\n",
      "-----------------------------------------------------------------------------\n"
     ]
    }
   ],
   "source": [
    "# fit model\n",
    "model = ARIMA(differenced, order=(5,0,1))\n",
    "model_fit = model.fit(disp=0)\n",
    "print(\"Mean absolute error: \", mean_absolute_error(test, train))\n",
    "print(model_fit.summary())"
   ]
  },
  {
   "cell_type": "code",
   "execution_count": 1596,
   "metadata": {
    "collapsed": false
   },
   "outputs": [],
   "source": [
    "# multi-step out-of-sample forecast\n",
    "forecast = model_fit.forecast(steps=34)[0]\n",
    "# invert the differenced forecast to something usable\n",
    "history = [y for y in x]\n",
    "game = 1\n",
    "for yhat in forecast:\n",
    "    inverted = inverse_difference(history, yhat, 12)\n",
    "    # print('Game %d: %f' % (game, inverted))\n",
    "    history.append(inverted)\n",
    "    game += 1"
   ]
  },
  {
   "cell_type": "code",
   "execution_count": 1597,
   "metadata": {
    "collapsed": false
   },
   "outputs": [
    {
     "data": {
      "text/plain": [
       "proj_rush_yrds    34\n",
       "dtype: int64"
      ]
     },
     "execution_count": 1597,
     "metadata": {},
     "output_type": "execute_result"
    }
   ],
   "source": [
    "hist = list(history)\n",
    "df_hist = pd.DataFrame(hist, columns=['proj_rush_yrds'])\n",
    "forecasts = len(df_hist)-34\n",
    "df_hist = df_hist[forecasts:]\n",
    "df_hist = df_hist.reset_index(drop=True)\n",
    "df_hist.count()"
   ]
  },
  {
   "cell_type": "code",
   "execution_count": 1598,
   "metadata": {
    "collapsed": false
   },
   "outputs": [],
   "source": [
    "forecast_game_dates = ['2016-01-01','2016-09-11','2016-09-18','2016-09-25','2016-10-02','2016-10-09','2016-10-16','2016-10-23', '2016-10-30', '2016-11-06', '2016-11-13', '2016-11-20', '2016-11-27', '2016-12-04', '2016-12-11', '2016-12-18', '2016-12-25',\n",
    "                      '2017-01-01','2017-09-10','2017-09-17','2017-09-24', '2017-10-01', '2017-10-08', '2017-10-15', '2017-10-22', '2017-10-29', '2017-11-05', '2017-11-12', '2017-11-19', '2017-11-26', '2017-12-03', '2017-12-10', '2017-12-17', '2017-12-24'] # padding\n",
    "# create a list of the dates of the 2016 and 2017 games that we test on and will project to\n",
    "# forecast_game_dates"
   ]
  },
  {
   "cell_type": "code",
   "execution_count": 1599,
   "metadata": {
    "collapsed": false
   },
   "outputs": [
    {
     "data": {
      "text/plain": [
       "game_date    34\n",
       "dtype: int64"
      ]
     },
     "execution_count": 1599,
     "metadata": {},
     "output_type": "execute_result"
    }
   ],
   "source": [
    "df_dates = pd.DataFrame(forecast_game_dates, columns=['game_date'])\n",
    "df_dates.count()"
   ]
  },
  {
   "cell_type": "code",
   "execution_count": 1600,
   "metadata": {
    "collapsed": false
   },
   "outputs": [],
   "source": [
    "df_forecast = df_hist.join(df_dates).set_index('game_date')"
   ]
  },
  {
   "cell_type": "code",
   "execution_count": 1601,
   "metadata": {
    "collapsed": false
   },
   "outputs": [],
   "source": [
    "# df_forecast.plot()"
   ]
  },
  {
   "cell_type": "code",
   "execution_count": 1602,
   "metadata": {
    "collapsed": false
   },
   "outputs": [],
   "source": [
    "# df_forecast"
   ]
  },
  {
   "cell_type": "code",
   "execution_count": 1603,
   "metadata": {
    "collapsed": false
   },
   "outputs": [],
   "source": [
    "# eval_graph"
   ]
  },
  {
   "cell_type": "code",
   "execution_count": 1604,
   "metadata": {
    "collapsed": false
   },
   "outputs": [],
   "source": [
    "given = eval_graph.reset_index()\n",
    "predicted = df_forecast.reset_index()"
   ]
  },
  {
   "cell_type": "code",
   "execution_count": 1605,
   "metadata": {
    "collapsed": false
   },
   "outputs": [
    {
     "data": {
      "text/html": [
       "<div>\n",
       "<style>\n",
       "    .dataframe thead tr:only-child th {\n",
       "        text-align: right;\n",
       "    }\n",
       "\n",
       "    .dataframe thead th {\n",
       "        text-align: left;\n",
       "    }\n",
       "\n",
       "    .dataframe tbody tr th {\n",
       "        vertical-align: top;\n",
       "    }\n",
       "</style>\n",
       "<table border=\"1\" class=\"dataframe\">\n",
       "  <thead>\n",
       "    <tr style=\"text-align: right;\">\n",
       "      <th></th>\n",
       "      <th>Game Date</th>\n",
       "      <th>Rushing Yards</th>\n",
       "    </tr>\n",
       "  </thead>\n",
       "  <tbody>\n",
       "    <tr>\n",
       "      <th>0</th>\n",
       "      <td>2010-01-02</td>\n",
       "      <td>66.0</td>\n",
       "    </tr>\n",
       "    <tr>\n",
       "      <th>1</th>\n",
       "      <td>2010-09-12</td>\n",
       "      <td>0.0</td>\n",
       "    </tr>\n",
       "    <tr>\n",
       "      <th>2</th>\n",
       "      <td>2010-09-19</td>\n",
       "      <td>0.0</td>\n",
       "    </tr>\n",
       "    <tr>\n",
       "      <th>3</th>\n",
       "      <td>2010-09-26</td>\n",
       "      <td>27.0</td>\n",
       "    </tr>\n",
       "    <tr>\n",
       "      <th>4</th>\n",
       "      <td>2010-10-10</td>\n",
       "      <td>3.0</td>\n",
       "    </tr>\n",
       "    <tr>\n",
       "      <th>5</th>\n",
       "      <td>2010-10-17</td>\n",
       "      <td>0.0</td>\n",
       "    </tr>\n",
       "    <tr>\n",
       "      <th>6</th>\n",
       "      <td>2010-10-24</td>\n",
       "      <td>72.0</td>\n",
       "    </tr>\n",
       "    <tr>\n",
       "      <th>7</th>\n",
       "      <td>2010-10-31</td>\n",
       "      <td>120.0</td>\n",
       "    </tr>\n",
       "    <tr>\n",
       "      <th>8</th>\n",
       "      <td>2010-11-07</td>\n",
       "      <td>46.0</td>\n",
       "    </tr>\n",
       "    <tr>\n",
       "      <th>9</th>\n",
       "      <td>2010-11-14</td>\n",
       "      <td>91.0</td>\n",
       "    </tr>\n",
       "    <tr>\n",
       "      <th>10</th>\n",
       "      <td>2010-11-21</td>\n",
       "      <td>82.0</td>\n",
       "    </tr>\n",
       "    <tr>\n",
       "      <th>11</th>\n",
       "      <td>2010-11-28</td>\n",
       "      <td>55.0</td>\n",
       "    </tr>\n",
       "    <tr>\n",
       "      <th>12</th>\n",
       "      <td>2010-12-05</td>\n",
       "      <td>103.0</td>\n",
       "    </tr>\n",
       "    <tr>\n",
       "      <th>13</th>\n",
       "      <td>2010-12-12</td>\n",
       "      <td>68.0</td>\n",
       "    </tr>\n",
       "    <tr>\n",
       "      <th>14</th>\n",
       "      <td>2010-12-19</td>\n",
       "      <td>110.0</td>\n",
       "    </tr>\n",
       "    <tr>\n",
       "      <th>15</th>\n",
       "      <td>2010-12-26</td>\n",
       "      <td>164.0</td>\n",
       "    </tr>\n",
       "    <tr>\n",
       "      <th>16</th>\n",
       "      <td>2011-01-01</td>\n",
       "      <td>12.0</td>\n",
       "    </tr>\n",
       "    <tr>\n",
       "      <th>17</th>\n",
       "      <td>2011-09-11</td>\n",
       "      <td>15.0</td>\n",
       "    </tr>\n",
       "    <tr>\n",
       "      <th>18</th>\n",
       "      <td>2011-09-18</td>\n",
       "      <td>71.0</td>\n",
       "    </tr>\n",
       "    <tr>\n",
       "      <th>19</th>\n",
       "      <td>2011-09-25</td>\n",
       "      <td>81.0</td>\n",
       "    </tr>\n",
       "    <tr>\n",
       "      <th>20</th>\n",
       "      <td>2011-10-03</td>\n",
       "      <td>127.0</td>\n",
       "    </tr>\n",
       "    <tr>\n",
       "      <th>21</th>\n",
       "      <td>2011-10-09</td>\n",
       "      <td>34.0</td>\n",
       "    </tr>\n",
       "    <tr>\n",
       "      <th>22</th>\n",
       "      <td>2011-10-16</td>\n",
       "      <td>0.0</td>\n",
       "    </tr>\n",
       "    <tr>\n",
       "      <th>23</th>\n",
       "      <td>2011-10-23</td>\n",
       "      <td>0.0</td>\n",
       "    </tr>\n",
       "    <tr>\n",
       "      <th>24</th>\n",
       "      <td>2011-11-06</td>\n",
       "      <td>72.0</td>\n",
       "    </tr>\n",
       "    <tr>\n",
       "      <th>25</th>\n",
       "      <td>2011-11-13</td>\n",
       "      <td>34.0</td>\n",
       "    </tr>\n",
       "    <tr>\n",
       "      <th>26</th>\n",
       "      <td>2011-11-20</td>\n",
       "      <td>107.0</td>\n",
       "    </tr>\n",
       "    <tr>\n",
       "      <th>27</th>\n",
       "      <td>2011-11-27</td>\n",
       "      <td>103.0</td>\n",
       "    </tr>\n",
       "    <tr>\n",
       "      <th>28</th>\n",
       "      <td>2011-12-04</td>\n",
       "      <td>19.0</td>\n",
       "    </tr>\n",
       "    <tr>\n",
       "      <th>29</th>\n",
       "      <td>2011-12-11</td>\n",
       "      <td>74.0</td>\n",
       "    </tr>\n",
       "    <tr>\n",
       "      <th>...</th>\n",
       "      <td>...</td>\n",
       "      <td>...</td>\n",
       "    </tr>\n",
       "    <tr>\n",
       "      <th>79</th>\n",
       "      <td>2014-12-21</td>\n",
       "      <td>0.0</td>\n",
       "    </tr>\n",
       "    <tr>\n",
       "      <th>80</th>\n",
       "      <td>2014-12-28</td>\n",
       "      <td>62.0</td>\n",
       "    </tr>\n",
       "    <tr>\n",
       "      <th>81</th>\n",
       "      <td>2015-09-20</td>\n",
       "      <td>4.0</td>\n",
       "    </tr>\n",
       "    <tr>\n",
       "      <th>82</th>\n",
       "      <td>2015-09-27</td>\n",
       "      <td>78.0</td>\n",
       "    </tr>\n",
       "    <tr>\n",
       "      <th>83</th>\n",
       "      <td>2015-10-11</td>\n",
       "      <td>74.0</td>\n",
       "    </tr>\n",
       "    <tr>\n",
       "      <th>84</th>\n",
       "      <td>2015-10-18</td>\n",
       "      <td>93.0</td>\n",
       "    </tr>\n",
       "    <tr>\n",
       "      <th>85</th>\n",
       "      <td>2015-10-25</td>\n",
       "      <td>-3.0</td>\n",
       "    </tr>\n",
       "    <tr>\n",
       "      <th>86</th>\n",
       "      <td>2015-10-29</td>\n",
       "      <td>72.0</td>\n",
       "    </tr>\n",
       "    <tr>\n",
       "      <th>87</th>\n",
       "      <td>2015-11-08</td>\n",
       "      <td>129.0</td>\n",
       "    </tr>\n",
       "    <tr>\n",
       "      <th>88</th>\n",
       "      <td>2015-11-15</td>\n",
       "      <td>66.0</td>\n",
       "    </tr>\n",
       "    <tr>\n",
       "      <th>89</th>\n",
       "      <td>2015-11-23</td>\n",
       "      <td>56.0</td>\n",
       "    </tr>\n",
       "    <tr>\n",
       "      <th>90</th>\n",
       "      <td>2015-11-29</td>\n",
       "      <td>27.0</td>\n",
       "    </tr>\n",
       "    <tr>\n",
       "      <th>91</th>\n",
       "      <td>2015-12-06</td>\n",
       "      <td>54.0</td>\n",
       "    </tr>\n",
       "    <tr>\n",
       "      <th>92</th>\n",
       "      <td>2015-12-13</td>\n",
       "      <td>53.0</td>\n",
       "    </tr>\n",
       "    <tr>\n",
       "      <th>93</th>\n",
       "      <td>2016-01-01</td>\n",
       "      <td>51.0</td>\n",
       "    </tr>\n",
       "    <tr>\n",
       "      <th>94</th>\n",
       "      <td>2016-09-11</td>\n",
       "      <td>70.0</td>\n",
       "    </tr>\n",
       "    <tr>\n",
       "      <th>95</th>\n",
       "      <td>2016-09-18</td>\n",
       "      <td>123.0</td>\n",
       "    </tr>\n",
       "    <tr>\n",
       "      <th>96</th>\n",
       "      <td>2016-09-22</td>\n",
       "      <td>105.0</td>\n",
       "    </tr>\n",
       "    <tr>\n",
       "      <th>97</th>\n",
       "      <td>2016-10-02</td>\n",
       "      <td>54.0</td>\n",
       "    </tr>\n",
       "    <tr>\n",
       "      <th>98</th>\n",
       "      <td>2016-10-09</td>\n",
       "      <td>37.0</td>\n",
       "    </tr>\n",
       "    <tr>\n",
       "      <th>99</th>\n",
       "      <td>2016-10-16</td>\n",
       "      <td>50.0</td>\n",
       "    </tr>\n",
       "    <tr>\n",
       "      <th>100</th>\n",
       "      <td>2016-10-23</td>\n",
       "      <td>127.0</td>\n",
       "    </tr>\n",
       "    <tr>\n",
       "      <th>101</th>\n",
       "      <td>2016-10-30</td>\n",
       "      <td>43.0</td>\n",
       "    </tr>\n",
       "    <tr>\n",
       "      <th>102</th>\n",
       "      <td>2016-11-13</td>\n",
       "      <td>69.0</td>\n",
       "    </tr>\n",
       "    <tr>\n",
       "      <th>103</th>\n",
       "      <td>2016-11-20</td>\n",
       "      <td>124.0</td>\n",
       "    </tr>\n",
       "    <tr>\n",
       "      <th>104</th>\n",
       "      <td>2016-11-27</td>\n",
       "      <td>67.0</td>\n",
       "    </tr>\n",
       "    <tr>\n",
       "      <th>105</th>\n",
       "      <td>2016-12-04</td>\n",
       "      <td>88.0</td>\n",
       "    </tr>\n",
       "    <tr>\n",
       "      <th>106</th>\n",
       "      <td>2016-12-12</td>\n",
       "      <td>72.0</td>\n",
       "    </tr>\n",
       "    <tr>\n",
       "      <th>107</th>\n",
       "      <td>2016-12-18</td>\n",
       "      <td>31.0</td>\n",
       "    </tr>\n",
       "    <tr>\n",
       "      <th>108</th>\n",
       "      <td>2016-12-24</td>\n",
       "      <td>50.0</td>\n",
       "    </tr>\n",
       "  </tbody>\n",
       "</table>\n",
       "<p>109 rows × 2 columns</p>\n",
       "</div>"
      ],
      "text/plain": [
       "     Game Date  Rushing Yards\n",
       "0   2010-01-02           66.0\n",
       "1   2010-09-12            0.0\n",
       "2   2010-09-19            0.0\n",
       "3   2010-09-26           27.0\n",
       "4   2010-10-10            3.0\n",
       "5   2010-10-17            0.0\n",
       "6   2010-10-24           72.0\n",
       "7   2010-10-31          120.0\n",
       "8   2010-11-07           46.0\n",
       "9   2010-11-14           91.0\n",
       "10  2010-11-21           82.0\n",
       "11  2010-11-28           55.0\n",
       "12  2010-12-05          103.0\n",
       "13  2010-12-12           68.0\n",
       "14  2010-12-19          110.0\n",
       "15  2010-12-26          164.0\n",
       "16  2011-01-01           12.0\n",
       "17  2011-09-11           15.0\n",
       "18  2011-09-18           71.0\n",
       "19  2011-09-25           81.0\n",
       "20  2011-10-03          127.0\n",
       "21  2011-10-09           34.0\n",
       "22  2011-10-16            0.0\n",
       "23  2011-10-23            0.0\n",
       "24  2011-11-06           72.0\n",
       "25  2011-11-13           34.0\n",
       "26  2011-11-20          107.0\n",
       "27  2011-11-27          103.0\n",
       "28  2011-12-04           19.0\n",
       "29  2011-12-11           74.0\n",
       "..         ...            ...\n",
       "79  2014-12-21            0.0\n",
       "80  2014-12-28           62.0\n",
       "81  2015-09-20            4.0\n",
       "82  2015-09-27           78.0\n",
       "83  2015-10-11           74.0\n",
       "84  2015-10-18           93.0\n",
       "85  2015-10-25           -3.0\n",
       "86  2015-10-29           72.0\n",
       "87  2015-11-08          129.0\n",
       "88  2015-11-15           66.0\n",
       "89  2015-11-23           56.0\n",
       "90  2015-11-29           27.0\n",
       "91  2015-12-06           54.0\n",
       "92  2015-12-13           53.0\n",
       "93  2016-01-01           51.0\n",
       "94  2016-09-11           70.0\n",
       "95  2016-09-18          123.0\n",
       "96  2016-09-22          105.0\n",
       "97  2016-10-02           54.0\n",
       "98  2016-10-09           37.0\n",
       "99  2016-10-16           50.0\n",
       "100 2016-10-23          127.0\n",
       "101 2016-10-30           43.0\n",
       "102 2016-11-13           69.0\n",
       "103 2016-11-20          124.0\n",
       "104 2016-11-27           67.0\n",
       "105 2016-12-04           88.0\n",
       "106 2016-12-12           72.0\n",
       "107 2016-12-18           31.0\n",
       "108 2016-12-24           50.0\n",
       "\n",
       "[109 rows x 2 columns]"
      ]
     },
     "execution_count": 1605,
     "metadata": {},
     "output_type": "execute_result"
    }
   ],
   "source": [
    "given"
   ]
  },
  {
   "cell_type": "code",
   "execution_count": 1606,
   "metadata": {
    "collapsed": false
   },
   "outputs": [
    {
     "data": {
      "text/plain": [
       "<matplotlib.axes._subplots.AxesSubplot at 0x119f5a050>"
      ]
     },
     "execution_count": 1606,
     "metadata": {},
     "output_type": "execute_result"
    },
    {
     "data": {
      "image/png": "[encoded data removed]",
      "text/plain": [
       "<matplotlib.figure.Figure at 0x11a719450>"
      ]
     },
     "metadata": {},
     "output_type": "display_data"
    }
   ],
   "source": [
    "predicted.plot()"
   ]
  },
  {
   "cell_type": "code",
   "execution_count": 1607,
   "metadata": {
    "collapsed": false
   },
   "outputs": [
    {
     "data": {
      "text/plain": [
       "(93, 127)"
      ]
     },
     "execution_count": 1607,
     "metadata": {},
     "output_type": "execute_result"
    }
   ],
   "source": [
    "prediction_start_array = np.where(given['Game Date']=='2016-01-01')[0]\n",
    "prediction_start_number = prediction_start_array[0]\n",
    "prediction_end_number = prediction_start_number + len(predicted)\n",
    "prediction_start_number, prediction_end_number"
   ]
  },
  {
   "cell_type": "code",
   "execution_count": 1608,
   "metadata": {
    "collapsed": false
   },
   "outputs": [],
   "source": [
    "predicted_indices = []\n",
    "x = prediction_start_number\n",
    "while x <= prediction_end_number :\n",
    "    predicted_indices.extend([x])\n",
    "    x += 1\n",
    "updated_indices = pd.DataFrame(predicted_indices, columns=['new_i'])\n",
    "# updated_indices"
   ]
  },
  {
   "cell_type": "code",
   "execution_count": 1609,
   "metadata": {
    "collapsed": false
   },
   "outputs": [
    {
     "data": {
      "text/html": [
       "<div>\n",
       "<style>\n",
       "    .dataframe thead tr:only-child th {\n",
       "        text-align: right;\n",
       "    }\n",
       "\n",
       "    .dataframe thead th {\n",
       "        text-align: left;\n",
       "    }\n",
       "\n",
       "    .dataframe tbody tr th {\n",
       "        vertical-align: top;\n",
       "    }\n",
       "</style>\n",
       "<table border=\"1\" class=\"dataframe\">\n",
       "  <thead>\n",
       "    <tr style=\"text-align: right;\">\n",
       "      <th></th>\n",
       "      <th>game_date</th>\n",
       "      <th>proj_rush_yrds</th>\n",
       "    </tr>\n",
       "    <tr>\n",
       "      <th>new_i</th>\n",
       "      <th></th>\n",
       "      <th></th>\n",
       "    </tr>\n",
       "  </thead>\n",
       "  <tbody>\n",
       "    <tr>\n",
       "      <th>93</th>\n",
       "      <td>2016-01-01</td>\n",
       "      <td>42.546515</td>\n",
       "    </tr>\n",
       "    <tr>\n",
       "      <th>94</th>\n",
       "      <td>2016-09-11</td>\n",
       "      <td>26.421695</td>\n",
       "    </tr>\n",
       "    <tr>\n",
       "      <th>95</th>\n",
       "      <td>2016-09-18</td>\n",
       "      <td>47.715263</td>\n",
       "    </tr>\n",
       "    <tr>\n",
       "      <th>96</th>\n",
       "      <td>2016-09-25</td>\n",
       "      <td>118.798861</td>\n",
       "    </tr>\n",
       "    <tr>\n",
       "      <th>97</th>\n",
       "      <td>2016-10-02</td>\n",
       "      <td>31.215432</td>\n",
       "    </tr>\n",
       "    <tr>\n",
       "      <th>98</th>\n",
       "      <td>2016-10-09</td>\n",
       "      <td>63.435079</td>\n",
       "    </tr>\n",
       "    <tr>\n",
       "      <th>99</th>\n",
       "      <td>2016-10-16</td>\n",
       "      <td>120.433313</td>\n",
       "    </tr>\n",
       "    <tr>\n",
       "      <th>100</th>\n",
       "      <td>2016-10-23</td>\n",
       "      <td>65.224632</td>\n",
       "    </tr>\n",
       "    <tr>\n",
       "      <th>101</th>\n",
       "      <td>2016-10-30</td>\n",
       "      <td>87.649111</td>\n",
       "    </tr>\n",
       "    <tr>\n",
       "      <th>102</th>\n",
       "      <td>2016-11-06</td>\n",
       "      <td>71.380594</td>\n",
       "    </tr>\n",
       "    <tr>\n",
       "      <th>103</th>\n",
       "      <td>2016-11-13</td>\n",
       "      <td>31.074284</td>\n",
       "    </tr>\n",
       "    <tr>\n",
       "      <th>104</th>\n",
       "      <td>2016-11-20</td>\n",
       "      <td>50.818059</td>\n",
       "    </tr>\n",
       "    <tr>\n",
       "      <th>105</th>\n",
       "      <td>2016-11-27</td>\n",
       "      <td>43.765728</td>\n",
       "    </tr>\n",
       "    <tr>\n",
       "      <th>106</th>\n",
       "      <td>2016-12-04</td>\n",
       "      <td>28.150547</td>\n",
       "    </tr>\n",
       "    <tr>\n",
       "      <th>107</th>\n",
       "      <td>2016-12-11</td>\n",
       "      <td>49.699492</td>\n",
       "    </tr>\n",
       "    <tr>\n",
       "      <th>108</th>\n",
       "      <td>2016-12-18</td>\n",
       "      <td>120.961108</td>\n",
       "    </tr>\n",
       "    <tr>\n",
       "      <th>109</th>\n",
       "      <td>2016-12-25</td>\n",
       "      <td>33.602113</td>\n",
       "    </tr>\n",
       "    <tr>\n",
       "      <th>110</th>\n",
       "      <td>2017-01-01</td>\n",
       "      <td>65.973919</td>\n",
       "    </tr>\n",
       "    <tr>\n",
       "      <th>111</th>\n",
       "      <td>2017-09-10</td>\n",
       "      <td>123.111033</td>\n",
       "    </tr>\n",
       "    <tr>\n",
       "      <th>112</th>\n",
       "      <td>2017-09-17</td>\n",
       "      <td>68.020599</td>\n",
       "    </tr>\n",
       "    <tr>\n",
       "      <th>113</th>\n",
       "      <td>2017-09-24</td>\n",
       "      <td>90.524094</td>\n",
       "    </tr>\n",
       "    <tr>\n",
       "      <th>114</th>\n",
       "      <td>2017-10-01</td>\n",
       "      <td>74.327377</td>\n",
       "    </tr>\n",
       "    <tr>\n",
       "      <th>115</th>\n",
       "      <td>2017-10-08</td>\n",
       "      <td>34.080097</td>\n",
       "    </tr>\n",
       "    <tr>\n",
       "      <th>116</th>\n",
       "      <td>2017-10-15</td>\n",
       "      <td>53.870168</td>\n",
       "    </tr>\n",
       "    <tr>\n",
       "      <th>117</th>\n",
       "      <td>2017-10-22</td>\n",
       "      <td>46.858496</td>\n",
       "    </tr>\n",
       "    <tr>\n",
       "      <th>118</th>\n",
       "      <td>2017-10-29</td>\n",
       "      <td>31.274982</td>\n",
       "    </tr>\n",
       "    <tr>\n",
       "      <th>119</th>\n",
       "      <td>2017-11-05</td>\n",
       "      <td>52.849335</td>\n",
       "    </tr>\n",
       "    <tr>\n",
       "      <th>120</th>\n",
       "      <td>2017-11-12</td>\n",
       "      <td>124.132361</td>\n",
       "    </tr>\n",
       "    <tr>\n",
       "      <th>121</th>\n",
       "      <td>2017-11-19</td>\n",
       "      <td>36.790396</td>\n",
       "    </tr>\n",
       "    <tr>\n",
       "      <th>122</th>\n",
       "      <td>2017-11-26</td>\n",
       "      <td>69.176304</td>\n",
       "    </tr>\n",
       "    <tr>\n",
       "      <th>123</th>\n",
       "      <td>2017-12-03</td>\n",
       "      <td>126.325030</td>\n",
       "    </tr>\n",
       "    <tr>\n",
       "      <th>124</th>\n",
       "      <td>2017-12-10</td>\n",
       "      <td>71.243892</td>\n",
       "    </tr>\n",
       "    <tr>\n",
       "      <th>125</th>\n",
       "      <td>2017-12-17</td>\n",
       "      <td>93.755049</td>\n",
       "    </tr>\n",
       "    <tr>\n",
       "      <th>126</th>\n",
       "      <td>2017-12-24</td>\n",
       "      <td>77.564573</td>\n",
       "    </tr>\n",
       "  </tbody>\n",
       "</table>\n",
       "</div>"
      ],
      "text/plain": [
       "        game_date  proj_rush_yrds\n",
       "new_i                            \n",
       "93     2016-01-01       42.546515\n",
       "94     2016-09-11       26.421695\n",
       "95     2016-09-18       47.715263\n",
       "96     2016-09-25      118.798861\n",
       "97     2016-10-02       31.215432\n",
       "98     2016-10-09       63.435079\n",
       "99     2016-10-16      120.433313\n",
       "100    2016-10-23       65.224632\n",
       "101    2016-10-30       87.649111\n",
       "102    2016-11-06       71.380594\n",
       "103    2016-11-13       31.074284\n",
       "104    2016-11-20       50.818059\n",
       "105    2016-11-27       43.765728\n",
       "106    2016-12-04       28.150547\n",
       "107    2016-12-11       49.699492\n",
       "108    2016-12-18      120.961108\n",
       "109    2016-12-25       33.602113\n",
       "110    2017-01-01       65.973919\n",
       "111    2017-09-10      123.111033\n",
       "112    2017-09-17       68.020599\n",
       "113    2017-09-24       90.524094\n",
       "114    2017-10-01       74.327377\n",
       "115    2017-10-08       34.080097\n",
       "116    2017-10-15       53.870168\n",
       "117    2017-10-22       46.858496\n",
       "118    2017-10-29       31.274982\n",
       "119    2017-11-05       52.849335\n",
       "120    2017-11-12      124.132361\n",
       "121    2017-11-19       36.790396\n",
       "122    2017-11-26       69.176304\n",
       "123    2017-12-03      126.325030\n",
       "124    2017-12-10       71.243892\n",
       "125    2017-12-17       93.755049\n",
       "126    2017-12-24       77.564573"
      ]
     },
     "execution_count": 1609,
     "metadata": {},
     "output_type": "execute_result"
    }
   ],
   "source": [
    "predicted = predicted.join(updated_indices).set_index('new_i')\n",
    "predicted"
   ]
  },
  {
   "cell_type": "code",
   "execution_count": 1610,
   "metadata": {
    "collapsed": false
   },
   "outputs": [
    {
     "data": {
      "image/png": "[encoded data removed]",
      "text/plain": [
       "<matplotlib.figure.Figure at 0x11b56a710>"
      ]
     },
     "metadata": {},
     "output_type": "display_data"
    }
   ],
   "source": [
    "ax = predicted.plot()\n",
    "given.plot(ax=ax)\n",
    "pyplot.show()"
   ]
  },
  {
   "cell_type": "code",
   "execution_count": null,
   "metadata": {
    "collapsed": true
   },
   "outputs": [],
   "source": []
  }
 ],
 "metadata": {
  "kernelspec": {
   "display_name": "Python 2",
   "language": "python",
   "name": "python2"
  },
  "language_info": {
   "codemirror_mode": {
    "name": "ipython",
    "version": 2
   },
   "file_extension": ".py",
   "mimetype": "text/x-python",
   "name": "python",
   "nbconvert_exporter": "python",
   "pygments_lexer": "ipython2",
   "version": "2.7.13"
  }
 },
 "nbformat": 4,
 "nbformat_minor": 2
}
