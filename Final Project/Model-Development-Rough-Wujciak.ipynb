{
 "cells": [
  {
   "cell_type": "markdown",
   "metadata": {
    "deletable": true,
    "editable": true
   },
   "source": [
    "# Wujciak Final Project - Exploratory Analysis"
   ]
  },
  {
   "cell_type": "markdown",
   "metadata": {
    "deletable": true,
    "editable": true
   },
   "source": [
    "### Preparing Datafiles"
   ]
  },
  {
   "cell_type": "code",
   "execution_count": 14,
   "metadata": {
    "collapsed": false,
    "deletable": true,
    "editable": true
   },
   "outputs": [],
   "source": [
    "%matplotlib inline\n",
    "import numpy as np\n",
    "import pandas as pd\n",
    "import seaborn as sns\n",
    "import matplotlib.pyplot as plt\n",
    "import re\n",
    "plt.style.use('ggplot')\n",
    "import statsmodels.api as sm\n",
    "from sklearn.metrics import mean_absolute_error"
   ]
  },
  {
   "cell_type": "code",
   "execution_count": 15,
   "metadata": {
    "collapsed": true,
    "deletable": true,
    "editable": true
   },
   "outputs": [],
   "source": [
    "bs = pd.read_csv('../Final Project/Basic_Stats.csv')\n",
    "rb = pd.read_csv('../Final Project/Game_Logs_Runningback 2.csv')\n",
    "wr = pd.read_csv('../Final Project/Game_Logs_Wide_Receiver_and_Tight_End.csv')"
   ]
  },
  {
   "cell_type": "markdown",
   "metadata": {
    "deletable": true,
    "editable": true
   },
   "source": [
    "#### Create Datafiles for Current Player Vitals"
   ]
  },
  {
   "cell_type": "code",
   "execution_count": 16,
   "metadata": {
    "collapsed": false,
    "deletable": true,
    "editable": true
   },
   "outputs": [],
   "source": [
    "bs = bs.set_index(['Player Id'])\n",
    "# bs.head(2)"
   ]
  },
  {
   "cell_type": "markdown",
   "metadata": {
    "deletable": true,
    "editable": true
   },
   "source": [
    "#### Remove stats from before 1980. Considering this the modern era of football."
   ]
  },
  {
   "cell_type": "code",
   "execution_count": 17,
   "metadata": {
    "collapsed": false,
    "deletable": true,
    "editable": true
   },
   "outputs": [],
   "source": [
    "rb = rb.set_index(['Player Id'])\n",
    "rb = rb.loc[(rb.Year > 1979)]\n",
    "#rb = rb.loc[(rb['Rushing Attempts'] > 0)]\n",
    "#rb.head(2)"
   ]
  },
  {
   "cell_type": "code",
   "execution_count": 18,
   "metadata": {
    "collapsed": false,
    "deletable": true,
    "editable": true
   },
   "outputs": [],
   "source": [
    "wr = wr.set_index(['Player Id'])\n",
    "wr = wr.loc[(wr.Year > 1979)]\n",
    "#wr = wr.loc[(wr['Receptions'] > 0)]\n",
    "#wr.head(2)"
   ]
  },
  {
   "cell_type": "markdown",
   "metadata": {
    "deletable": true,
    "editable": true
   },
   "source": [
    "#### Checking Earliest Dates for All Datafiles"
   ]
  },
  {
   "cell_type": "code",
   "execution_count": 19,
   "metadata": {
    "collapsed": false,
    "deletable": true,
    "editable": true
   },
   "outputs": [],
   "source": [
    "rb = rb.merge(bs)\n",
    "#rb = rb.set_index(['Name'])\n",
    "#rb.Year.sort_values().head(2)"
   ]
  },
  {
   "cell_type": "code",
   "execution_count": 20,
   "metadata": {
    "collapsed": false,
    "deletable": true,
    "editable": true
   },
   "outputs": [],
   "source": [
    "wr = wr.merge(bs)\n",
    "#wr = wr.set_index(['Name'])\n",
    "#wr.Year.sort_values().head(2)"
   ]
  },
  {
   "cell_type": "markdown",
   "metadata": {
    "deletable": true,
    "editable": true
   },
   "source": [
    "#### Column Names"
   ]
  },
  {
   "cell_type": "code",
   "execution_count": 21,
   "metadata": {
    "collapsed": false,
    "deletable": true,
    "editable": true
   },
   "outputs": [],
   "source": [
    "rb = rb.drop(['Birth Place',\n",
    " 'Birthday','High School',\n",
    " 'High School Location',\n",
    " 'Number','Years Played','Experience','Current Status','Current Team','Age'], axis=1, inplace=False)\n",
    "\n",
    "wr = wr.drop(['Birth Place',\n",
    " 'Birthday','High School',\n",
    " 'High School Location',\n",
    " 'Number','Years Played','Experience', 'Current Status'], axis=1, inplace=False)"
   ]
  },
  {
   "cell_type": "code",
   "execution_count": 22,
   "metadata": {
    "collapsed": false,
    "deletable": true,
    "editable": true
   },
   "outputs": [
    {
     "name": "stdout",
     "output_type": "stream",
     "text": [
      "['Name', 'Position', 'Year', 'Season', 'Week', 'Game Date', 'Home or Away', 'Opponent', 'Outcome', 'Score', 'Games Played', 'Games Started', 'Rushing Attempts', 'Rushing Yards', 'Yards Per Carry', 'Longest Rushing Run', 'Rushing TDs', 'Receptions', 'Receiving Yards', 'Yards Per Reception', 'Longest Reception', 'Receiving TDs', 'Fumbles', 'Fumbles Lost', 'College', 'Height (inches)', 'Weight (lbs)']\n"
     ]
    }
   ],
   "source": [
    "print(list(rb))"
   ]
  },
  {
   "cell_type": "code",
   "execution_count": 23,
   "metadata": {
    "collapsed": false,
    "deletable": true,
    "editable": true
   },
   "outputs": [
    {
     "name": "stdout",
     "output_type": "stream",
     "text": [
      "['Name', 'Position', 'Year', 'Season', 'Week', 'Game Date', 'Home or Away', 'Opponent', 'Outcome', 'Score', 'Games Played', 'Games Started', 'Receptions', 'Receiving Yards', 'Yards Per Reception', 'Longest Reception', 'Receiving TDs', 'Rushing Attempts', 'Rushing Yards', 'Yards Per Carry', 'Longest Rushing Run', 'Rushing TDs', 'Fumbles', 'Fumbles Lost', 'Age', 'College', 'Current Team', 'Height (inches)', 'Weight (lbs)']\n"
     ]
    }
   ],
   "source": [
    "print(list(wr))"
   ]
  },
  {
   "cell_type": "code",
   "execution_count": 24,
   "metadata": {
    "collapsed": false,
    "deletable": true,
    "editable": true
   },
   "outputs": [],
   "source": [
    "#fix numeric issues\n",
    "rb = rb.replace('--',0)\n",
    "rb['Longest Rushing Run'] = rb['Longest Rushing Run'].map(lambda x: str(x).rstrip('T'))\n",
    "rb['Longest Reception'] = rb['Longest Reception'].map(lambda x: str(x).rstrip('T'))\n",
    "#rb_full['Experience'] = rb_full['Experience'].map(lambda x: str(x).replace('season','').replace('st','').replace('nd','').replace('rd','').replace('th','').replace('Rookie','0').lstrip())\n",
    "rb = rb.apply(pd.to_numeric, errors='ignore')\n",
    "\n",
    "#fix numeric issues\n",
    "wr = wr.replace('--',0)\n",
    "wr['Longest Rushing Run'] = wr['Longest Rushing Run'].map(lambda x: str(x).rstrip('T'))\n",
    "wr['Longest Reception'] = wr['Longest Reception'].map(lambda x: str(x).rstrip('T'))\n",
    "#wr_full['Experience'] = wr_full['Experience'].map(lambda x: str(x).replace('season','').replace('st','').replace('nd','').replace('rd','').replace('th','').replace('Rookie','0').lstrip())\n",
    "wr = wr.apply(pd.to_numeric, errors='ignore')"
   ]
  },
  {
   "cell_type": "code",
   "execution_count": 25,
   "metadata": {
    "collapsed": false
   },
   "outputs": [],
   "source": [
    "# def get_rookie_year(name):\n",
    "#    rookie_year = rb.loc[rb['Name'] == name, 'Year'].min()\n",
    "#    return rookie_year\n",
    "\n",
    "\n",
    "# rb['Rookie Year'] = rb.apply(lambda x:get_rookie_year(x['Name']),axis=1)\n",
    "# rb['Experience'] = rb['Year'] - rb['Rookie Year']"
   ]
  },
  {
   "cell_type": "code",
   "execution_count": 26,
   "metadata": {
    "collapsed": false,
    "deletable": true,
    "editable": true
   },
   "outputs": [],
   "source": [
    "# make sure year is included in date\n",
    "rb[\"Game Date\"] = rb[\"Game Date\"].map(str) + \"/\" + rb[\"Year\"].map(str)"
   ]
  },
  {
   "cell_type": "code",
   "execution_count": 27,
   "metadata": {
    "collapsed": false,
    "deletable": true,
    "editable": true
   },
   "outputs": [],
   "source": [
    "# create a timestamp\n",
    "rb['Game Date'] = pd.to_datetime(rb['Game Date'])"
   ]
  },
  {
   "cell_type": "code",
   "execution_count": 28,
   "metadata": {
    "collapsed": false,
    "deletable": true,
    "editable": true
   },
   "outputs": [],
   "source": [
    "# create sperate df for time series evaluation\n",
    "rb_time = rb\n",
    "rb_time = rb_time.set_index('Game Date')"
   ]
  },
  {
   "cell_type": "code",
   "execution_count": 29,
   "metadata": {
    "collapsed": false,
    "deletable": true,
    "editable": true
   },
   "outputs": [
    {
     "data": {
      "text/plain": [
       "array(['Bell, Nick', \"Bell, Le'Veon\", 'Bell, Richard', 'Bell, Ken',\n",
       "       'Bell, Tatum', 'Bell, Ricky', 'Bell, Joique', 'Bell, William',\n",
       "       'Bell, Kahlil', 'Bell, Cameron', 'Bell, Greg', 'Bell, Mike'], dtype=object)"
      ]
     },
     "execution_count": 29,
     "metadata": {},
     "output_type": "execute_result"
    }
   ],
   "source": [
    "# search for a player's exact name. some are hard to spell\n",
    "search_player = 'Bell'\n",
    "search = rb_time[rb_time['Name'].str.contains(search_player)]\n",
    "search.Name.unique()"
   ]
  },
  {
   "cell_type": "code",
   "execution_count": 30,
   "metadata": {
    "collapsed": false,
    "deletable": true,
    "editable": true
   },
   "outputs": [],
   "source": [
    "evaluate_player = 'Bell, Joique'\n",
    "football_mos = [9,10,11,12]\n",
    "eval = rb_time.loc[(rb_time['Name']==evaluate_player) & (rb_time['Season'] == 'Regular Season')] # & (eval.month.any(football_mos))]"
   ]
  },
  {
   "cell_type": "code",
   "execution_count": 33,
   "metadata": {
    "collapsed": false
   },
   "outputs": [
    {
     "name": "stderr",
     "output_type": "stream",
     "text": [
      "/Users/jwujciak/miniconda/envs/ipykernel_py2/lib/python2.7/site-packages/ipykernel_launcher.py:6: SettingWithCopyWarning: \n",
      "A value is trying to be set on a copy of a slice from a DataFrame.\n",
      "Try using .loc[row_indexer,col_indexer] = value instead\n",
      "\n",
      "See the caveats in the documentation: http://pandas.pydata.org/pandas-docs/stable/indexing.html#indexing-view-versus-copy\n",
      "  \n",
      "/Users/jwujciak/miniconda/envs/ipykernel_py2/lib/python2.7/site-packages/ipykernel_launcher.py:7: SettingWithCopyWarning: \n",
      "A value is trying to be set on a copy of a slice from a DataFrame.\n",
      "Try using .loc[row_indexer,col_indexer] = value instead\n",
      "\n",
      "See the caveats in the documentation: http://pandas.pydata.org/pandas-docs/stable/indexing.html#indexing-view-versus-copy\n",
      "  import sys\n"
     ]
    }
   ],
   "source": [
    "def get_rookie_year(name):\n",
    "   rookie_year = eval.loc[eval['Name'] == name, 'Year'].min()\n",
    "   return rookie_year\n",
    "\n",
    "\n",
    "eval['Rookie Year'] = eval.apply(lambda x:get_rookie_year(x['Name']),axis=1)\n",
    "eval['Experience'] = eval['Year'] - eval['Rookie Year']"
   ]
  },
  {
   "cell_type": "code",
   "execution_count": 36,
   "metadata": {
    "collapsed": false,
    "deletable": true,
    "editable": true
   },
   "outputs": [
    {
     "data": {
      "text/plain": [
       "0.44211230577541938"
      ]
     },
     "execution_count": 36,
     "metadata": {},
     "output_type": "execute_result"
    }
   ],
   "source": [
    "eval['Rushing Yards'].resample('A').mean().autocorr(lag=1)"
   ]
  },
  {
   "cell_type": "code",
   "execution_count": 37,
   "metadata": {
    "collapsed": true,
    "deletable": true,
    "editable": true
   },
   "outputs": [],
   "source": [
    "int_cols = ['Year', \n",
    "            'Week', \n",
    "            'Games Played', \n",
    "            'Games Started', \n",
    "            'Rushing Attempts', \n",
    "            'Rushing Yards', \n",
    "            'Longest Rushing Run', \n",
    "            'Rushing TDs', \n",
    "            'Receptions', \n",
    "            'Receiving Yards', \n",
    "            'Longest Reception', \n",
    "            'Receiving TDs', \n",
    "            'Fumbles', \n",
    "            'Fumbles Lost',\n",
    "            'Rookie Year',\n",
    "            'Experience']"
   ]
  },
  {
   "cell_type": "code",
   "execution_count": 125,
   "metadata": {
    "collapsed": false,
    "deletable": true,
    "editable": true
   },
   "outputs": [
    {
     "name": "stdout",
     "output_type": "stream",
     "text": [
      "<class 'pandas.core.frame.DataFrame'>\n",
      "DatetimeIndex: 86 entries, 2016-10-02 to 2010-12-09\n",
      "Data columns (total 28 columns):\n",
      "Name                   86 non-null object\n",
      "Position               86 non-null object\n",
      "Year                   86 non-null float64\n",
      "Season                 86 non-null object\n",
      "Week                   86 non-null float64\n",
      "Home or Away           86 non-null object\n",
      "Opponent               86 non-null object\n",
      "Outcome                86 non-null object\n",
      "Score                  86 non-null object\n",
      "Games Played           86 non-null float64\n",
      "Games Started          86 non-null float64\n",
      "Rushing Attempts       86 non-null float64\n",
      "Rushing Yards          86 non-null float64\n",
      "Yards Per Carry        86 non-null float64\n",
      "Longest Rushing Run    86 non-null float64\n",
      "Rushing TDs            86 non-null float64\n",
      "Receptions             86 non-null float64\n",
      "Receiving Yards        86 non-null float64\n",
      "Yards Per Reception    86 non-null float64\n",
      "Longest Reception      86 non-null float64\n",
      "Receiving TDs          86 non-null float64\n",
      "Fumbles                86 non-null float64\n",
      "Fumbles Lost           86 non-null float64\n",
      "College                86 non-null object\n",
      "Height (inches)        86 non-null float64\n",
      "Weight (lbs)           86 non-null float64\n",
      "Rookie Year            86 non-null float64\n",
      "Experience             86 non-null float64\n",
      "dtypes: float64(20), object(8)\n",
      "memory usage: 22.0+ KB\n"
     ]
    }
   ],
   "source": [
    "eval.info()"
   ]
  },
  {
   "cell_type": "code",
   "execution_count": 39,
   "metadata": {
    "collapsed": false,
    "deletable": true,
    "editable": true
   },
   "outputs": [
    {
     "name": "stderr",
     "output_type": "stream",
     "text": [
      "/Users/jwujciak/miniconda/envs/ipykernel_py2/lib/python2.7/site-packages/ipykernel_launcher.py:2: FutureWarning: 'pandas.tools.plotting.autocorrelation_plot' is deprecated, import 'pandas.plotting.autocorrelation_plot' instead.\n",
      "  \n"
     ]
    },
    {
     "data": {
      "image/png": "[encoded data removed]",
      "text/plain": [
       "<matplotlib.figure.Figure at 0x11a807590>"
      ]
     },
     "metadata": {},
     "output_type": "display_data"
    }
   ],
   "source": [
    "from pandas.tools.plotting import autocorrelation_plot\n",
    "autocorrelation_plot(eval['Rushing Yards']);"
   ]
  },
  {
   "cell_type": "code",
   "execution_count": 40,
   "metadata": {
    "collapsed": false,
    "deletable": true,
    "editable": true
   },
   "outputs": [
    {
     "data": {
      "text/html": [
       "<div>\n",
       "<style>\n",
       "    .dataframe thead tr:only-child th {\n",
       "        text-align: right;\n",
       "    }\n",
       "\n",
       "    .dataframe thead th {\n",
       "        text-align: left;\n",
       "    }\n",
       "\n",
       "    .dataframe tbody tr th {\n",
       "        vertical-align: top;\n",
       "    }\n",
       "</style>\n",
       "<table border=\"1\" class=\"dataframe\">\n",
       "  <thead>\n",
       "    <tr style=\"text-align: right;\">\n",
       "      <th></th>\n",
       "      <th>median</th>\n",
       "      <th>mean</th>\n",
       "      <th>max</th>\n",
       "      <th>min</th>\n",
       "    </tr>\n",
       "    <tr>\n",
       "      <th>Game Date</th>\n",
       "      <th></th>\n",
       "      <th></th>\n",
       "      <th></th>\n",
       "      <th></th>\n",
       "    </tr>\n",
       "  </thead>\n",
       "  <tbody>\n",
       "    <tr>\n",
       "      <th>2010-12-31</th>\n",
       "      <td>0.0</td>\n",
       "      <td>0.0000</td>\n",
       "      <td>0</td>\n",
       "      <td>0</td>\n",
       "    </tr>\n",
       "    <tr>\n",
       "      <th>2011-12-31</th>\n",
       "      <td>0.0</td>\n",
       "      <td>0.0000</td>\n",
       "      <td>0</td>\n",
       "      <td>0</td>\n",
       "    </tr>\n",
       "    <tr>\n",
       "      <th>2012-12-31</th>\n",
       "      <td>18.5</td>\n",
       "      <td>25.8750</td>\n",
       "      <td>81</td>\n",
       "      <td>1</td>\n",
       "    </tr>\n",
       "    <tr>\n",
       "      <th>2013-12-31</th>\n",
       "      <td>31.0</td>\n",
       "      <td>40.6250</td>\n",
       "      <td>94</td>\n",
       "      <td>12</td>\n",
       "    </tr>\n",
       "    <tr>\n",
       "      <th>2014-12-31</th>\n",
       "      <td>49.5</td>\n",
       "      <td>53.7500</td>\n",
       "      <td>91</td>\n",
       "      <td>0</td>\n",
       "    </tr>\n",
       "    <tr>\n",
       "      <th>2015-12-31</th>\n",
       "      <td>13.5</td>\n",
       "      <td>19.4375</td>\n",
       "      <td>71</td>\n",
       "      <td>0</td>\n",
       "    </tr>\n",
       "    <tr>\n",
       "      <th>2016-12-31</th>\n",
       "      <td>0.0</td>\n",
       "      <td>0.7500</td>\n",
       "      <td>6</td>\n",
       "      <td>0</td>\n",
       "    </tr>\n",
       "  </tbody>\n",
       "</table>\n",
       "</div>"
      ],
      "text/plain": [
       "            median     mean  max  min\n",
       "Game Date                            \n",
       "2010-12-31     0.0   0.0000    0    0\n",
       "2011-12-31     0.0   0.0000    0    0\n",
       "2012-12-31    18.5  25.8750   81    1\n",
       "2013-12-31    31.0  40.6250   94   12\n",
       "2014-12-31    49.5  53.7500   91    0\n",
       "2015-12-31    13.5  19.4375   71    0\n",
       "2016-12-31     0.0   0.7500    6    0"
      ]
     },
     "execution_count": 40,
     "metadata": {},
     "output_type": "execute_result"
    }
   ],
   "source": [
    "eval['Rushing Yards'].resample('A').apply(['median','mean','max','min'])"
   ]
  },
  {
   "cell_type": "code",
   "execution_count": 41,
   "metadata": {
    "collapsed": false,
    "deletable": true,
    "editable": true
   },
   "outputs": [
    {
     "data": {
      "text/plain": [
       "<matplotlib.axes._subplots.AxesSubplot at 0x11a715a10>"
      ]
     },
     "execution_count": 41,
     "metadata": {},
     "output_type": "execute_result"
    },
    {
     "data": {
      "image/png": "[encoded data removed]",
      "text/plain": [
       "<matplotlib.figure.Figure at 0x11a8076d0>"
      ]
     },
     "metadata": {},
     "output_type": "display_data"
    }
   ],
   "source": [
    "eval['Rushing Yards'].plot()"
   ]
  },
  {
   "cell_type": "code",
   "execution_count": 42,
   "metadata": {
    "collapsed": false,
    "deletable": true,
    "editable": true
   },
   "outputs": [
    {
     "data": {
      "text/plain": [
       "<matplotlib.axes._subplots.AxesSubplot at 0x11b55d990>"
      ]
     },
     "execution_count": 42,
     "metadata": {},
     "output_type": "execute_result"
    },
    {
     "data": {
      "image/png": "[encoded data removed]",
      "text/plain": [
       "<matplotlib.figure.Figure at 0x11b5689d0>"
      ]
     },
     "metadata": {},
     "output_type": "display_data"
    }
   ],
   "source": [
    "eval[['Rushing Yards']].resample('W').mean()\\\n",
    ".rolling(window=3, center=True).mean().dropna().plot(figsize=(13, 5))\n",
    "\n",
    "# looks really wonky because football games only occur on 4 months per year"
   ]
  },
  {
   "cell_type": "code",
   "execution_count": 137,
   "metadata": {
    "collapsed": false,
    "deletable": true,
    "editable": true
   },
   "outputs": [],
   "source": [
    "for col in int_cols:\n",
    "    eval[col] = eval[col].astype(float)\n",
    "# eval.dtypes"
   ]
  },
  {
   "cell_type": "code",
   "execution_count": 44,
   "metadata": {
    "collapsed": false,
    "deletable": true,
    "editable": true
   },
   "outputs": [],
   "source": [
    "eval = eval.fillna(0)"
   ]
  },
  {
   "cell_type": "code",
   "execution_count": 136,
   "metadata": {
    "collapsed": false,
    "deletable": true,
    "editable": true
   },
   "outputs": [],
   "source": [
    "# for col in list(eval):\n",
    "#     print col, len(eval[col])-len(eval[col].dropna())"
   ]
  },
  {
   "cell_type": "code",
   "execution_count": 178,
   "metadata": {
    "collapsed": false
   },
   "outputs": [],
   "source": [
    "# list(eval.index)"
   ]
  },
  {
   "cell_type": "code",
   "execution_count": 197,
   "metadata": {
    "collapsed": false
   },
   "outputs": [
    {
     "data": {
      "text/html": [
       "<div>\n",
       "<style>\n",
       "    .dataframe thead tr:only-child th {\n",
       "        text-align: right;\n",
       "    }\n",
       "\n",
       "    .dataframe thead th {\n",
       "        text-align: left;\n",
       "    }\n",
       "\n",
       "    .dataframe tbody tr th {\n",
       "        vertical-align: top;\n",
       "    }\n",
       "</style>\n",
       "<table border=\"1\" class=\"dataframe\">\n",
       "  <thead>\n",
       "    <tr style=\"text-align: right;\">\n",
       "      <th></th>\n",
       "      <th>Rushing Yards</th>\n",
       "    </tr>\n",
       "  </thead>\n",
       "  <tbody>\n",
       "    <tr>\n",
       "      <th>2017-09-13 00:00:00</th>\n",
       "      <td>NaN</td>\n",
       "    </tr>\n",
       "    <tr>\n",
       "      <th>2017-09-20 00:00:00</th>\n",
       "      <td>NaN</td>\n",
       "    </tr>\n",
       "    <tr>\n",
       "      <th>2017-09-27 00:00:00</th>\n",
       "      <td>NaN</td>\n",
       "    </tr>\n",
       "    <tr>\n",
       "      <th>2017-10-05 00:00:00</th>\n",
       "      <td>NaN</td>\n",
       "    </tr>\n",
       "    <tr>\n",
       "      <th>2017-10-11 00:00:00</th>\n",
       "      <td>NaN</td>\n",
       "    </tr>\n",
       "  </tbody>\n",
       "</table>\n",
       "</div>"
      ],
      "text/plain": [
       "                    Rushing Yards\n",
       "2017-09-13 00:00:00           NaN\n",
       "2017-09-20 00:00:00           NaN\n",
       "2017-09-27 00:00:00           NaN\n",
       "2017-10-05 00:00:00           NaN\n",
       "2017-10-11 00:00:00           NaN"
      ]
     },
     "execution_count": 197,
     "metadata": {},
     "output_type": "execute_result"
    }
   ],
   "source": [
    "# creating future dates to forecast\n",
    "\n",
    "future_dates = ['2017-09-13 00:00:00',\n",
    " '2017-09-20 00:00:00',\n",
    " '2017-09-27 00:00:00',\n",
    " '2017-10-05 00:00:00',\n",
    " '2017-10-11 00:00:00',\n",
    " '2017-10-18 00:00:00',\n",
    " '2017-10-25 00:00:00',\n",
    " '2017-11-01 00:00:00',\n",
    " '2017-11-15 00:00:00',\n",
    " '2017-11-22 00:00:00',\n",
    " '2017-11-26 00:00:00',\n",
    " '2017-12-03 00:00:00',\n",
    " '2017-12-13 00:00:00',\n",
    " '2017-12-21 00:00:00',\n",
    " '2017-12-27 00:00:00',\n",
    " '2018-01-01 00:00:00']\n",
    "columns=['Rushing Yards']\n",
    "forecast_eval = pd.DataFrame(index=future_dates, columns=columns)\n",
    "forecast_eval.head()"
   ]
  },
  {
   "cell_type": "code",
   "execution_count": 198,
   "metadata": {
    "collapsed": true
   },
   "outputs": [],
   "source": [
    "train_eval = eval[:'2016-10-02']\n",
    "# test_eval = eval['2016-10-02':]"
   ]
  },
  {
   "cell_type": "code",
   "execution_count": 199,
   "metadata": {
    "collapsed": false,
    "deletable": true,
    "editable": true
   },
   "outputs": [],
   "source": [
    "# n = len(eval['Rushing Yards'])\n",
    "\n",
    "train = train_eval['Rushing Yards'] #.iloc[:int(.75*n)]\n",
    "# test = test_eval['Rushing Yards'] #.iloc[int(.75*n):]\n",
    "# train.shape, test.shape"
   ]
  },
  {
   "cell_type": "code",
   "execution_count": 202,
   "metadata": {
    "collapsed": false
   },
   "outputs": [
    {
     "data": {
      "text/plain": [
       "95"
      ]
     },
     "execution_count": 202,
     "metadata": {},
     "output_type": "execute_result"
    }
   ],
   "source": [
    "# len_predictions = len(train)+len(test)-1\n",
    "len_forecast = len(train)+len(forecast_eval)-1\n",
    "len_forecast"
   ]
  },
  {
   "cell_type": "code",
   "execution_count": 211,
   "metadata": {
    "collapsed": false,
    "deletable": true,
    "editable": true
   },
   "outputs": [
    {
     "name": "stdout",
     "output_type": "stream",
     "text": [
      " Mean absolute error:  23.7738225719\n",
      "                              ARMA Model Results                              \n",
      "==============================================================================\n",
      "Dep. Variable:          Rushing Yards   No. Observations:                   80\n",
      "Model:                     ARMA(1, 0)   Log Likelihood                -368.961\n",
      "Method:                       css-mle   S.D. of innovations             24.323\n",
      "Date:                Wed, 27 Sep 2017   AIC                            743.923\n",
      "Time:                        21:40:53   BIC                            751.069\n",
      "Sample:                    09-26-2010   HQIC                           746.788\n",
      "                         - 10-02-2016                                         \n",
      "=======================================================================================\n",
      "                          coef    std err          z      P>|z|      [0.025      0.975]\n",
      "---------------------------------------------------------------------------------------\n",
      "const                  27.4473      5.179      5.300      0.000      17.296      37.598\n",
      "ar.L1.Rushing Yards     0.4804      0.098      4.900      0.000       0.288       0.673\n",
      "                                    Roots                                    \n",
      "=============================================================================\n",
      "                 Real           Imaginary           Modulus         Frequency\n",
      "-----------------------------------------------------------------------------\n",
      "AR.1            2.0815           +0.0000j            2.0815            0.0000\n",
      "-----------------------------------------------------------------------------\n"
     ]
    }
   ],
   "source": [
    "model = sm.tsa.ARIMA(train, (1, 0, 0),freq='W').fit()\n",
    "\n",
    "predictions = model.predict(\n",
    "    len(train),\n",
    "    len_forecast-9,\n",
    "    dynamic=True, \n",
    ")\n",
    "\n",
    "print \"Mean absolute error: \", mean_absolute_error(test, predictions)\n",
    "print model.summary()"
   ]
  },
  {
   "cell_type": "code",
   "execution_count": 213,
   "metadata": {
    "collapsed": false
   },
   "outputs": [
    {
     "data": {
      "text/plain": [
       "2016-10-09    17.143360\n",
       "2016-10-16    22.496984\n",
       "2016-10-23    25.069035\n",
       "2016-10-30    26.304730\n",
       "2016-11-06    26.898397\n",
       "2016-11-13    27.183613\n",
       "2016-11-20    27.320640\n",
       "Freq: W-SUN, dtype: float64"
      ]
     },
     "execution_count": 213,
     "metadata": {},
     "output_type": "execute_result"
    }
   ],
   "source": [
    "predictions"
   ]
  },
  {
   "cell_type": "code",
   "execution_count": 48,
   "metadata": {
    "collapsed": false,
    "deletable": true,
    "editable": true
   },
   "outputs": [
    {
     "name": "stdout",
     "output_type": "stream",
     "text": [
      "                              ARMA Model Results                              \n",
      "==============================================================================\n",
      "Dep. Variable:          Rushing Yards   No. Observations:                   64\n",
      "Model:                     ARMA(2, 0)   Log Likelihood                -295.362\n",
      "Method:                       css-mle   S.D. of innovations             24.379\n",
      "Date:                Wed, 27 Sep 2017   AIC                            598.724\n",
      "Time:                        18:33:46   BIC                            607.359\n",
      "Sample:                    10-02-2016   HQIC                           602.126\n",
      "                         - 11-04-2012                                         \n",
      "=======================================================================================\n",
      "                          coef    std err          z      P>|z|      [0.025      0.975]\n",
      "---------------------------------------------------------------------------------------\n",
      "const                  31.5295      6.668      4.728      0.000      18.460      44.599\n",
      "ar.L1.Rushing Yards     0.3444      0.124      2.779      0.007       0.101       0.587\n",
      "ar.L2.Rushing Yards     0.2103      0.125      1.685      0.097      -0.034       0.455\n",
      "                                    Roots                                    \n",
      "=============================================================================\n",
      "                 Real           Imaginary           Modulus         Frequency\n",
      "-----------------------------------------------------------------------------\n",
      "AR.1            1.5105           +0.0000j            1.5105            0.0000\n",
      "AR.2           -3.1484           +0.0000j            3.1484            0.5000\n",
      "-----------------------------------------------------------------------------\n"
     ]
    }
   ],
   "source": [
    "model = sm.tsa.ARIMA(train, (2, 0, 0),freq='W').fit()\n",
    "\n",
    "predictions = model.predict(\n",
    "    len(train),\n",
    "    86,\n",
    "    dynamic=True, \n",
    ")\n",
    "\n",
    "# print \"Mean absolute error: \", mean_absolute_error(test, predictions)\n",
    "print model.summary()"
   ]
  },
  {
   "cell_type": "code",
   "execution_count": 49,
   "metadata": {
    "collapsed": false,
    "deletable": true,
    "editable": true
   },
   "outputs": [
    {
     "name": "stdout",
     "output_type": "stream",
     "text": [
      "                              ARMA Model Results                              \n",
      "==============================================================================\n",
      "Dep. Variable:          Rushing Yards   No. Observations:                   64\n",
      "Model:                     ARMA(2, 2)   Log Likelihood                -292.218\n",
      "Method:                       css-mle   S.D. of innovations             23.153\n",
      "Date:                Wed, 27 Sep 2017   AIC                            596.436\n",
      "Time:                        18:33:46   BIC                            609.390\n",
      "Sample:                    10-02-2016   HQIC                           601.539\n",
      "                         - 11-04-2012                                         \n",
      "=======================================================================================\n",
      "                          coef    std err          z      P>|z|      [0.025      0.975]\n",
      "---------------------------------------------------------------------------------------\n",
      "const                  29.4984     10.207      2.890      0.005       9.494      49.503\n",
      "ar.L1.Rushing Yards     0.1394      0.294      0.474      0.637      -0.437       0.716\n",
      "ar.L2.Rushing Yards     0.6925      0.248      2.791      0.007       0.206       1.179\n",
      "ma.L1.Rushing Yards     0.2224      0.274      0.811      0.421      -0.315       0.760\n",
      "ma.L2.Rushing Yards    -0.5804      0.166     -3.497      0.001      -0.906      -0.255\n",
      "                                    Roots                                    \n",
      "=============================================================================\n",
      "                 Real           Imaginary           Modulus         Frequency\n",
      "-----------------------------------------------------------------------------\n",
      "AR.1            1.1052           +0.0000j            1.1052            0.0000\n",
      "AR.2           -1.3066           +0.0000j            1.3066            0.5000\n",
      "MA.1           -1.1349           +0.0000j            1.1349            0.5000\n",
      "MA.2            1.5181           +0.0000j            1.5181            0.0000\n",
      "-----------------------------------------------------------------------------\n"
     ]
    }
   ],
   "source": [
    "model = sm.tsa.ARIMA(train, (2, 0, 2),freq='W').fit()\n",
    "\n",
    "predictions = model.predict(\n",
    "    64,\n",
    "    86,\n",
    "    dynamic=True, \n",
    ")\n",
    "\n",
    "# print \"Mean absolute error: \", mean_absolute_error(test, predictions)\n",
    "print model.summary()"
   ]
  },
  {
   "cell_type": "code",
   "execution_count": 98,
   "metadata": {
    "collapsed": false
   },
   "outputs": [
    {
     "data": {
      "text/plain": [
       "2012-11-11    49.738340\n",
       "2012-11-18    39.575138\n",
       "2012-11-25    35.134755\n",
       "2012-12-02    33.194716\n",
       "2012-12-09    32.347098\n",
       "2012-12-16    31.976767\n",
       "2012-12-23    31.814967\n",
       "2012-12-30    31.744275\n",
       "2013-01-06    31.713389\n",
       "2013-01-13    31.699894\n",
       "2013-01-20    31.693999\n",
       "2013-01-27    31.691423\n",
       "2013-02-03    31.690297\n",
       "2013-02-10    31.689806\n",
       "2013-02-17    31.689591\n",
       "2013-02-24    31.689497\n",
       "2013-03-03    31.689456\n",
       "2013-03-10    31.689438\n",
       "2013-03-17    31.689430\n",
       "2013-03-24    31.689427\n",
       "2013-03-31    31.689425\n",
       "2013-04-07    31.689425\n",
       "Freq: W-SUN, dtype: float64"
      ]
     },
     "execution_count": 98,
     "metadata": {},
     "output_type": "execute_result"
    }
   ],
   "source": [
    "predictions"
   ]
  },
  {
   "cell_type": "code",
   "execution_count": 97,
   "metadata": {
    "collapsed": false,
    "deletable": true,
    "editable": true
   },
   "outputs": [
    {
     "data": {
      "text/plain": [
       "<matplotlib.axes._subplots.AxesSubplot at 0x11a921050>"
      ]
     },
     "execution_count": 97,
     "metadata": {},
     "output_type": "execute_result"
    },
    {
     "data": {
      "image/png": "[encoded data removed]",
      "text/plain": [
       "<matplotlib.figure.Figure at 0x11b323890>"
      ]
     },
     "metadata": {},
     "output_type": "display_data"
    }
   ],
   "source": [
    "predictions.plot()"
   ]
  },
  {
   "cell_type": "code",
   "execution_count": 94,
   "metadata": {
    "collapsed": false,
    "deletable": true,
    "editable": true
   },
   "outputs": [
    {
     "ename": "ValueError",
     "evalue": "Wrong number of items passed 5, placement implies 11",
     "output_type": "error",
     "traceback": [
      "\u001b[0;31m--------------------\u001b[0m",
      "\u001b[0;31mValueError\u001b[0mTraceback (most recent call last)",
      "\u001b[0;32m<ipython-input-94-2a71d50a437b>\u001b[0m in \u001b[0;36m<module>\u001b[0;34m()\u001b[0m\n\u001b[1;32m      1\u001b[0m \u001b[0max\u001b[0m \u001b[0;34m=\u001b[0m \u001b[0meval\u001b[0m\u001b[0;34m[\u001b[0m\u001b[0;34m'Rushing Yards'\u001b[0m\u001b[0;34m]\u001b[0m\u001b[0;34m.\u001b[0m\u001b[0mplot\u001b[0m\u001b[0;34m(\u001b[0m\u001b[0;34m)\u001b[0m\u001b[0;34m\u001b[0m\u001b[0m\n\u001b[0;32m----> 2\u001b[0;31m \u001b[0mmodel\u001b[0m\u001b[0;34m.\u001b[0m\u001b[0mplot_predict\u001b[0m\u001b[0;34m(\u001b[0m\u001b[0;36m1\u001b[0m\u001b[0;34m,\u001b[0m \u001b[0;36m5\u001b[0m\u001b[0;34m,\u001b[0m \u001b[0max\u001b[0m\u001b[0;34m=\u001b[0m\u001b[0max\u001b[0m\u001b[0;34m,\u001b[0m \u001b[0mplot_insample\u001b[0m\u001b[0;34m=\u001b[0m\u001b[0mFalse\u001b[0m\u001b[0;34m)\u001b[0m\u001b[0;34m;\u001b[0m\u001b[0;34m\u001b[0m\u001b[0m\n\u001b[0m",
      "\u001b[0;32m/Users/jwujciak/miniconda/envs/ipykernel_py2/lib/python2.7/site-packages/statsmodels/tsa/arima_model.pyc\u001b[0m in \u001b[0;36mplot_predict\u001b[0;34m(self, start, end, exog, dynamic, alpha, plot_insample, ax)\u001b[0m\n\u001b[1;32m   1774\u001b[0m         \u001b[0;32mif\u001b[0m \u001b[0mhasattr\u001b[0m\u001b[0;34m(\u001b[0m\u001b[0mself\u001b[0m\u001b[0;34m.\u001b[0m\u001b[0mdata\u001b[0m\u001b[0;34m,\u001b[0m \u001b[0;34m\"predict_dates\"\u001b[0m\u001b[0;34m)\u001b[0m\u001b[0;34m:\u001b[0m\u001b[0;34m\u001b[0m\u001b[0m\n\u001b[1;32m   1775\u001b[0m             \u001b[0;32mfrom\u001b[0m \u001b[0mpandas\u001b[0m \u001b[0;32mimport\u001b[0m \u001b[0mSeries\u001b[0m\u001b[0;34m\u001b[0m\u001b[0m\n\u001b[0;32m-> 1776\u001b[0;31m             \u001b[0mforecast\u001b[0m \u001b[0;34m=\u001b[0m \u001b[0mSeries\u001b[0m\u001b[0;34m(\u001b[0m\u001b[0mforecast\u001b[0m\u001b[0;34m,\u001b[0m \u001b[0mindex\u001b[0m\u001b[0;34m=\u001b[0m\u001b[0mself\u001b[0m\u001b[0;34m.\u001b[0m\u001b[0mdata\u001b[0m\u001b[0;34m.\u001b[0m\u001b[0mpredict_dates\u001b[0m\u001b[0;34m)\u001b[0m\u001b[0;34m\u001b[0m\u001b[0m\n\u001b[0m\u001b[1;32m   1777\u001b[0m             \u001b[0max\u001b[0m \u001b[0;34m=\u001b[0m \u001b[0mforecast\u001b[0m\u001b[0;34m.\u001b[0m\u001b[0mplot\u001b[0m\u001b[0;34m(\u001b[0m\u001b[0max\u001b[0m\u001b[0;34m=\u001b[0m\u001b[0max\u001b[0m\u001b[0;34m,\u001b[0m \u001b[0mlabel\u001b[0m\u001b[0;34m=\u001b[0m\u001b[0;34m'forecast'\u001b[0m\u001b[0;34m)\u001b[0m\u001b[0;34m\u001b[0m\u001b[0m\n\u001b[1;32m   1778\u001b[0m         \u001b[0;32melse\u001b[0m\u001b[0;34m:\u001b[0m\u001b[0;34m\u001b[0m\u001b[0m\n",
      "\u001b[0;32m/Users/jwujciak/miniconda/envs/ipykernel_py2/lib/python2.7/site-packages/pandas/core/series.pyc\u001b[0m in \u001b[0;36m__init__\u001b[0;34m(self, data, index, dtype, name, copy, fastpath)\u001b[0m\n\u001b[1;32m    248\u001b[0m                                        raise_cast_failure=True)\n\u001b[1;32m    249\u001b[0m \u001b[0;34m\u001b[0m\u001b[0m\n\u001b[0;32m--> 250\u001b[0;31m                 \u001b[0mdata\u001b[0m \u001b[0;34m=\u001b[0m \u001b[0mSingleBlockManager\u001b[0m\u001b[0;34m(\u001b[0m\u001b[0mdata\u001b[0m\u001b[0;34m,\u001b[0m \u001b[0mindex\u001b[0m\u001b[0;34m,\u001b[0m \u001b[0mfastpath\u001b[0m\u001b[0;34m=\u001b[0m\u001b[0mTrue\u001b[0m\u001b[0;34m)\u001b[0m\u001b[0;34m\u001b[0m\u001b[0m\n\u001b[0m\u001b[1;32m    251\u001b[0m \u001b[0;34m\u001b[0m\u001b[0m\n\u001b[1;32m    252\u001b[0m         \u001b[0mgeneric\u001b[0m\u001b[0;34m.\u001b[0m\u001b[0mNDFrame\u001b[0m\u001b[0;34m.\u001b[0m\u001b[0m__init__\u001b[0m\u001b[0;34m(\u001b[0m\u001b[0mself\u001b[0m\u001b[0;34m,\u001b[0m \u001b[0mdata\u001b[0m\u001b[0;34m,\u001b[0m \u001b[0mfastpath\u001b[0m\u001b[0;34m=\u001b[0m\u001b[0mTrue\u001b[0m\u001b[0;34m)\u001b[0m\u001b[0;34m\u001b[0m\u001b[0m\n",
      "\u001b[0;32m/Users/jwujciak/miniconda/envs/ipykernel_py2/lib/python2.7/site-packages/pandas/core/internals.pyc\u001b[0m in \u001b[0;36m__init__\u001b[0;34m(self, block, axis, do_integrity_check, fastpath)\u001b[0m\n\u001b[1;32m   4115\u001b[0m         \u001b[0;32mif\u001b[0m \u001b[0;32mnot\u001b[0m \u001b[0misinstance\u001b[0m\u001b[0;34m(\u001b[0m\u001b[0mblock\u001b[0m\u001b[0;34m,\u001b[0m \u001b[0mBlock\u001b[0m\u001b[0;34m)\u001b[0m\u001b[0;34m:\u001b[0m\u001b[0;34m\u001b[0m\u001b[0m\n\u001b[1;32m   4116\u001b[0m             block = make_block(block, placement=slice(0, len(axis)), ndim=1,\n\u001b[0;32m-> 4117\u001b[0;31m                                fastpath=True)\n\u001b[0m\u001b[1;32m   4118\u001b[0m \u001b[0;34m\u001b[0m\u001b[0m\n\u001b[1;32m   4119\u001b[0m         \u001b[0mself\u001b[0m\u001b[0;34m.\u001b[0m\u001b[0mblocks\u001b[0m \u001b[0;34m=\u001b[0m \u001b[0;34m[\u001b[0m\u001b[0mblock\u001b[0m\u001b[0;34m]\u001b[0m\u001b[0;34m\u001b[0m\u001b[0m\n",
      "\u001b[0;32m/Users/jwujciak/miniconda/envs/ipykernel_py2/lib/python2.7/site-packages/pandas/core/internals.pyc\u001b[0m in \u001b[0;36mmake_block\u001b[0;34m(values, placement, klass, ndim, dtype, fastpath)\u001b[0m\n\u001b[1;32m   2717\u001b[0m                      placement=placement, dtype=dtype)\n\u001b[1;32m   2718\u001b[0m \u001b[0;34m\u001b[0m\u001b[0m\n\u001b[0;32m-> 2719\u001b[0;31m     \u001b[0;32mreturn\u001b[0m \u001b[0mklass\u001b[0m\u001b[0;34m(\u001b[0m\u001b[0mvalues\u001b[0m\u001b[0;34m,\u001b[0m \u001b[0mndim\u001b[0m\u001b[0;34m=\u001b[0m\u001b[0mndim\u001b[0m\u001b[0;34m,\u001b[0m \u001b[0mfastpath\u001b[0m\u001b[0;34m=\u001b[0m\u001b[0mfastpath\u001b[0m\u001b[0;34m,\u001b[0m \u001b[0mplacement\u001b[0m\u001b[0;34m=\u001b[0m\u001b[0mplacement\u001b[0m\u001b[0;34m)\u001b[0m\u001b[0;34m\u001b[0m\u001b[0m\n\u001b[0m\u001b[1;32m   2720\u001b[0m \u001b[0;34m\u001b[0m\u001b[0m\n\u001b[1;32m   2721\u001b[0m \u001b[0;31m# TODO: flexible with index=None and/or items=None\u001b[0m\u001b[0;34m\u001b[0m\u001b[0;34m\u001b[0m\u001b[0m\n",
      "\u001b[0;32m/Users/jwujciak/miniconda/envs/ipykernel_py2/lib/python2.7/site-packages/pandas/core/internals.pyc\u001b[0m in \u001b[0;36m__init__\u001b[0;34m(self, values, placement, ndim, fastpath)\u001b[0m\n\u001b[1;32m    113\u001b[0m             raise ValueError('Wrong number of items passed %d, placement '\n\u001b[1;32m    114\u001b[0m                              'implies %d' % (len(self.values),\n\u001b[0;32m--> 115\u001b[0;31m                                              len(self.mgr_locs)))\n\u001b[0m\u001b[1;32m    116\u001b[0m \u001b[0;34m\u001b[0m\u001b[0m\n\u001b[1;32m    117\u001b[0m     \u001b[0;34m@\u001b[0m\u001b[0mproperty\u001b[0m\u001b[0;34m\u001b[0m\u001b[0m\n",
      "\u001b[0;31mValueError\u001b[0m: Wrong number of items passed 5, placement implies 11"
     ]
    },
    {
     "data": {
      "image/png": "[encoded data removed]",
      "text/plain": [
       "<matplotlib.figure.Figure at 0x11a2904d0>"
      ]
     },
     "metadata": {},
     "output_type": "display_data"
    }
   ],
   "source": [
    "ax = eval['Rushing Yards'].plot()\n",
    "model.plot_predict(1, 5, ax=ax, plot_insample=False);"
   ]
  },
  {
   "cell_type": "code",
   "execution_count": 52,
   "metadata": {
    "collapsed": false,
    "deletable": true,
    "editable": true
   },
   "outputs": [
    {
     "data": {
      "image/png": "[encoded data removed]",
      "text/plain": [
       "<matplotlib.figure.Figure at 0x11a72da10>"
      ]
     },
     "metadata": {},
     "output_type": "display_data"
    }
   ],
   "source": [
    "model.plot_predict(1, 2);"
   ]
  },
  {
   "cell_type": "markdown",
   "metadata": {
    "deletable": true,
    "editable": true
   },
   "source": [
    "### Vizualize Important Components of the Data and Some Key Covariates + Cleanup"
   ]
  },
  {
   "cell_type": "markdown",
   "metadata": {
    "deletable": true,
    "editable": true
   },
   "source": [
    "#### RB Analysis"
   ]
  },
  {
   "cell_type": "code",
   "execution_count": 53,
   "metadata": {
    "collapsed": false,
    "deletable": true,
    "editable": true
   },
   "outputs": [],
   "source": [
    "# print(rb.shape)\n",
    "# rb.describe()"
   ]
  },
  {
   "cell_type": "code",
   "execution_count": 54,
   "metadata": {
    "collapsed": false,
    "deletable": true,
    "editable": true,
    "scrolled": true
   },
   "outputs": [],
   "source": [
    "# rb.dtypes"
   ]
  },
  {
   "cell_type": "code",
   "execution_count": 55,
   "metadata": {
    "collapsed": false,
    "deletable": true,
    "editable": true
   },
   "outputs": [],
   "source": [
    "# #side by side violins of height and weight\n",
    "\n",
    "# sns.factorplot(\n",
    "#     y='Height (inches)',\n",
    "#     data=rb, \n",
    "#     kind='box'\n",
    "# );\n",
    "\n",
    "# #the measurer esitmates the players height to the half inch most of the time\n",
    "# #and to the quarter inch less frequently, so there are dips in between\n",
    "# #this makes the violin less helpful so switching to box instead"
   ]
  },
  {
   "cell_type": "code",
   "execution_count": 56,
   "metadata": {
    "collapsed": false,
    "deletable": true,
    "editable": true
   },
   "outputs": [],
   "source": [
    "# sns.factorplot(\n",
    "#     y='Weight (lbs)',\n",
    "#     data=rb, \n",
    "#     kind='box'\n",
    "# );\n",
    "\n",
    "##similar to height, measurers round to 5 lbs in some instances\n",
    "##this makes the violin less helpful so switching to box instead"
   ]
  },
  {
   "cell_type": "code",
   "execution_count": 57,
   "metadata": {
    "collapsed": false,
    "deletable": true,
    "editable": true
   },
   "outputs": [],
   "source": [
    "# rb_college_counts = rb.College.value_counts()\n",
    "# rb_college_counts.head(3)"
   ]
  },
  {
   "cell_type": "code",
   "execution_count": 58,
   "metadata": {
    "collapsed": false,
    "deletable": true,
    "editable": true
   },
   "outputs": [],
   "source": [
    "# rb_college_counts[:20].plot(kind='bar')"
   ]
  },
  {
   "cell_type": "code",
   "execution_count": 59,
   "metadata": {
    "collapsed": false,
    "deletable": true,
    "editable": true
   },
   "outputs": [],
   "source": [
    "# #visualize the relationship between the features and the response using scatterplots\n",
    "\n",
    "# fig, axs = plt.subplots(1, 2, sharey=True)\n",
    "# rb.plot(kind='scatter', x='Rushing Yards', y='Rushing Attempts', ax=axs[0], figsize=(16, 8))\n",
    "# rb.plot(kind='scatter', x='Rushing TDs', y='Rushing Attempts', ax=axs[1]);"
   ]
  },
  {
   "cell_type": "code",
   "execution_count": 60,
   "metadata": {
    "collapsed": false,
    "deletable": true,
    "editable": true
   },
   "outputs": [],
   "source": [
    "# fig, axs = plt.subplots(1, 2, sharey=True)\n",
    "# rb.plot(kind='scatter', x='Rushing Yards', y='Yards Per Carry', ax=axs[0], figsize=(16, 8))\n",
    "# rb.plot(kind='scatter', x='Rushing TDs', y='Yards Per Carry', ax=axs[1]);"
   ]
  },
  {
   "cell_type": "code",
   "execution_count": 61,
   "metadata": {
    "collapsed": false,
    "deletable": true,
    "editable": true
   },
   "outputs": [],
   "source": [
    "# #visualize the relationship between the features and the response using scatterplots\n",
    "\n",
    "# fig, axs = plt.subplots(1, 2, sharey=True)\n",
    "# rb.plot(kind='scatter', x='Rushing Yards', y='Experience', ax=axs[0], figsize=(16, 8))\n",
    "# rb.plot(kind='scatter', x='Rushing TDs', y='Experience', ax=axs[1]);"
   ]
  },
  {
   "cell_type": "markdown",
   "metadata": {
    "deletable": true,
    "editable": true
   },
   "source": [
    "#### WR Analysis"
   ]
  },
  {
   "cell_type": "code",
   "execution_count": 62,
   "metadata": {
    "collapsed": false,
    "deletable": true,
    "editable": true
   },
   "outputs": [],
   "source": [
    "# print(wr.shape)\n",
    "# wr.describe()\n",
    "\n",
    "# #may have to eliminate running backs without a minimum number of rushing attempts\n",
    "# #currently all numbers are skewed by 0s from rb's without a lot of playing time"
   ]
  },
  {
   "cell_type": "code",
   "execution_count": 63,
   "metadata": {
    "collapsed": false,
    "deletable": true,
    "editable": true
   },
   "outputs": [],
   "source": [
    "# wr.dtypes"
   ]
  },
  {
   "cell_type": "code",
   "execution_count": 64,
   "metadata": {
    "collapsed": false,
    "deletable": true,
    "editable": true
   },
   "outputs": [],
   "source": [
    "# #side by side violins of height and weight\n",
    "\n",
    "# sns.factorplot(\n",
    "#     y='Height (inches)',\n",
    "#     data=wr, \n",
    "#     kind='box'\n",
    "# );\n",
    "\n",
    "# #the measurer estimates the players height to the half inch most of the time\n",
    "# #and to the quarter inch less frequently, so there are dips in between\n",
    "# #this makes the violin less helpful so switching to box instead"
   ]
  },
  {
   "cell_type": "code",
   "execution_count": 65,
   "metadata": {
    "collapsed": false,
    "deletable": true,
    "editable": true
   },
   "outputs": [],
   "source": [
    "# #side by side violins of height and weight\n",
    "\n",
    "# sns.factorplot(\n",
    "#     y='Weight (lbs)',\n",
    "#     data=wr, \n",
    "#     kind='box'\n",
    "# );\n",
    "\n",
    "# #similar to height, measurers round to 5 lbs in some instances\n",
    "# #this makes the violin less helpful so switching to box instead"
   ]
  },
  {
   "cell_type": "code",
   "execution_count": 66,
   "metadata": {
    "collapsed": false,
    "deletable": true,
    "editable": true
   },
   "outputs": [],
   "source": [
    "# wr_college_counts = wr.College.value_counts()\n",
    "# wr_college_counts.head(3)"
   ]
  },
  {
   "cell_type": "code",
   "execution_count": 67,
   "metadata": {
    "collapsed": false,
    "deletable": true,
    "editable": true
   },
   "outputs": [],
   "source": [
    "# wr_college_counts[:20].plot(kind='bar')"
   ]
  },
  {
   "cell_type": "code",
   "execution_count": 68,
   "metadata": {
    "collapsed": false,
    "deletable": true,
    "editable": true
   },
   "outputs": [],
   "source": [
    "# #visualize the relationship between the features and the response using scatterplots\n",
    "\n",
    "# fig, axs = plt.subplots(1, 2, sharey=True)\n",
    "# wr.plot(kind='scatter', x='Receiving Yards', y='Receptions', ax=axs[0], figsize=(16, 8))\n",
    "# wr.plot(kind='scatter', x='Receiving TDs', y='Receptions', ax=axs[1]);"
   ]
  },
  {
   "cell_type": "code",
   "execution_count": 69,
   "metadata": {
    "collapsed": false,
    "deletable": true,
    "editable": true
   },
   "outputs": [],
   "source": [
    "# fig, axs = plt.subplots(1, 2, sharey=True)\n",
    "# wr.plot(kind='scatter', x='Receiving Yards', y='Yards Per Reception', ax=axs[0], figsize=(16, 8))\n",
    "# wr.plot(kind='scatter', x='Receiving TDs', y='Yards Per Reception', ax=axs[1]);"
   ]
  },
  {
   "cell_type": "code",
   "execution_count": 70,
   "metadata": {
    "collapsed": false,
    "deletable": true,
    "editable": true
   },
   "outputs": [],
   "source": [
    "# fig, axs = plt.subplots(1, 2, sharey=True)\n",
    "# wr.plot(kind='scatter', x='Receiving Yards', y='Experience', ax=axs[0], figsize=(16, 8))\n",
    "# wr.plot(kind='scatter', x='Receiving TDs', y='Experience', ax=axs[1]);"
   ]
  },
  {
   "cell_type": "markdown",
   "metadata": {
    "deletable": true,
    "editable": true
   },
   "source": [
    "#### Show Changes in Rush Attempt vs. Reception Frequency Year over Year"
   ]
  },
  {
   "cell_type": "code",
   "execution_count": 71,
   "metadata": {
    "collapsed": false,
    "deletable": true,
    "editable": true
   },
   "outputs": [],
   "source": [
    "# wr.groupby(['Year']).aggregate({\"Receptions\":np.mean}).plot()"
   ]
  },
  {
   "cell_type": "code",
   "execution_count": 72,
   "metadata": {
    "collapsed": false,
    "deletable": true,
    "editable": true
   },
   "outputs": [],
   "source": [
    "# (1.78-1.42)/1.42\n",
    "# #% change between receptions in 1980 and 2016"
   ]
  },
  {
   "cell_type": "code",
   "execution_count": 73,
   "metadata": {
    "collapsed": false,
    "deletable": true,
    "editable": true
   },
   "outputs": [],
   "source": [
    "# rb.groupby(['Year']).aggregate({\"Rushing Attempts\":np.mean}).plot()"
   ]
  },
  {
   "cell_type": "code",
   "execution_count": 74,
   "metadata": {
    "collapsed": false,
    "deletable": true,
    "editable": true
   },
   "outputs": [],
   "source": [
    "# (4.88-5.67)/4.88\n",
    "# #% change between rushing attempts in 1980 and 2016"
   ]
  },
  {
   "cell_type": "code",
   "execution_count": null,
   "metadata": {
    "collapsed": true,
    "deletable": true,
    "editable": true
   },
   "outputs": [],
   "source": []
  }
 ],
 "metadata": {
  "kernelspec": {
   "display_name": "Python 2",
   "language": "python",
   "name": "python2"
  },
  "language_info": {
   "codemirror_mode": {
    "name": "ipython",
    "version": 2
   },
   "file_extension": ".py",
   "mimetype": "text/x-python",
   "name": "python",
   "nbconvert_exporter": "python",
   "pygments_lexer": "ipython2",
   "version": "2.7.13"
  }
 },
 "nbformat": 4,
 "nbformat_minor": 2
}
