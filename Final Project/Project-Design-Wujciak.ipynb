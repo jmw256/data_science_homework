{
 "cells": [
  {
   "cell_type": "markdown",
   "metadata": {},
   "source": [
    "# Wujciak Final Project - Project Design Writeup"
   ]
  },
  {
   "cell_type": "markdown",
   "metadata": {},
   "source": [
    "### Project Problem and Hypothesis"
   ]
  },
  {
   "cell_type": "markdown",
   "metadata": {},
   "source": [
    "#### The purpose of this project is to use current statistics from National Football League players to predict touchdown and yardage statistics in the following year. This could inform decisions when playing fantasy football.\n",
    "\n",
    "#### For rb's I hypothesize that rushing attempts in the prior year will have the most significant impact on touchdown and yardage totals in the following year. Additionally, yard per carry in preseason games will also be a good indicator of touchdown and yardage totals in the same year. Rb's with the highest number of rushing attempts in the prior year and highest ypc in the current year will have the highest touchdown and yardage totals in the target year.\n",
    "\n",
    "#### For wr's I hypothesize that recpetions in the prior year will have the most significant impact on touchdown and yardage totals in the following year. Additionally, yard per reception in preseason games will also be a good indicator of touchdown and yardage totals in the same year. Wr's with the highest number of receptions in the prior year and ypc closest to the league average in the current year will have the highest touchdown and yardage totals in the target year."
   ]
  },
  {
   "cell_type": "markdown",
   "metadata": {},
   "source": [
    "### Datasets"
   ]
  },
  {
   "cell_type": "markdown",
   "metadata": {},
   "source": [
    "#### The dataset is from Kaggle. We will evaluate 1980 through 2016, as we will consider this the modern era of football (a few years after the season was extended from 13 to 16 games and an influx of hall of fame quarterbacks shifted the focus from running to passing, as we know the game today). Note: both RB's and WR's can receive a rushing attempt or reception."
   ]
  },
  {
   "cell_type": "markdown",
   "metadata": {},
   "source": [
    "| Column | Datatype | Variable Type | Description |\n",
    "|---|---|---|---|\n",
    "| Position | object | categorical | Assumed to be RB or WR depending on dataframe|\n",
    "| Year | int64 | continuous, 1980-2016 | The year from which the stats were recorded |\n",
    "| Season | object | categorical | Preseason, Regular Season, or Postseason |\n",
    "| Week | int64 | continuous, 1-17 | The week within the season from which the stats were recorded |\n",
    "| Game Date | object | continuous | The date of the game from which the stats were recorded |\n",
    "| Home or Away | object | categorical | Whether the game was played at Home or Away |\n",
    "| Opponent | object | categorical | The abbreviation for the opposing team |\n",
    "| Outcome | object | categorical | W or L |\n",
    "| Score | object | string | Final Score of the game |\n",
    "| Games Played | int64 | continuous | Games the player appeared in, including pre regular and post seasons |\n",
    "| Games Started | int64 | continuous | Games the player appeared in |\n",
    "| Receptions | int64 | continuous | Times the player caught the ball |\n",
    "| Receiving Yards | int64 |  continuous | Yards gained by the player through receptions |\n",
    "| Yards Per Reception | float64 |  continuous | Receiving Yards / Receptions |\n",
    "| Longest Reception | int64 |  continuous | Yards gained by the player on the player's longest reception |\n",
    "| Receiving TDs | int64 |  continuous | Number of touchdowns by the player from receptions |\n",
    "| Rushing Attempts | int64 |  continuous | Number of times the player ran the ball |\n",
    "| Rushing Yards | int64 |  continuous | Yards gained by the player on rushing attempts |\n",
    "| Yards Per Carry | float64 |  continuous | Rushing Yards / Rushing Attempts |\n",
    "| Longest Rushing Run | int64 |  continuous | Yards gained by the player on the player's longest rushing attempt |\n",
    "| Rushing TDs | int64 |  continuous | Number of touchdowns by the player from receptions |\n",
    "| Fumbles | int64 |  continuous | Times dropping the ball, giving the opposing team opportunity to gain possession |\n",
    "| Fumbles Lost | int64 |  continuous | Times the opposing team did gain possession from the player's fumbles |\n",
    "| Age | float64 |  continuous | Player's age in years |\n",
    "| College | object |  continuous | University the player attended prior to NFL |\n",
    "| Current Team | object |  continuous | Team for which player played |\n",
    "| Height (inches) | float64 |  continuous | Player's height in inches |\n",
    "| Weight (lbs) | float64 |  continuous | Player's weight in pounds |\n",
    "| Experience | int64 |  continuous | Years the player played in the NFL prior to the current season |"
   ]
  },
  {
   "cell_type": "markdown",
   "metadata": {},
   "source": [
    "### Domain Knowledge"
   ]
  },
  {
   "cell_type": "markdown",
   "metadata": {},
   "source": [
    "#### Several years of fantasy football experience and a lifelong football fan. This gives me baseline understanding of what metrics might be important to player success. However qualitative knowledge of a player may also lead to bias as some \"star\" players may not necessarily perform up to standards quantitatively. However, due to the limits in our data there may be an explanation for a players success or failings that cannot be gleaned from this study, but only through historical knowledge of the NFL. Several colleagues have attempt to create similar models in excel but have not seen success in fantasy fooball leagues."
   ]
  },
  {
   "cell_type": "markdown",
   "metadata": {},
   "source": [
    "### Concerns"
   ]
  },
  {
   "cell_type": "markdown",
   "metadata": {},
   "source": [
    "#### I am not sure how well one week will correlate to another in the prior year. For example, it is hard to isolate one game from 2015 and say that it is similar to 2016. The defense a player encounters is as important to a player's success or lack thereof as is the week in which the player is playing and if he has encountered injuries throughout the season. I am also concerned that some of the most important metrics are not included in any dataset I could find.\n",
    "\n",
    "#### Outside of this model I have a suspicion that the number of targets a player receives (number of times a QB throws to a player, regardless of whether or not it turns into a reception) is a strong indicator of a player's chemistry with their quarterback. The average depth of target is also illuminating in that it shows whether a player is running high risk, righ reward routes, thus making the player's production volatile. The yards after catch is a strong indicator of a players individual ability to gain yards or touchdowns despite the ability of the rest of the offense. As is yards after contact, average missed tackles or average broken tackles, to be more granular. Average yards of first contanct is a good indicator of the strength of a running backs offensive line. There is no column for whether a player is working with a new coach, or if a player is coming off physical rehabilitation or if they are suspended for violating laws or league rules. All of these have significant impacts on a players ability to produce touchdown and yards and are not included in our dataset.\n",
    "\n",
    "#### Since this model will only inform my own fantasy football decisions it could win or lose me money based on its correctness. In any case, I intend to mix qualitative analysis with the results of this model, leveraging it more heavily when I am uncertain.\n",
    "\n",
    "#### Data from earlier in the dataset may be incomplete. 0s may be genuine or simply the absence of a correct datapoint."
   ]
  },
  {
   "cell_type": "markdown",
   "metadata": {},
   "source": [
    "## Outcomes"
   ]
  },
  {
   "cell_type": "markdown",
   "metadata": {},
   "source": [
    "#### I expect to be able to input a players name, who played in 2016 and get a predicted # of yards and touchdowns for the 2017 regular season, along with a confidence level on this prediction. Maybe see a ceiling and floor for each player's touchdowns and yards. My audience is me. If I could inform just one fantasy football decision each year, that I am uncertain about, and have it be successful (e.g. pick on player over a similar player and have my player produce more touchdowns and yards than the other) I would consider this a success of the model. If the model is a bust, I will return to a system of mostly qualitative analysis of players. It has worked alright so far! I do not think this model needs to be extremely complex. It is mostly a challenge of manipulating the data and applying some regression models to metrics that have high autocorrelation year over year."
   ]
  },
  {
   "cell_type": "markdown",
   "metadata": {},
   "source": []
  },
  {
   "cell_type": "markdown",
   "metadata": {},
   "source": []
  }
 ],
 "metadata": {
  "kernelspec": {
   "display_name": "Python 2",
   "language": "python",
   "name": "python2"
  },
  "language_info": {
   "codemirror_mode": {
    "name": "ipython",
    "version": 2
   },
   "file_extension": ".py",
   "mimetype": "text/x-python",
   "name": "python",
   "nbconvert_exporter": "python",
   "pygments_lexer": "ipython2",
   "version": "2.7.13"
  }
 },
 "nbformat": 4,
 "nbformat_minor": 2
}
